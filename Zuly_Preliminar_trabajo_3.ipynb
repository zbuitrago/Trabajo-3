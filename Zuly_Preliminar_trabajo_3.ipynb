{
  "nbformat": 4,
  "nbformat_minor": 0,
  "metadata": {
    "colab": {
      "name": "Zuly Preliminar trabajo 3.ipynb",
      "provenance": [],
      "collapsed_sections": [],
      "toc_visible": true,
      "authorship_tag": "ABX9TyNgFMY5vOkTyxhJc3C9dHsI",
      "include_colab_link": true
    },
    "kernelspec": {
      "name": "python3",
      "display_name": "Python 3"
    }
  },
  "cells": [
    {
      "cell_type": "markdown",
      "metadata": {
        "id": "view-in-github",
        "colab_type": "text"
      },
      "source": [
        "<a href=\"https://colab.research.google.com/github/zbuitrago/Trabajo-3/blob/main/Zuly_Preliminar_trabajo_3.ipynb\" target=\"_parent\"><img src=\"https://colab.research.google.com/assets/colab-badge.svg\" alt=\"Open In Colab\"/></a>"
      ]
    },
    {
      "cell_type": "markdown",
      "metadata": {
        "id": "shYeIInI-RtG"
      },
      "source": [
        "# **Fundamentos de programación para analítica de datos.**\n",
        ">>**Maestría en Analítica de Datos**\n",
        "\n",
        ">>**Facultad de Ingeniería y Ciencias Básicas.**\n",
        "\n",
        ">>**Universidad Central  2020 - II**\n",
        "\n",
        ">>**Presentación Trabajo 3: Calidad de los datos**\n",
        "\n",
        "\n",
        ">>**Integrantes:**\n",
        "\n",
        "> > Zuly Buitrago Castillo\n",
        "\n",
        "> > Jennifer Prada Urbina,\n",
        "\n",
        "> > Oscar Ochoa Bueno\n",
        "\n",
        ">>**Contenido:**\n",
        "1. Requerimiento\n",
        "2. Desarrollo e implentacion\n",
        "  *   Desarrollo lógico\n",
        "  *   Código implentado\n",
        "  *   Análisis\n",
        "3. Conclusiónes\n"
      ]
    },
    {
      "cell_type": "markdown",
      "metadata": {
        "id": "JHYRCMxH_Xq-"
      },
      "source": [
        "#**1 .Requerimiento**\n",
        "#Trabajo 3 - Calidad de los datos\n",
        "\n",
        "\n",
        "Se debe realizar el ejercicio grupal de la práctica desarrollada en la semana 11,\n",
        "correspondiente a Calidad de los datos . A continuación se enumeran las actividades del\n",
        "ejercicio que se debe realizar tomando como base el archivo examen3.xlsx (adjunto).\n",
        "1. Hacer una función que crea un dataframe a partir de los atributos de los datos de\n",
        "entrada examen3.xlsx , los cuales son:\n",
        "a. Nombre de la columna del dataframe de entrada\n",
        "b. Tipo de dato (incluido: int, float, string, datetime, boolean)\n",
        "c. Tipo de variable (Continua, numérica discreta, categórica)\n",
        "d. Cantidad de valores únicos\n",
        "e. Cantidad de valores nulos\n",
        "f. Valor que más se repite\n",
        "g. Frecuencia del valor que más se repite\n",
        "h. Valor máximo\n",
        "i. Valor mínimo\n",
        "2. Analice el tipo de dato de cada columna para saber si es el correcto. Si no lo es,\n",
        "determine los valores que generan problemas y clasifique los tipos de problemas\n",
        "que aparecen. Luego cree una función que corrija los valores erróneos, y finalmente,\n",
        "verifique que queda el tipo correcto en cada columna. Reporte los datos que cambió.\n",
        "3. Haga una gráfica de distribución univariada por cada columna. En caso de tener una\n",
        "variable categórica y si la cantidad de valores únicos es menor a la raíz cuadrada de\n",
        "la cantidad de registros, haga una gráfica de barras de mayor a menor de la\n",
        "frecuencia de cada categoría. La gráfica con un máximo de hasta 20 barras y el\n",
        "resto se agrupan en una sola barra llamada “ otras ”. Analice cada una de las gráficas.\n",
        "4. Para las variables numéricas, haga un mapa de correlación y analice qué variables\n",
        "tienen una fuerte relación. Luego, haga un gráfico de distribución bivariada con las\n",
        "columnas que tienen una fuerte relación y use esto para deducir reglas entre las\n",
        "variables.\n",
        "5. Para las variables categóricas y ordinales busque relaciones de jerarquía entre las\n",
        "clases. Si hay relación entre las categorías pinte un árbol mostrando esta.\n",
        "Finalmente, deduzca las reglas de relación entre las variables.\n",
        "6. Haga un análisis de los valores faltantes, determine si se presenta algún problema\n",
        "de integridad con la ausencia de los datos. Si es así, use las reglas definidas entre\n",
        "las variables para rellenar con el dato apropiado. Reporte los cambios.\n",
        "7. Analice la ocurrencia de datos duplicados con todos los atributos y con las\n",
        "columnas: {IDE, curso, créditos}. Evalúe si es necesario eliminar registros duplicados para mejorar la calidad de los datos, en tal caso proceda a eliminarlos y reporte las\n",
        "acciones realizadas.\n",
        "8. Identifique, analice y si es posible corrija valores atípicos encontrados en las\n",
        "columnas. Reporte los cambios realizados.\n",
        "9. Teniendo en cuenta el siguiente problema: \" Analizar el desempeño de los\n",
        "estudiantes en el examen y el resto del semestre, relacionado con el profesor, el\n",
        "grupo, el programa académico, y la jornada \" determine e indique qué filas y\n",
        "columnas no son relevantes para este análisis y se pueden filtrar. Finalmente,\n",
        "genere el dataframe depurado con la mejor calidad que se pudo obtener para la\n",
        "tarea que se plantea en este punto.\n",
        "10. Genere conclusiones acerca de todo el proceso de calidad de datos aplicado a la\n",
        "base entregada. Haga una evaluación de la calidad del resultado final y haga\n",
        "recomendaciones para hacer este proceso en el futuro.\n"
      ]
    },
    {
      "cell_type": "markdown",
      "metadata": {
        "id": "birHemXFa0QX"
      },
      "source": [
        "#**2 .Desarrollo  e implementación**\n"
      ]
    },
    {
      "cell_type": "markdown",
      "metadata": {
        "id": "gD_GlkhSb_i2"
      },
      "source": [
        "## **2.1. Función de Dataframe de atributos**\n",
        "\n",
        "> Se requiere crea un dataframe que describa los atributos del archivo de entrada **examen3.xlsx** \n"
      ]
    },
    {
      "cell_type": "markdown",
      "metadata": {
        "id": "zUwZjh9Bjh5X"
      },
      "source": [
        "### **Desarrollo lógico**\n",
        "\n",
        "1 . Carga de archivo *examen3.xlsx* \n",
        "\n",
        "2 . Definir una función que reciba el dataframe de entrada y retorne un dataframe con los atributos especificados\n",
        "\n",
        "> 2.1. Crear un dataframe. Donde cada columna tomará el nombre de uno de los nueve atributos solicidados en punto 1\n",
        "\n",
        "> 2.2. Iterar el dataframe de entrada para obtener el nombre de la columna y la data por cada columna\n",
        "\n",
        ">2.3. Definir una función que reciba el nombre y data por columna y que retorne un arreglo con los atributos evaluados\n",
        "\n",
        ">>2.3.1. Definir un arreglo para almacenar el resultado por cada atributo evaluado\n",
        "\n",
        ">>2.3.2. Obtener el nombre de la columna\n",
        "\n",
        ">>2.3.3. Evaluar el tipo de dato por columna \n",
        "\n",
        ">>2.3.4. Evaluar el tipo de variable por columna\n",
        "\n",
        ">>2.3.5. Determinar valores únicos por columna\n",
        "\n",
        ">>2.3.6. Determinar valores nulos por columna\n",
        "\n",
        ">>2.3.7. Determinar el valor que más se repite \n",
        "\n",
        ">>2.3.8. Determinar la frecuencia del valor que más se repite\n",
        "\n",
        ">>2.3.9. Evaluar el valor máximo y mínimo por columna.tener presente el tipo de dato y para las columnas que no son de tipo númerico asignar valor de no aplica -->*NA* \n",
        "\n",
        "> 2.4. Asignar data evaluada en el dataframe de atributos a la columna correspondiente de cada valor\n",
        "\n",
        ">2.5. Retornar dataframe de attributos\n",
        "\n",
        "\n"
      ]
    },
    {
      "cell_type": "markdown",
      "metadata": {
        "id": "NrruDvKmxgHR"
      },
      "source": [
        "1. "
      ]
    },
    {
      "cell_type": "markdown",
      "metadata": {
        "id": "ggb17NC9jhn0"
      },
      "source": [
        "###**Código Implementado**"
      ]
    },
    {
      "cell_type": "code",
      "metadata": {
        "id": "c_rbSj31FTAI"
      },
      "source": [
        ""
      ],
      "execution_count": null,
      "outputs": []
    },
    {
      "cell_type": "markdown",
      "metadata": {
        "id": "HIFKi6inERVE"
      },
      "source": [
        "### importar data"
      ]
    },
    {
      "cell_type": "code",
      "metadata": {
        "id": "E-w7F-ETZge5"
      },
      "source": [
        "# Librerias \n",
        "import pandas as pd\n",
        "import numpy as np\n",
        "import datetime\n",
        "import seaborn as sns\n",
        "import plotly.express as px\n",
        "import matplotlib.pyplot as plt\n",
        "import plotly.graph_objects as go\n",
        "from pylab import *\n",
        "from scipy import stats\n",
        "import statistics\n",
        "from scipy.stats import mode\n",
        "from numpy import nan\n",
        "from datetime import datetime\n",
        "from plotly.subplots import make_subplots\n",
        "\n",
        "# importar archivo\n",
        "df = pd.read_excel('examen3.xlsx')\n"
      ],
      "execution_count": 63,
      "outputs": []
    },
    {
      "cell_type": "code",
      "metadata": {
        "id": "TrI140umX1PP"
      },
      "source": [
        "def create_attribute_df(df):\n",
        "  '''create_attribute_df: función que crea dataframe con atributos de dataframe entrante \n",
        "                  Argumentos:\n",
        "                        df:(Requerido) recibe dataframe  \n",
        "                         \n",
        "                  Retorno: \n",
        "                        attribute_df: dataframe resultante por cada fila tiene la evaluación de cada atributo especificado a continuación:\n",
        "                            column_names: nombre de la columna\n",
        "                            data_type: tipo de dato expresado ( int, float, string, datetime, boolean)\n",
        "                            variable_type : clasificación de variable en:Continua, numérica discreta, categórica\n",
        "                            quantity_unique_values:Cantidad de valores únicos\n",
        "                            quantity_null_values: Cantidad de valores nulos\n",
        "                            most_repeated_value:Valor que más se repite \n",
        "                            frec_most_repeated_value: Frecuencia del valor que más se repite\n",
        "                            max_value:Valor máximo\n",
        "                            min_value:Valor mínimo\n",
        "                         ''' \n",
        "\n",
        "  # Crear dataframe con los atributos solicitados \n",
        "  attribute_df = pd.DataFrame(columns=['column_names','data_type','variable_type','quantity_unique_values','quantity_null_values','most_repeated_value','frec_most_repeated_value','max_value','min_value'])\n",
        "  # Recorrer el dataframe por columnas y obtener la data de cada una\n",
        "  for (columnname,columndata) in df.iteritems():\n",
        "    # Capturar los valores calculados\n",
        "    data=get_column_data(columnname,columndata)\n",
        "    # identificar el siguiente index \n",
        "    attribute_df_length=len(attribute_df)\n",
        "    # asignar datos al ultimo index \n",
        "    attribute_df.loc[attribute_df_length]=data\n",
        "  #display(attribute_df)\n",
        "  return attribute_df\n",
        " \n",
        "  \n",
        "  \n",
        "def get_column_data(columnname,columndata): \n",
        "  '''get_column_data: función que crea un arreglo resultado \n",
        "                  Argumentos:\n",
        "                        columnname:(Requerido) recibe el nombre de la columna\n",
        "                        columndata:(Requerido) recibe los datos de la columna\n",
        "                         \n",
        "                  Retorno: \n",
        "                        attributes: es un arreglo donde cada posición es el resultado de la evaluación de un atributo, descripción por posición\n",
        "                            [0]=column_names : nombre de la columna\n",
        "                            [1]=data_type: tipo de dato expresado ( int, float, string, datetime, boolean)\n",
        "                            [2]=variable_type : clasificación de variable en:Continua, numérica discreta, categórica\n",
        "                            [3]=quantity_unique_values:Cantidad de valores únicos\n",
        "                            [4]=quantity_null_values: Cantidad de valores nulos\n",
        "                            [5]=most_repeated_value:Valor que más se repite \n",
        "                            [6]=frec_most_repeated_value: Frecuencia del valor que más se repite\n",
        "                            [7]=max_value:Valor máximo\n",
        "                            [8]=min_value:Valor mínimo\n",
        "                         ''' \n",
        "\n",
        "  # Definir arreglo \n",
        "  attributes=[]\n",
        "  # Capturar nombre de la columna\n",
        "  attributes.append(columnname)\n",
        "  # tipo de dato\n",
        "  attributes.append(get_column_type(columndata))\n",
        "  # tipo de variable\n",
        "  attributes.append(get_varible_type(get_column_type(columndata)))\n",
        "  # Valores unicos\n",
        "  attributes.append(len(columndata.unique()))\n",
        "  # Valores nulos\n",
        "  attributes.append(len(columndata[columndata.isnull()]))\n",
        "  # Valor que mas se repite\n",
        "  attributes.append(columndata.value_counts().idxmax())\n",
        "  # Frecuencia del valor que mas se repite\n",
        "  attributes.append(columndata.value_counts().max())\n",
        "  # Valor máximo \n",
        "  if get_column_type(columndata)!='string':\n",
        "    \n",
        "    attributes.append(max(columndata))\n",
        "  # Valor mínimo\n",
        "    attributes.append(min(columndata))\n",
        "  elif get_column_type(columndata)=='string':\n",
        "    attributes.append('NA')\n",
        "    attributes.append('NA')\n",
        "\n",
        "  return attributes\n",
        "\n",
        "def get_column_type(columndata): \n",
        "  '''get_column_type: función evalua el tipo de dato y lo normaliza \n",
        "                  Argumentos:\n",
        "                        columndata:(Requerido) recibe los datos de la columna                       \n",
        "                  Retorno: \n",
        "                        columntypef: string que especifica el tipo de dato normalizado\n",
        "                         ''' \n",
        "  # Determinar el tipo de dato por columna\n",
        "  columntype=columndata.dtypes\n",
        "  columntypef=''\n",
        "  # Renombrar el tipo de dato \n",
        "  if columntype=='int64':\n",
        "    columntypef='int'\n",
        "  if columntype =='float64':\n",
        "    columntypef='float'\n",
        "  if columntype=='bool':\n",
        "    columntypef='boolean'\n",
        "  if columntype =='datetime64[ns]':\n",
        "    columntypef='datetime'\n",
        "  if columntype =='object':\n",
        "    columntypef='string'\n",
        "  \n",
        "      \n",
        "  return columntypef\n",
        "\n",
        "def get_varible_type (datatype):\n",
        "  '''get_varible_type: función que retorna el tipo de variable según el tipo de dato de la columna \n",
        "                  Argumentos:\n",
        "                        datatype:(Requerido) recibe el tipo de dato de la columna                       \n",
        "                  Retorno: \n",
        "                        datatype: string que especifica el tipo de variable \n",
        "                         ''' \n",
        "  # clasificación de tipo de variable \n",
        "  if datatype=='int': return 'Discreta'\n",
        "  if datatype=='float' or datatype=='datetime': return 'Continua'\n",
        "  if datatype=='boolean': return 'Cualitativa Dicotomica'\n",
        "  if datatype=='string': return 'Categorica'\n",
        "\n"
      ],
      "execution_count": 2,
      "outputs": []
    },
    {
      "cell_type": "code",
      "metadata": {
        "colab": {
          "base_uri": "https://localhost:8080/",
          "height": 1000
        },
        "id": "ZlGXdQ9Gtsyf",
        "outputId": "38eb54c7-e514-42a7-9cf2-3f2e56e12ef6"
      },
      "source": [
        "create_attribute_df(df)"
      ],
      "execution_count": 3,
      "outputs": [
        {
          "output_type": "execute_result",
          "data": {
            "text/html": [
              "<div>\n",
              "<style scoped>\n",
              "    .dataframe tbody tr th:only-of-type {\n",
              "        vertical-align: middle;\n",
              "    }\n",
              "\n",
              "    .dataframe tbody tr th {\n",
              "        vertical-align: top;\n",
              "    }\n",
              "\n",
              "    .dataframe thead th {\n",
              "        text-align: right;\n",
              "    }\n",
              "</style>\n",
              "<table border=\"1\" class=\"dataframe\">\n",
              "  <thead>\n",
              "    <tr style=\"text-align: right;\">\n",
              "      <th></th>\n",
              "      <th>column_names</th>\n",
              "      <th>data_type</th>\n",
              "      <th>variable_type</th>\n",
              "      <th>quantity_unique_values</th>\n",
              "      <th>quantity_null_values</th>\n",
              "      <th>most_repeated_value</th>\n",
              "      <th>frec_most_repeated_value</th>\n",
              "      <th>max_value</th>\n",
              "      <th>min_value</th>\n",
              "    </tr>\n",
              "  </thead>\n",
              "  <tbody>\n",
              "    <tr>\n",
              "      <th>0</th>\n",
              "      <td>IDE</td>\n",
              "      <td>int</td>\n",
              "      <td>Discreta</td>\n",
              "      <td>617</td>\n",
              "      <td>0</td>\n",
              "      <td>1615</td>\n",
              "      <td>2</td>\n",
              "      <td>2116</td>\n",
              "      <td>1500</td>\n",
              "    </tr>\n",
              "    <tr>\n",
              "      <th>1</th>\n",
              "      <td>programa</td>\n",
              "      <td>string</td>\n",
              "      <td>Categorica</td>\n",
              "      <td>7</td>\n",
              "      <td>0</td>\n",
              "      <td>Ingeniería Ambiental</td>\n",
              "      <td>236</td>\n",
              "      <td>NA</td>\n",
              "      <td>NA</td>\n",
              "    </tr>\n",
              "    <tr>\n",
              "      <th>2</th>\n",
              "      <td>IDG</td>\n",
              "      <td>string</td>\n",
              "      <td>Categorica</td>\n",
              "      <td>33</td>\n",
              "      <td>0</td>\n",
              "      <td>G9</td>\n",
              "      <td>24</td>\n",
              "      <td>NA</td>\n",
              "      <td>NA</td>\n",
              "    </tr>\n",
              "    <tr>\n",
              "      <th>3</th>\n",
              "      <td>corte1</td>\n",
              "      <td>float</td>\n",
              "      <td>Continua</td>\n",
              "      <td>11</td>\n",
              "      <td>0</td>\n",
              "      <td>4</td>\n",
              "      <td>146</td>\n",
              "      <td>5</td>\n",
              "      <td>0</td>\n",
              "    </tr>\n",
              "    <tr>\n",
              "      <th>4</th>\n",
              "      <td>corte2</td>\n",
              "      <td>float</td>\n",
              "      <td>Continua</td>\n",
              "      <td>11</td>\n",
              "      <td>0</td>\n",
              "      <td>3</td>\n",
              "      <td>115</td>\n",
              "      <td>5</td>\n",
              "      <td>0</td>\n",
              "    </tr>\n",
              "    <tr>\n",
              "      <th>5</th>\n",
              "      <td>prom</td>\n",
              "      <td>float</td>\n",
              "      <td>Continua</td>\n",
              "      <td>21</td>\n",
              "      <td>0</td>\n",
              "      <td>3.75</td>\n",
              "      <td>86</td>\n",
              "      <td>5</td>\n",
              "      <td>0</td>\n",
              "    </tr>\n",
              "    <tr>\n",
              "      <th>6</th>\n",
              "      <td>fallas</td>\n",
              "      <td>string</td>\n",
              "      <td>Categorica</td>\n",
              "      <td>25</td>\n",
              "      <td>0</td>\n",
              "      <td>0</td>\n",
              "      <td>494</td>\n",
              "      <td>NA</td>\n",
              "      <td>NA</td>\n",
              "    </tr>\n",
              "    <tr>\n",
              "      <th>7</th>\n",
              "      <td>fallaP</td>\n",
              "      <td>float</td>\n",
              "      <td>Continua</td>\n",
              "      <td>22</td>\n",
              "      <td>0</td>\n",
              "      <td>0</td>\n",
              "      <td>497</td>\n",
              "      <td>294.12</td>\n",
              "      <td>0</td>\n",
              "    </tr>\n",
              "    <tr>\n",
              "      <th>8</th>\n",
              "      <td>curso</td>\n",
              "      <td>string</td>\n",
              "      <td>Categorica</td>\n",
              "      <td>1</td>\n",
              "      <td>0</td>\n",
              "      <td>Algoritmos y programación</td>\n",
              "      <td>630</td>\n",
              "      <td>NA</td>\n",
              "      <td>NA</td>\n",
              "    </tr>\n",
              "    <tr>\n",
              "      <th>9</th>\n",
              "      <td>creditos</td>\n",
              "      <td>int</td>\n",
              "      <td>Discreta</td>\n",
              "      <td>1</td>\n",
              "      <td>0</td>\n",
              "      <td>3</td>\n",
              "      <td>630</td>\n",
              "      <td>3</td>\n",
              "      <td>3</td>\n",
              "    </tr>\n",
              "    <tr>\n",
              "      <th>10</th>\n",
              "      <td>IDP</td>\n",
              "      <td>int</td>\n",
              "      <td>Discreta</td>\n",
              "      <td>25</td>\n",
              "      <td>0</td>\n",
              "      <td>203</td>\n",
              "      <td>62</td>\n",
              "      <td>225</td>\n",
              "      <td>201</td>\n",
              "    </tr>\n",
              "    <tr>\n",
              "      <th>11</th>\n",
              "      <td>nestud</td>\n",
              "      <td>int</td>\n",
              "      <td>Discreta</td>\n",
              "      <td>14</td>\n",
              "      <td>0</td>\n",
              "      <td>23</td>\n",
              "      <td>115</td>\n",
              "      <td>24</td>\n",
              "      <td>8</td>\n",
              "    </tr>\n",
              "    <tr>\n",
              "      <th>12</th>\n",
              "      <td>periodo</td>\n",
              "      <td>int</td>\n",
              "      <td>Discreta</td>\n",
              "      <td>1</td>\n",
              "      <td>0</td>\n",
              "      <td>2</td>\n",
              "      <td>630</td>\n",
              "      <td>2</td>\n",
              "      <td>2</td>\n",
              "    </tr>\n",
              "    <tr>\n",
              "      <th>13</th>\n",
              "      <td>año</td>\n",
              "      <td>int</td>\n",
              "      <td>Discreta</td>\n",
              "      <td>1</td>\n",
              "      <td>0</td>\n",
              "      <td>2017</td>\n",
              "      <td>630</td>\n",
              "      <td>2017</td>\n",
              "      <td>2017</td>\n",
              "    </tr>\n",
              "    <tr>\n",
              "      <th>14</th>\n",
              "      <td>jornada</td>\n",
              "      <td>string</td>\n",
              "      <td>Categorica</td>\n",
              "      <td>2</td>\n",
              "      <td>0</td>\n",
              "      <td>día</td>\n",
              "      <td>378</td>\n",
              "      <td>NA</td>\n",
              "      <td>NA</td>\n",
              "    </tr>\n",
              "    <tr>\n",
              "      <th>15</th>\n",
              "      <td>profesor</td>\n",
              "      <td>string</td>\n",
              "      <td>Categorica</td>\n",
              "      <td>25</td>\n",
              "      <td>0</td>\n",
              "      <td>Artemisa</td>\n",
              "      <td>62</td>\n",
              "      <td>NA</td>\n",
              "      <td>NA</td>\n",
              "    </tr>\n",
              "    <tr>\n",
              "      <th>16</th>\n",
              "      <td>dedicacion</td>\n",
              "      <td>string</td>\n",
              "      <td>Categorica</td>\n",
              "      <td>4</td>\n",
              "      <td>0</td>\n",
              "      <td>Cátedra</td>\n",
              "      <td>307</td>\n",
              "      <td>NA</td>\n",
              "      <td>NA</td>\n",
              "    </tr>\n",
              "    <tr>\n",
              "      <th>17</th>\n",
              "      <td>nsala</td>\n",
              "      <td>int</td>\n",
              "      <td>Discreta</td>\n",
              "      <td>32</td>\n",
              "      <td>0</td>\n",
              "      <td>16</td>\n",
              "      <td>21</td>\n",
              "      <td>32</td>\n",
              "      <td>1</td>\n",
              "    </tr>\n",
              "    <tr>\n",
              "      <th>18</th>\n",
              "      <td>sala</td>\n",
              "      <td>string</td>\n",
              "      <td>Categorica</td>\n",
              "      <td>21</td>\n",
              "      <td>0</td>\n",
              "      <td>Centro de Computo Sala 7</td>\n",
              "      <td>41</td>\n",
              "      <td>NA</td>\n",
              "      <td>NA</td>\n",
              "    </tr>\n",
              "    <tr>\n",
              "      <th>19</th>\n",
              "      <td>horaExamen</td>\n",
              "      <td>string</td>\n",
              "      <td>Categorica</td>\n",
              "      <td>2</td>\n",
              "      <td>0</td>\n",
              "      <td>9:00 a.m.</td>\n",
              "      <td>396</td>\n",
              "      <td>NA</td>\n",
              "      <td>NA</td>\n",
              "    </tr>\n",
              "    <tr>\n",
              "      <th>20</th>\n",
              "      <td>inicio</td>\n",
              "      <td>string</td>\n",
              "      <td>Categorica</td>\n",
              "      <td>64</td>\n",
              "      <td>104</td>\n",
              "      <td>09:11:00</td>\n",
              "      <td>34</td>\n",
              "      <td>NA</td>\n",
              "      <td>NA</td>\n",
              "    </tr>\n",
              "    <tr>\n",
              "      <th>21</th>\n",
              "      <td>final</td>\n",
              "      <td>string</td>\n",
              "      <td>Categorica</td>\n",
              "      <td>136</td>\n",
              "      <td>104</td>\n",
              "      <td>10:21:00</td>\n",
              "      <td>14</td>\n",
              "      <td>NA</td>\n",
              "      <td>NA</td>\n",
              "    </tr>\n",
              "    <tr>\n",
              "      <th>22</th>\n",
              "      <td>nota</td>\n",
              "      <td>float</td>\n",
              "      <td>Continua</td>\n",
              "      <td>15</td>\n",
              "      <td>104</td>\n",
              "      <td>1</td>\n",
              "      <td>100</td>\n",
              "      <td>9.6</td>\n",
              "      <td>0</td>\n",
              "    </tr>\n",
              "    <tr>\n",
              "      <th>23</th>\n",
              "      <td>p1</td>\n",
              "      <td>float</td>\n",
              "      <td>Continua</td>\n",
              "      <td>3</td>\n",
              "      <td>104</td>\n",
              "      <td>0</td>\n",
              "      <td>338</td>\n",
              "      <td>0.5</td>\n",
              "      <td>0</td>\n",
              "    </tr>\n",
              "    <tr>\n",
              "      <th>24</th>\n",
              "      <td>p2</td>\n",
              "      <td>float</td>\n",
              "      <td>Continua</td>\n",
              "      <td>3</td>\n",
              "      <td>104</td>\n",
              "      <td>0</td>\n",
              "      <td>352</td>\n",
              "      <td>0.5</td>\n",
              "      <td>0</td>\n",
              "    </tr>\n",
              "    <tr>\n",
              "      <th>25</th>\n",
              "      <td>p3</td>\n",
              "      <td>float</td>\n",
              "      <td>Continua</td>\n",
              "      <td>3</td>\n",
              "      <td>104</td>\n",
              "      <td>0</td>\n",
              "      <td>354</td>\n",
              "      <td>0.5</td>\n",
              "      <td>0</td>\n",
              "    </tr>\n",
              "    <tr>\n",
              "      <th>26</th>\n",
              "      <td>p4</td>\n",
              "      <td>float</td>\n",
              "      <td>Continua</td>\n",
              "      <td>3</td>\n",
              "      <td>104</td>\n",
              "      <td>0</td>\n",
              "      <td>302</td>\n",
              "      <td>0.5</td>\n",
              "      <td>0</td>\n",
              "    </tr>\n",
              "    <tr>\n",
              "      <th>27</th>\n",
              "      <td>p5</td>\n",
              "      <td>float</td>\n",
              "      <td>Continua</td>\n",
              "      <td>3</td>\n",
              "      <td>104</td>\n",
              "      <td>0</td>\n",
              "      <td>319</td>\n",
              "      <td>0.5</td>\n",
              "      <td>0</td>\n",
              "    </tr>\n",
              "    <tr>\n",
              "      <th>28</th>\n",
              "      <td>p6</td>\n",
              "      <td>float</td>\n",
              "      <td>Continua</td>\n",
              "      <td>3</td>\n",
              "      <td>105</td>\n",
              "      <td>0</td>\n",
              "      <td>379</td>\n",
              "      <td>0.5</td>\n",
              "      <td>0</td>\n",
              "    </tr>\n",
              "    <tr>\n",
              "      <th>29</th>\n",
              "      <td>p7</td>\n",
              "      <td>float</td>\n",
              "      <td>Continua</td>\n",
              "      <td>3</td>\n",
              "      <td>104</td>\n",
              "      <td>0</td>\n",
              "      <td>353</td>\n",
              "      <td>0.5</td>\n",
              "      <td>0</td>\n",
              "    </tr>\n",
              "    <tr>\n",
              "      <th>30</th>\n",
              "      <td>p8</td>\n",
              "      <td>float</td>\n",
              "      <td>Continua</td>\n",
              "      <td>3</td>\n",
              "      <td>104</td>\n",
              "      <td>0</td>\n",
              "      <td>288</td>\n",
              "      <td>0.5</td>\n",
              "      <td>0</td>\n",
              "    </tr>\n",
              "    <tr>\n",
              "      <th>31</th>\n",
              "      <td>p9</td>\n",
              "      <td>float</td>\n",
              "      <td>Continua</td>\n",
              "      <td>3</td>\n",
              "      <td>104</td>\n",
              "      <td>0</td>\n",
              "      <td>282</td>\n",
              "      <td>0.5</td>\n",
              "      <td>0</td>\n",
              "    </tr>\n",
              "    <tr>\n",
              "      <th>32</th>\n",
              "      <td>p10</td>\n",
              "      <td>float</td>\n",
              "      <td>Continua</td>\n",
              "      <td>3</td>\n",
              "      <td>104</td>\n",
              "      <td>0</td>\n",
              "      <td>281</td>\n",
              "      <td>0.5</td>\n",
              "      <td>0</td>\n",
              "    </tr>\n",
              "  </tbody>\n",
              "</table>\n",
              "</div>"
            ],
            "text/plain": [
              "   column_names data_type  ... max_value min_value\n",
              "0           IDE       int  ...      2116      1500\n",
              "1      programa    string  ...        NA        NA\n",
              "2           IDG    string  ...        NA        NA\n",
              "3        corte1     float  ...         5         0\n",
              "4        corte2     float  ...         5         0\n",
              "5          prom     float  ...         5         0\n",
              "6        fallas    string  ...        NA        NA\n",
              "7        fallaP     float  ...    294.12         0\n",
              "8         curso    string  ...        NA        NA\n",
              "9      creditos       int  ...         3         3\n",
              "10          IDP       int  ...       225       201\n",
              "11       nestud       int  ...        24         8\n",
              "12      periodo       int  ...         2         2\n",
              "13          año       int  ...      2017      2017\n",
              "14      jornada    string  ...        NA        NA\n",
              "15     profesor    string  ...        NA        NA\n",
              "16   dedicacion    string  ...        NA        NA\n",
              "17        nsala       int  ...        32         1\n",
              "18         sala    string  ...        NA        NA\n",
              "19   horaExamen    string  ...        NA        NA\n",
              "20       inicio    string  ...        NA        NA\n",
              "21        final    string  ...        NA        NA\n",
              "22         nota     float  ...       9.6         0\n",
              "23           p1     float  ...       0.5         0\n",
              "24           p2     float  ...       0.5         0\n",
              "25           p3     float  ...       0.5         0\n",
              "26           p4     float  ...       0.5         0\n",
              "27           p5     float  ...       0.5         0\n",
              "28           p6     float  ...       0.5         0\n",
              "29           p7     float  ...       0.5         0\n",
              "30           p8     float  ...       0.5         0\n",
              "31           p9     float  ...       0.5         0\n",
              "32          p10     float  ...       0.5         0\n",
              "\n",
              "[33 rows x 9 columns]"
            ]
          },
          "metadata": {
            "tags": []
          },
          "execution_count": 3
        }
      ]
    },
    {
      "cell_type": "markdown",
      "metadata": {
        "id": "5qBJZNCJ0dKC"
      },
      "source": [
        "### **Análisis**"
      ]
    },
    {
      "cell_type": "code",
      "metadata": {
        "id": "7sSXY1gydWx9",
        "colab": {
          "base_uri": "https://localhost:8080/",
          "height": 182
        },
        "outputId": "36b63ef3-ef66-4b1b-cb1e-302a0fc2991c"
      },
      "source": [
        "print('Dataframe de atributos')\n",
        "display(create_attribute_df(df).head(2))\n",
        "print(\"\")\n",
        "print('Se puede observar que desde una lectura inicial del dataframe de entrada es posible evaluar  diferentes atributos')"
      ],
      "execution_count": 4,
      "outputs": [
        {
          "output_type": "stream",
          "text": [
            "Dataframe de atributos\n"
          ],
          "name": "stdout"
        },
        {
          "output_type": "display_data",
          "data": {
            "text/html": [
              "<div>\n",
              "<style scoped>\n",
              "    .dataframe tbody tr th:only-of-type {\n",
              "        vertical-align: middle;\n",
              "    }\n",
              "\n",
              "    .dataframe tbody tr th {\n",
              "        vertical-align: top;\n",
              "    }\n",
              "\n",
              "    .dataframe thead th {\n",
              "        text-align: right;\n",
              "    }\n",
              "</style>\n",
              "<table border=\"1\" class=\"dataframe\">\n",
              "  <thead>\n",
              "    <tr style=\"text-align: right;\">\n",
              "      <th></th>\n",
              "      <th>column_names</th>\n",
              "      <th>data_type</th>\n",
              "      <th>variable_type</th>\n",
              "      <th>quantity_unique_values</th>\n",
              "      <th>quantity_null_values</th>\n",
              "      <th>most_repeated_value</th>\n",
              "      <th>frec_most_repeated_value</th>\n",
              "      <th>max_value</th>\n",
              "      <th>min_value</th>\n",
              "    </tr>\n",
              "  </thead>\n",
              "  <tbody>\n",
              "    <tr>\n",
              "      <th>0</th>\n",
              "      <td>IDE</td>\n",
              "      <td>int</td>\n",
              "      <td>Discreta</td>\n",
              "      <td>617</td>\n",
              "      <td>0</td>\n",
              "      <td>1615</td>\n",
              "      <td>2</td>\n",
              "      <td>2116</td>\n",
              "      <td>1500</td>\n",
              "    </tr>\n",
              "    <tr>\n",
              "      <th>1</th>\n",
              "      <td>programa</td>\n",
              "      <td>string</td>\n",
              "      <td>Categorica</td>\n",
              "      <td>7</td>\n",
              "      <td>0</td>\n",
              "      <td>Ingeniería Ambiental</td>\n",
              "      <td>236</td>\n",
              "      <td>NA</td>\n",
              "      <td>NA</td>\n",
              "    </tr>\n",
              "  </tbody>\n",
              "</table>\n",
              "</div>"
            ],
            "text/plain": [
              "  column_names data_type  ... max_value min_value\n",
              "0          IDE       int  ...      2116      1500\n",
              "1     programa    string  ...        NA        NA\n",
              "\n",
              "[2 rows x 9 columns]"
            ]
          },
          "metadata": {
            "tags": []
          }
        },
        {
          "output_type": "stream",
          "text": [
            "\n",
            "Se puede observar que desde una lectura inicial del dataframe de entrada es posible evaluar  diferentes atributos\n"
          ],
          "name": "stdout"
        }
      ]
    },
    {
      "cell_type": "markdown",
      "metadata": {
        "id": "5PtOfqPQdqUo"
      },
      "source": [
        "##2.2. Análisis del dataframe resultante del punto 2.1 y ajuste de data\n",
        "\n",
        "> Se requiere verificar el dataframe resultante del punto 2.1 y determinar si el tipo de dato por columna es correcto. de no serlo se debe realizar los respectivos ajustes para obtenerlo \n"
      ]
    },
    {
      "cell_type": "markdown",
      "metadata": {
        "id": "3f0tSPKRdp_5"
      },
      "source": [
        "### **Desarrollo lógico**\n",
        "\n",
        "1. Comparar el dataframe de entrada si el tipo de dato concuerda con el resultado del punto 2.1\n",
        "\n",
        "2. Determinar las columnas con valores que generan problemas  \n",
        "    * Evaluar el tipo de dato es correcto\n",
        "    * Deteminar los valores que generan el error\n",
        "    \n",
        "3. Aplicar las modificaciones correspondentes para obtener un resultado valido en dataframe del punto 2.1\n",
        "    * Crear una copia del dataframe de entrada\n",
        "    * Evaluar el tipo de dato por cada fila en cada columna \n",
        "    * Realizar un conteo para determinar la mayoria de datos a que tipo de dato   corresponde\n",
        "    * Reemplazar los datos errados por un valor valido según el tipo de dato que corresponde a la columna"
      ]
    },
    {
      "cell_type": "markdown",
      "metadata": {
        "id": "SeL8j2tEwuL9"
      },
      "source": [
        "###**Código Implementado**"
      ]
    },
    {
      "cell_type": "code",
      "metadata": {
        "id": "Z9YNRch-4H9t"
      },
      "source": [
        "def fix_column_data(df): \n",
        "  '''fix_column_data: función que modifica el tipo de  dato de las columnas que tienen algún o algunos registros errados;\n",
        "                        remplazando datos string por 0 en columnas que deben ser int o float y en las columnas string reemplaza\n",
        "                        los valores númericos por un valor vacio\n",
        "\n",
        "                  Argumentos:\n",
        "                        df:(Requerido) dataframe de entrada\n",
        "                                                \n",
        "                  Retorno: \n",
        "                        fixed_df: copia del dataframe de entrada con algunas columnas modificadas en el tipo de dato de la columna\n",
        "                        ''' \n",
        "\n",
        "\n",
        "  # Copiar el dataframe de entrada\n",
        "  fixed_df=df.copy()  \n",
        "  # Iterar dataframe y obtener el nombre de la columna y los datos de cada una\n",
        "  for (columnname,columndata) in fixed_df.iteritems():\n",
        "  # Evaluar las todas las columnas que son tipo object\n",
        "    if columndata.dtypes =='object':\n",
        "      # Intentar convertir la columna en datetime\n",
        "      try:\n",
        "        fixed_df[columnname]=pd.to_datetime(columndata)\n",
        "        #fixed_df[columnname]=pd.to_timedelta(columndata)\n",
        "      \n",
        "      except:\n",
        "      # Evaluar por cada fila el tipo de dato que se tiene\n",
        "        intsum=0\n",
        "        stringsum=0\n",
        "        floatsum=0\n",
        "        issuestring,issueint=[],[]\n",
        "        for row in columndata:\n",
        "        # Contar la cantidad de datos por cada tipo de dato y crear un arreglo de los datos evaluados \n",
        "          if isinstance(row,int):\n",
        "            intsum=intsum + 1\n",
        "            issueint.append(row)\n",
        "          elif isinstance(row,float):\n",
        "            floatsum=floatsum + 1\n",
        "            issueint.append(row)\n",
        "          elif isinstance(row,str):\n",
        "            stringsum= stringsum+1\n",
        "            issuestring.append(row)\n",
        "        # crear un diccionario con el resultado del conteo \n",
        "        typesdict={'int':intsum,'float':floatsum,'str':stringsum}\n",
        "        # Ordenar el diccionario\n",
        "        sort_type=sorted(typesdict.items(),key=lambda x:x[1],reverse=True)\n",
        "        # Tomar la primera ubicación del diccionario \n",
        "        columntypef=sort_type[0][0]\n",
        "        # Evaludar por el resultado de la variable anterior por que se reemplaza el valor errado\n",
        "        if columntypef== 'int' or columntypef== 'float':\n",
        "          fixed_df.loc[fixed_df[columnname].isin(issuestring), columnname] = 0.0\n",
        "          fixed_df[columnname] = pd.to_numeric(fixed_df[columnname])\n",
        "\n",
        "        elif columntypef== 'str':\n",
        "          fixed_df.loc[fixed_df[columnname].isin(issueint), columnname] = None\n",
        "          fixed_df[columnname] = fixed_df[columnname]\n",
        "\n",
        "  return fixed_df\n",
        "\n",
        "\n"
      ],
      "execution_count": 5,
      "outputs": []
    },
    {
      "cell_type": "code",
      "metadata": {
        "id": "ozpzgNclpmLb",
        "colab": {
          "base_uri": "https://localhost:8080/",
          "height": 383
        },
        "outputId": "0720f286-4ebb-4347-9081-aacaaffa0dba"
      },
      "source": [
        "print(\"Dataframe resultante \\n\")\n",
        "display(fix_column_data(df).head(3))"
      ],
      "execution_count": 6,
      "outputs": [
        {
          "output_type": "stream",
          "text": [
            "Dataframe resultante \n",
            "\n"
          ],
          "name": "stdout"
        },
        {
          "output_type": "display_data",
          "data": {
            "text/html": [
              "<div>\n",
              "<style scoped>\n",
              "    .dataframe tbody tr th:only-of-type {\n",
              "        vertical-align: middle;\n",
              "    }\n",
              "\n",
              "    .dataframe tbody tr th {\n",
              "        vertical-align: top;\n",
              "    }\n",
              "\n",
              "    .dataframe thead th {\n",
              "        text-align: right;\n",
              "    }\n",
              "</style>\n",
              "<table border=\"1\" class=\"dataframe\">\n",
              "  <thead>\n",
              "    <tr style=\"text-align: right;\">\n",
              "      <th></th>\n",
              "      <th>IDE</th>\n",
              "      <th>programa</th>\n",
              "      <th>IDG</th>\n",
              "      <th>corte1</th>\n",
              "      <th>corte2</th>\n",
              "      <th>prom</th>\n",
              "      <th>fallas</th>\n",
              "      <th>fallaP</th>\n",
              "      <th>curso</th>\n",
              "      <th>creditos</th>\n",
              "      <th>IDP</th>\n",
              "      <th>nestud</th>\n",
              "      <th>periodo</th>\n",
              "      <th>año</th>\n",
              "      <th>jornada</th>\n",
              "      <th>profesor</th>\n",
              "      <th>dedicacion</th>\n",
              "      <th>nsala</th>\n",
              "      <th>sala</th>\n",
              "      <th>horaExamen</th>\n",
              "      <th>inicio</th>\n",
              "      <th>final</th>\n",
              "      <th>nota</th>\n",
              "      <th>p1</th>\n",
              "      <th>p2</th>\n",
              "      <th>p3</th>\n",
              "      <th>p4</th>\n",
              "      <th>p5</th>\n",
              "      <th>p6</th>\n",
              "      <th>p7</th>\n",
              "      <th>p8</th>\n",
              "      <th>p9</th>\n",
              "      <th>p10</th>\n",
              "    </tr>\n",
              "  </thead>\n",
              "  <tbody>\n",
              "    <tr>\n",
              "      <th>0</th>\n",
              "      <td>1521</td>\n",
              "      <td>Ingeniería Ambiental</td>\n",
              "      <td>G11</td>\n",
              "      <td>4.0</td>\n",
              "      <td>2.0</td>\n",
              "      <td>3.00</td>\n",
              "      <td>0</td>\n",
              "      <td>0.00</td>\n",
              "      <td>Algoritmos y programación</td>\n",
              "      <td>3</td>\n",
              "      <td>201</td>\n",
              "      <td>23</td>\n",
              "      <td>2</td>\n",
              "      <td>2017</td>\n",
              "      <td>día</td>\n",
              "      <td>Patroclo</td>\n",
              "      <td>TC</td>\n",
              "      <td>20</td>\n",
              "      <td>Torre P Salón 303</td>\n",
              "      <td>2020-11-25 09:00:00</td>\n",
              "      <td>2020-11-25 09:16:00</td>\n",
              "      <td>2020-11-25 10:31:00</td>\n",
              "      <td>1.5</td>\n",
              "      <td>0.5</td>\n",
              "      <td>0.0</td>\n",
              "      <td>0.0</td>\n",
              "      <td>0.0</td>\n",
              "      <td>0.0</td>\n",
              "      <td>0.0</td>\n",
              "      <td>0.0</td>\n",
              "      <td>0.5</td>\n",
              "      <td>0.5</td>\n",
              "      <td>0.0</td>\n",
              "    </tr>\n",
              "    <tr>\n",
              "      <th>1</th>\n",
              "      <td>1572</td>\n",
              "      <td>Ingeniería Industrial</td>\n",
              "      <td>G11</td>\n",
              "      <td>3.0</td>\n",
              "      <td>3.0</td>\n",
              "      <td>3.00</td>\n",
              "      <td>0</td>\n",
              "      <td>0.00</td>\n",
              "      <td>Algoritmos y programación</td>\n",
              "      <td>3</td>\n",
              "      <td>201</td>\n",
              "      <td>23</td>\n",
              "      <td>2</td>\n",
              "      <td>2017</td>\n",
              "      <td>día</td>\n",
              "      <td>Patroclo</td>\n",
              "      <td>TC</td>\n",
              "      <td>3</td>\n",
              "      <td>Casa Kra 4ta Salón 301</td>\n",
              "      <td>2020-11-25 09:00:00</td>\n",
              "      <td>2020-11-25 09:14:00</td>\n",
              "      <td>2020-11-25 09:47:00</td>\n",
              "      <td>2.0</td>\n",
              "      <td>0.0</td>\n",
              "      <td>0.0</td>\n",
              "      <td>0.0</td>\n",
              "      <td>0.0</td>\n",
              "      <td>0.5</td>\n",
              "      <td>0.5</td>\n",
              "      <td>0.0</td>\n",
              "      <td>0.5</td>\n",
              "      <td>0.0</td>\n",
              "      <td>0.5</td>\n",
              "    </tr>\n",
              "    <tr>\n",
              "      <th>2</th>\n",
              "      <td>1585</td>\n",
              "      <td>Ingeniería Electórnica</td>\n",
              "      <td>G11</td>\n",
              "      <td>4.5</td>\n",
              "      <td>4.0</td>\n",
              "      <td>4.25</td>\n",
              "      <td>2</td>\n",
              "      <td>11.76</td>\n",
              "      <td>Algoritmos y programación</td>\n",
              "      <td>3</td>\n",
              "      <td>201</td>\n",
              "      <td>23</td>\n",
              "      <td>2</td>\n",
              "      <td>2017</td>\n",
              "      <td>día</td>\n",
              "      <td>Patroclo</td>\n",
              "      <td>TC</td>\n",
              "      <td>3</td>\n",
              "      <td>Casa Kra 4ta Salón 301</td>\n",
              "      <td>2020-11-25 09:00:00</td>\n",
              "      <td>2020-11-25 09:12:00</td>\n",
              "      <td>2020-11-25 09:47:00</td>\n",
              "      <td>4.0</td>\n",
              "      <td>0.5</td>\n",
              "      <td>0.0</td>\n",
              "      <td>0.5</td>\n",
              "      <td>0.5</td>\n",
              "      <td>0.5</td>\n",
              "      <td>0.0</td>\n",
              "      <td>0.5</td>\n",
              "      <td>0.5</td>\n",
              "      <td>0.5</td>\n",
              "      <td>0.5</td>\n",
              "    </tr>\n",
              "  </tbody>\n",
              "</table>\n",
              "</div>"
            ],
            "text/plain": [
              "    IDE                programa  IDG  corte1  corte2  ...   p6   p7   p8   p9  p10\n",
              "0  1521    Ingeniería Ambiental  G11     4.0     2.0  ...  0.0  0.0  0.5  0.5  0.0\n",
              "1  1572   Ingeniería Industrial  G11     3.0     3.0  ...  0.5  0.0  0.5  0.0  0.5\n",
              "2  1585  Ingeniería Electórnica  G11     4.5     4.0  ...  0.0  0.5  0.5  0.5  0.5\n",
              "\n",
              "[3 rows x 33 columns]"
            ]
          },
          "metadata": {
            "tags": []
          }
        }
      ]
    },
    {
      "cell_type": "markdown",
      "metadata": {
        "id": "MU2bsoLllObN"
      },
      "source": [
        "### **Análisis**"
      ]
    },
    {
      "cell_type": "markdown",
      "metadata": {
        "id": "UkxbZzYExfSv"
      },
      "source": [
        "**Análisis sin editar datos**"
      ]
    },
    {
      "cell_type": "code",
      "metadata": {
        "id": "QIp5g-Z6ecRx",
        "colab": {
          "base_uri": "https://localhost:8080/",
          "height": 236
        },
        "outputId": "3a8a8d69-adce-4f2a-ebcc-896944a2c84b"
      },
      "source": [
        "# Cargue de dataframe del punto 2.1\n",
        "attribute_df=create_attribute_df(df)\n",
        "print(\"Resultado de los atributos de la columna fallas\")\n",
        "display(attribute_df[attribute_df.column_names=='fallas'])\n",
        "print(\"\")\n",
        "# Visualidar valores unicos de la columna fallas \n",
        "print('Valores unicos de la columna fallas',df.fallas.unique())\n",
        "print(\"\")\n",
        "print(\"Se evidencia que la columna fallas tiene datos errados para el tipo de columna como lo son: nada,ninguna y no.\")\n",
        "print(\"Esto nos genera un error al momento de evaluar le tipo de dato de la columna. Además de no evaluar correctamente\\n\"\n",
        "      \"los atributos de máximo, mínimo,valor que más se repite y su frecuencia.\")"
      ],
      "execution_count": 7,
      "outputs": [
        {
          "output_type": "stream",
          "text": [
            "Resultado de los atributos de la columna fallas\n"
          ],
          "name": "stdout"
        },
        {
          "output_type": "display_data",
          "data": {
            "text/html": [
              "<div>\n",
              "<style scoped>\n",
              "    .dataframe tbody tr th:only-of-type {\n",
              "        vertical-align: middle;\n",
              "    }\n",
              "\n",
              "    .dataframe tbody tr th {\n",
              "        vertical-align: top;\n",
              "    }\n",
              "\n",
              "    .dataframe thead th {\n",
              "        text-align: right;\n",
              "    }\n",
              "</style>\n",
              "<table border=\"1\" class=\"dataframe\">\n",
              "  <thead>\n",
              "    <tr style=\"text-align: right;\">\n",
              "      <th></th>\n",
              "      <th>column_names</th>\n",
              "      <th>data_type</th>\n",
              "      <th>variable_type</th>\n",
              "      <th>quantity_unique_values</th>\n",
              "      <th>quantity_null_values</th>\n",
              "      <th>most_repeated_value</th>\n",
              "      <th>frec_most_repeated_value</th>\n",
              "      <th>max_value</th>\n",
              "      <th>min_value</th>\n",
              "    </tr>\n",
              "  </thead>\n",
              "  <tbody>\n",
              "    <tr>\n",
              "      <th>6</th>\n",
              "      <td>fallas</td>\n",
              "      <td>string</td>\n",
              "      <td>Categorica</td>\n",
              "      <td>25</td>\n",
              "      <td>0</td>\n",
              "      <td>0</td>\n",
              "      <td>494</td>\n",
              "      <td>NA</td>\n",
              "      <td>NA</td>\n",
              "    </tr>\n",
              "  </tbody>\n",
              "</table>\n",
              "</div>"
            ],
            "text/plain": [
              "  column_names data_type  ... max_value min_value\n",
              "6       fallas    string  ...        NA        NA\n",
              "\n",
              "[1 rows x 9 columns]"
            ]
          },
          "metadata": {
            "tags": []
          }
        },
        {
          "output_type": "stream",
          "text": [
            "\n",
            "Valores unicos de la columna fallas [0 2 5 3 4 1 8 6 15 19 37 7 50 30 'nada' 'ninguna' 27 12 10 11 32 18 20 26\n",
            " 'no']\n",
            "\n",
            "Se evidencia que la columna fallas tiene datos errados para el tipo de columna como lo son: nada,ninguna y no.\n",
            "Esto nos genera un error al momento de evaluar le tipo de dato de la columna. Además de no evaluar correctamente\n",
            "los atributos de máximo, mínimo,valor que más se repite y su frecuencia.\n"
          ],
          "name": "stdout"
        }
      ]
    },
    {
      "cell_type": "code",
      "metadata": {
        "id": "rReBdkPSmCve",
        "colab": {
          "base_uri": "https://localhost:8080/",
          "height": 417
        },
        "outputId": "6de8e6c4-ee7c-46c8-f831-99e3fe37a2a2"
      },
      "source": [
        "print(\"Resultado de los atributos de la columnas horaExamen,inicio,final\")\n",
        "display(attribute_df[attribute_df.column_names.isin(['horaExamen','inicio','final'])])\n",
        "#Mirar que datos tienen las columnas horaExamen,inicio,final\n",
        "print('Valores unicos de la columna horaExamen:\\n',df.horaExamen.unique())\n",
        "print(\"\")\n",
        "print('Valores unicos de la columna inicio:\\n',df.inicio.unique()[:10])\n",
        "print(\"\")\n",
        "print('Valores unicos de la columna final:\\n',df.final.unique()[:10])\n",
        "print(\"\")\n",
        "print(\"Se evidencia que las columnas horaExamen,inicio,final son de tipo datetime.\")\n",
        "print(\"Esto nos genera un error al momento de clasificar la variable . Además de no evaluar correctamente\\n\"\n",
        "      \"los atributos de máximo, mínimo.\")"
      ],
      "execution_count": 8,
      "outputs": [
        {
          "output_type": "stream",
          "text": [
            "Resultado de los atributos de la columnas horaExamen,inicio,final\n"
          ],
          "name": "stdout"
        },
        {
          "output_type": "display_data",
          "data": {
            "text/html": [
              "<div>\n",
              "<style scoped>\n",
              "    .dataframe tbody tr th:only-of-type {\n",
              "        vertical-align: middle;\n",
              "    }\n",
              "\n",
              "    .dataframe tbody tr th {\n",
              "        vertical-align: top;\n",
              "    }\n",
              "\n",
              "    .dataframe thead th {\n",
              "        text-align: right;\n",
              "    }\n",
              "</style>\n",
              "<table border=\"1\" class=\"dataframe\">\n",
              "  <thead>\n",
              "    <tr style=\"text-align: right;\">\n",
              "      <th></th>\n",
              "      <th>column_names</th>\n",
              "      <th>data_type</th>\n",
              "      <th>variable_type</th>\n",
              "      <th>quantity_unique_values</th>\n",
              "      <th>quantity_null_values</th>\n",
              "      <th>most_repeated_value</th>\n",
              "      <th>frec_most_repeated_value</th>\n",
              "      <th>max_value</th>\n",
              "      <th>min_value</th>\n",
              "    </tr>\n",
              "  </thead>\n",
              "  <tbody>\n",
              "    <tr>\n",
              "      <th>19</th>\n",
              "      <td>horaExamen</td>\n",
              "      <td>string</td>\n",
              "      <td>Categorica</td>\n",
              "      <td>2</td>\n",
              "      <td>0</td>\n",
              "      <td>9:00 a.m.</td>\n",
              "      <td>396</td>\n",
              "      <td>NA</td>\n",
              "      <td>NA</td>\n",
              "    </tr>\n",
              "    <tr>\n",
              "      <th>20</th>\n",
              "      <td>inicio</td>\n",
              "      <td>string</td>\n",
              "      <td>Categorica</td>\n",
              "      <td>64</td>\n",
              "      <td>104</td>\n",
              "      <td>09:11:00</td>\n",
              "      <td>34</td>\n",
              "      <td>NA</td>\n",
              "      <td>NA</td>\n",
              "    </tr>\n",
              "    <tr>\n",
              "      <th>21</th>\n",
              "      <td>final</td>\n",
              "      <td>string</td>\n",
              "      <td>Categorica</td>\n",
              "      <td>136</td>\n",
              "      <td>104</td>\n",
              "      <td>10:21:00</td>\n",
              "      <td>14</td>\n",
              "      <td>NA</td>\n",
              "      <td>NA</td>\n",
              "    </tr>\n",
              "  </tbody>\n",
              "</table>\n",
              "</div>"
            ],
            "text/plain": [
              "   column_names data_type  ... max_value min_value\n",
              "19   horaExamen    string  ...        NA        NA\n",
              "20       inicio    string  ...        NA        NA\n",
              "21        final    string  ...        NA        NA\n",
              "\n",
              "[3 rows x 9 columns]"
            ]
          },
          "metadata": {
            "tags": []
          }
        },
        {
          "output_type": "stream",
          "text": [
            "Valores unicos de la columna horaExamen:\n",
            " ['9:00 a.m.' '6:00 p.m.']\n",
            "\n",
            "Valores unicos de la columna inicio:\n",
            " ['09:16:00' '09:14:00' '09:12:00' '09:13:00' '09:06:00' '09:08:00'\n",
            " '09:10:00' '09:24:00' '09:45:00' '09:11:00']\n",
            "\n",
            "Valores unicos de la columna final:\n",
            " ['10:31:00' '09:47:00' '09:59:00' '09:39:00' '10:00:00' '10:37:00'\n",
            " '10:07:00' '09:53:00' '10:36:00' '10:17:00']\n",
            "\n",
            "Se evidencia que las columnas horaExamen,inicio,final son de tipo datetime.\n",
            "Esto nos genera un error al momento de clasificar la variable . Además de no evaluar correctamente\n",
            "los atributos de máximo, mínimo.\n"
          ],
          "name": "stdout"
        }
      ]
    },
    {
      "cell_type": "markdown",
      "metadata": {
        "id": "7FSkmWjoxsDz"
      },
      "source": [
        "**Análisis de datos modificados**"
      ]
    },
    {
      "cell_type": "code",
      "metadata": {
        "id": "fWyQUheexphZ",
        "colab": {
          "base_uri": "https://localhost:8080/",
          "height": 312
        },
        "outputId": "efc65ffe-e0c0-4639-fd25-f2c55d68ce5d"
      },
      "source": [
        "# Asignar función de cambios de tipo de datos a nuevo dataframe \n",
        "fixed_df=fix_column_data(df)\n",
        "# Evaluar de nuevo la función del punto 2.1\n",
        "attribute_df=create_attribute_df(fixed_df)\n",
        "# Evaluar si el tipo de datos se modificaron el daframe de atributos\n",
        "display(attribute_df[attribute_df.column_names.isin(['fallas','horaExamen','inicio','final'])])\n",
        "print(\"En la siguiente tabala se muestra las columnas fallas,horaExamen,inicio,final ya cuentan con el tipo de dato correcto\")\n"
      ],
      "execution_count": 9,
      "outputs": [
        {
          "output_type": "display_data",
          "data": {
            "text/html": [
              "<div>\n",
              "<style scoped>\n",
              "    .dataframe tbody tr th:only-of-type {\n",
              "        vertical-align: middle;\n",
              "    }\n",
              "\n",
              "    .dataframe tbody tr th {\n",
              "        vertical-align: top;\n",
              "    }\n",
              "\n",
              "    .dataframe thead th {\n",
              "        text-align: right;\n",
              "    }\n",
              "</style>\n",
              "<table border=\"1\" class=\"dataframe\">\n",
              "  <thead>\n",
              "    <tr style=\"text-align: right;\">\n",
              "      <th></th>\n",
              "      <th>column_names</th>\n",
              "      <th>data_type</th>\n",
              "      <th>variable_type</th>\n",
              "      <th>quantity_unique_values</th>\n",
              "      <th>quantity_null_values</th>\n",
              "      <th>most_repeated_value</th>\n",
              "      <th>frec_most_repeated_value</th>\n",
              "      <th>max_value</th>\n",
              "      <th>min_value</th>\n",
              "    </tr>\n",
              "  </thead>\n",
              "  <tbody>\n",
              "    <tr>\n",
              "      <th>6</th>\n",
              "      <td>fallas</td>\n",
              "      <td>int</td>\n",
              "      <td>Discreta</td>\n",
              "      <td>22</td>\n",
              "      <td>0</td>\n",
              "      <td>0</td>\n",
              "      <td>497</td>\n",
              "      <td>50</td>\n",
              "      <td>0</td>\n",
              "    </tr>\n",
              "    <tr>\n",
              "      <th>19</th>\n",
              "      <td>horaExamen</td>\n",
              "      <td>datetime</td>\n",
              "      <td>Continua</td>\n",
              "      <td>2</td>\n",
              "      <td>0</td>\n",
              "      <td>2020-11-25 09:00:00</td>\n",
              "      <td>396</td>\n",
              "      <td>2020-11-25 18:00:00</td>\n",
              "      <td>2020-11-25 09:00:00</td>\n",
              "    </tr>\n",
              "    <tr>\n",
              "      <th>20</th>\n",
              "      <td>inicio</td>\n",
              "      <td>datetime</td>\n",
              "      <td>Continua</td>\n",
              "      <td>64</td>\n",
              "      <td>104</td>\n",
              "      <td>2020-11-25 09:11:00</td>\n",
              "      <td>34</td>\n",
              "      <td>2020-11-25 18:44:00</td>\n",
              "      <td>2020-11-25 09:03:00</td>\n",
              "    </tr>\n",
              "    <tr>\n",
              "      <th>21</th>\n",
              "      <td>final</td>\n",
              "      <td>datetime</td>\n",
              "      <td>Continua</td>\n",
              "      <td>136</td>\n",
              "      <td>104</td>\n",
              "      <td>2020-11-25 10:21:00</td>\n",
              "      <td>14</td>\n",
              "      <td>2020-11-25 19:58:00</td>\n",
              "      <td>2020-11-25 09:28:00</td>\n",
              "    </tr>\n",
              "  </tbody>\n",
              "</table>\n",
              "</div>"
            ],
            "text/plain": [
              "   column_names data_type  ...            max_value            min_value\n",
              "6        fallas       int  ...                   50                    0\n",
              "19   horaExamen  datetime  ...  2020-11-25 18:00:00  2020-11-25 09:00:00\n",
              "20       inicio  datetime  ...  2020-11-25 18:44:00  2020-11-25 09:03:00\n",
              "21        final  datetime  ...  2020-11-25 19:58:00  2020-11-25 09:28:00\n",
              "\n",
              "[4 rows x 9 columns]"
            ]
          },
          "metadata": {
            "tags": []
          }
        },
        {
          "output_type": "stream",
          "text": [
            "En la siguiente tabala se muestra las columnas fallas,horaExamen,inicio,final ya cuentan con el tipo de dato correcto\n"
          ],
          "name": "stdout"
        }
      ]
    },
    {
      "cell_type": "markdown",
      "metadata": {
        "id": "o5wdnIoV2-qi"
      },
      "source": [
        "##2.3. Analisis grafico \n",
        "\n",
        "> Realizar analisis grafico por columnas "
      ]
    },
    {
      "cell_type": "markdown",
      "metadata": {
        "id": "TJiOPdipEYhF"
      },
      "source": [
        "### **Desarrollo lógico**\n",
        "\n",
        "1. Seleccionar dataframe resultante del punto 2.2\n",
        "\n",
        "2. Determinar las columnas con datos atípicos \n",
        "    \n",
        "3. Aplicar las modificaciones correspondentes sobre la columna con anomalías \n"
      ]
    },
    {
      "cell_type": "markdown",
      "metadata": {
        "id": "tWBsjlggG1fh"
      },
      "source": [
        "###**Código Implementado**"
      ]
    },
    {
      "cell_type": "code",
      "metadata": {
        "id": "1O1RXbkoG7Oh",
        "colab": {
          "base_uri": "https://localhost:8080/"
        },
        "outputId": "b405ea21-3cda-4e55-a9e7-f5d4fe7ef3b6"
      },
      "source": [
        "# Dataframe a emplear es fixed_df\n",
        "# 1. Columna de programa presenta variación en la forma de escritura\n",
        "fixed_df.programa = fixed_df.programa.replace({'Ingeniería Electórnica': 'Ingeniería Electrónica'})\n",
        "fixed_df.programa = fixed_df.programa.replace({'Ingeniería Industial': 'Ingeniería Industrial'})\n",
        "# 2. Corregir IDP \n",
        "IDP_irregular=fixed_df[fixed_df.IDP==208]\n",
        "fixed_df.loc[fixed_df.IDP==208,'profesor']='Menelao'\n",
        "IDP_irregular.profesor.unique()\n",
        "IDP_irregularf=fixed_df[fixed_df.IDP==204]\n",
        "IDP_irregularf.profesor.unique()\n"
      ],
      "execution_count": 10,
      "outputs": [
        {
          "output_type": "execute_result",
          "data": {
            "text/plain": [
              "array(['Eneas'], dtype=object)"
            ]
          },
          "metadata": {
            "tags": []
          },
          "execution_count": 10
        }
      ]
    },
    {
      "cell_type": "markdown",
      "metadata": {
        "id": "dFvW8BnnG9Kt"
      },
      "source": [
        "\n",
        "\n",
        "```\n",
        "# This is formatted as code\n",
        "```\n",
        "\n",
        "### **Análisis**"
      ]
    },
    {
      "cell_type": "markdown",
      "metadata": {
        "id": "DjHILy00HGx1"
      },
      "source": [
        "**Análisis sin editar datos**"
      ]
    },
    {
      "cell_type": "markdown",
      "metadata": {
        "id": "_USLIORgJDg4"
      },
      "source": [
        "**Análisis de datos modificados**"
      ]
    },
    {
      "cell_type": "code",
      "metadata": {
        "colab": {
          "base_uri": "https://localhost:8080/"
        },
        "id": "M1u7QuBtnS9N",
        "outputId": "dd81847f-ac61-4017-85d6-203582d66961"
      },
      "source": [
        "fixed_df.programa.value_counts()"
      ],
      "execution_count": 12,
      "outputs": [
        {
          "output_type": "execute_result",
          "data": {
            "text/plain": [
              "Ingeniería Ambiental      236\n",
              "Ingeniería De Sistemas    144\n",
              "Ingeniería Electrónica    110\n",
              "Ingeniería Industrial      81\n",
              "Ingeniería Mecánica        59\n",
              "Name: programa, dtype: int64"
            ]
          },
          "metadata": {
            "tags": []
          },
          "execution_count": 12
        }
      ]
    },
    {
      "cell_type": "code",
      "metadata": {
        "colab": {
          "base_uri": "https://localhost:8080/"
        },
        "id": "F6ILAU8wpS-1",
        "outputId": "86a22e0d-f915-4fa0-8eaf-38942f2d5003"
      },
      "source": [
        "fixed_df.columns"
      ],
      "execution_count": 13,
      "outputs": [
        {
          "output_type": "execute_result",
          "data": {
            "text/plain": [
              "Index(['IDE', 'programa', 'IDG', 'corte1', 'corte2', 'prom', 'fallas',\n",
              "       'fallaP', 'curso', 'creditos', 'IDP', 'nestud', 'periodo', 'año',\n",
              "       'jornada', 'profesor', 'dedicacion', 'nsala', 'sala', 'horaExamen',\n",
              "       'inicio', 'final', 'nota', 'p1', 'p2', 'p3', 'p4', 'p5', 'p6', 'p7',\n",
              "       'p8', 'p9', 'p10'],\n",
              "      dtype='object')"
            ]
          },
          "metadata": {
            "tags": []
          },
          "execution_count": 13
        }
      ]
    },
    {
      "cell_type": "code",
      "metadata": {
        "colab": {
          "base_uri": "https://localhost:8080/",
          "height": 1000
        },
        "id": "V2dXkFcWWJ8A",
        "outputId": "2ad67817-c252-4b9b-bc89-617d1bf7fad0"
      },
      "source": [
        "from pylab import *\n",
        "# gráfico de columnas de p1 a p10\n",
        "# Definir espacio \n",
        "figure332, axs = plt.subplots(1,1,figsize=(10,7),constrained_layout=True)\n",
        "# Título\n",
        "figure332.suptitle('Resumen de notas para puntos p1 a p10', fontsize=16,y=1.05)\n",
        "# lista de columnas a emplear\n",
        "notas=[\"p1\", \"p2\", \"p3\", \"p4\",\"p5\",\"p6\",\"p7\",\"p8\",\"p9\",\"p10\"]\n",
        "i=1\n",
        "# recorrido de columnas \n",
        "for p in notas:\n",
        "  # definición de subplot\n",
        "  subplot(2,5,i)\n",
        "  # datos \n",
        "  dfp = fixed_df[p].value_counts().rename_axis('unique_values').reset_index(name='counts')\n",
        "  # gráfico\n",
        "  fig_318 = fixed_df[p].value_counts().plot(kind='bar',fontsize=8,align='center',zorder=3)\n",
        "  # etiquetas\n",
        "  fig_318.axes.set_title(p,fontsize=12)\n",
        "  fig_318.set_xlabel(\"NOTAS\",fontsize=10)\n",
        "  for index, col in dfp.iterrows():\n",
        "    fig_318.text(col.name, col.counts, round(col.counts,0), color = 'black', ha = \"center\")\n",
        "  fig_318.grid(color='b',alpha=0.5,linestyle='dashed',linewidth=0.5,zorder=0)\n",
        "  i=i+1\n",
        "figure332.tight_layout()\n",
        "# gráfico de nsala \n",
        "# Crear primera agrupación por nsala \n",
        "merge=fixed_df.groupby(by=[\"nsala\"], dropna=False).agg({'IDE':'count'}).sort_values(['IDE'], ascending=[False])\n",
        "# Reiniciar index\n",
        "merge.reset_index(inplace = True) \n",
        "# seleccionar los 20 top del groupby\n",
        "merge['nsala']=where(merge.index<=19,merge['nsala'],\"otras\")\n",
        "# Crear categoria de \"otras\" con los resultados no top\n",
        "merge2=merge[merge.index>=20]\n",
        "merge2=merge2.groupby(by=[\"nsala\"], dropna=False).agg({'IDE':'sum'}).sort_values(['IDE'], ascending=[False])\n",
        "merge=merge[merge.index<=19]\n",
        "merge2.reset_index(inplace = True) \n",
        "merge = pd.concat([merge2, merge])\n",
        "merge.reset_index(inplace = True) \n",
        "# gráficar\n",
        "fig3_16, ax = plt.subplots(figsize = (15, 5))\n",
        "sns.barplot(x='nsala', y='IDE', data=merge, ax = ax)\n",
        "plt.title(\"Número de estudiantes por Id sala\",fontsize=15)\n",
        "plt.xlabel(\"Id sala\")\n",
        "plt.ylabel(\"\")\n",
        "for index, col in merge.iterrows():\n",
        "  plt.text(col.name, col.IDE, round(col.IDE,0), color = 'black', ha = \"center\")\n",
        "\n",
        "# Números de id por nombre de sala\n",
        "merge=fixed_df.groupby(by=[\"sala\"], dropna=False).agg({'nsala':'nunique'}).sort_values(['nsala'], ascending=[False])\n",
        "# Reiniciar index\n",
        "merge.reset_index(inplace = True) \n",
        "merge['sala']=where(merge.index<=19,merge['sala'],\"otras\")\n",
        "# gráficar\n",
        "fig3_15, ax = plt.subplots(figsize = (15, 5))\n",
        "sns.barplot(x='sala', y='nsala', data=merge, ax = ax)\n",
        "plt.title(\"Cantidad de Ids por sala\",fontsize=15)\n",
        "plt.xlabel(\"Nombre de la sala\",fontsize=12)\n",
        "plt.xticks(rotation=90)\n",
        "sns.set(rc={'figure.figsize':(10,6.)})\n",
        "plt.ylabel(\"\")\n",
        "\n",
        "for index, col in merge.iterrows():\n",
        "  plt.text(col.name, col.nsala, round(col.nsala,0), color = 'black', ha = \"center\")\n",
        "# Hora de examén\n",
        "fixed_dfm=fixed_df.copy()\n",
        "fixed_dfm[\"horaExamen\"]=[d.time()  for d in fixed_df[\"horaExamen\"]]\n",
        "merge=fixed_dfm.groupby(by=[\"horaExamen\"], dropna=False).agg({'IDE':'count'}).sort_values(['IDE'], ascending=[False])\n",
        "# Reiniciar index\n",
        "merge.reset_index(inplace = True) \n",
        "fig3_18, ax = plt.subplots(figsize = (15, 5))\n",
        "sns.barplot(x='horaExamen', y='IDE', data=merge, ax = ax)\n",
        "plt.title(\"Número de estudiantes por franja horaria\",fontsize=15)\n",
        "plt.xlabel(\"Hora de Examén\",fontsize=12)\n",
        "plt.xticks(rotation=90)\n",
        "sns.set(rc={'figure.figsize':(10,6.)})\n",
        "plt.ylabel(\"\")\n",
        "meanhe = fixed_df['IDE'].count()\n",
        "\n",
        "for index, col in merge.iterrows():\n",
        "  plt.text(col.name, col.IDE, round(col.IDE,0), color = 'black', ha = \"center\")\n",
        "  plt.text(col.name, col.IDE-150, \"{}%\".format(round(col.IDE/meanhe,1)*100), color = 'black', ha = \"center\")\n",
        "# Hora de inicio de examén\n",
        "fixed_dfmh=fixed_df.copy()\n",
        "\n",
        "fixed_dfmh[\"final\"]=fixed_df[\"final\"].dt.strftime('%H:%M')\n",
        "fixed_dfmh[\"inicio\"]=fixed_df[\"inicio\"].dt.strftime('%H:%M')\n",
        "fixed_dfmh[\"final\"].fillna(\"No presento\",inplace=True)\n",
        "fixed_dfmh[\"inicio\"].fillna(\"No presento\",inplace=True)\n",
        "inicio18=fixed_dfmh[fixed_dfmh[\"horaExamen\"]=='6:00 p.m']\n",
        "inicio9=fixed_dfmh[fixed_dfmh[\"horaExamen\"]=='9:00 a.m']\n",
        "\n",
        "inicio18=inicio18.groupby(by=[\"inicio\",\"horaExamen\"], dropna=False).agg({'IDE':'count'}).sort_values(['IDE'], ascending=[False])\n",
        "inicio9=inicio9.groupby(by=[\"inicio\",\"horaExamen\"], dropna=False).agg({'IDE':'count'}).sort_values(['IDE'], ascending=[False])\n",
        "\n",
        "# Reiniciar index\n",
        "inicio9.reset_index(inplace = True) \n",
        "inicio18.reset_index(inplace = True) \n",
        "# seleccionar los 20 top del groupby\n",
        "inicio9['inicio']=where(inicio9.index<=19,inicio9['inicio'],\"otras\")\n",
        "inicio18['inicio']=where(inicio18.index<=19,inicio18['inicio'],\"otras\")\n",
        "# Crear categoria de \"otras\" con los resultados no top\n",
        "merge29=inicio9[inicio9.index>=20]\n",
        "merge218=inicio18[inicio18.index>=20]\n",
        "merge29=merge29.groupby(by=[\"inicio\",\"horaExamen\"], dropna=False).agg({'IDE':'sum'}).sort_values(['IDE'], ascending=[False])\n",
        "merge218=merge218.groupby(by=[\"inicio\",\"horaExamen\"], dropna=False).agg({'IDE':'sum'}).sort_values(['IDE'], ascending=[False])\n",
        "inicio18=inicio18[inicio18.index<=19]\n",
        "inicio9=inicio9[inicio9.index<=19]\n",
        "merge29.reset_index(inplace = True) \n",
        "merge218.reset_index(inplace = True) \n",
        "inicio18 = pd.concat([merge218, inicio18])\n",
        "inicio9 = pd.concat([merge29, inicio9])\n",
        "inicio9.reset_index(inplace = True)\n",
        "inicio18.reset_index(inplace = True)\n",
        "inicio9=inicio9.sort_values('IDE', ascending=False)\n",
        "inicio18=inicio18.sort_values('IDE', ascending=False)\n",
        "# Hora de finalización de examén\n",
        "finicio18=fixed_dfmh[fixed_dfmh[\"horaExamen\"]=='6:00 p.m']\n",
        "finicio9=fixed_dfmh[fixed_dfmh[\"horaExamen\"]=='9:00 a.m']\n",
        "\n",
        "finicio18=finicio18.groupby(by=[\"final\",\"horaExamen\"], dropna=False).agg({'IDE':'count'}).sort_values(['IDE'], ascending=[False])\n",
        "finicio9=finicio9.groupby(by=[\"final\",\"horaExamen\"], dropna=False).agg({'IDE':'count'}).sort_values(['IDE'], ascending=[False])\n",
        "\n",
        "# Reiniciar index\n",
        "finicio9.reset_index(inplace = True) \n",
        "finicio18.reset_index(inplace = True) \n",
        "# seleccionar los 20 top del groupby\n",
        "finicio9['final']=where(finicio9.index<=19,finicio9['final'],\"otras\")\n",
        "finicio18['final']=where(finicio18.index<=19,finicio18['final'],\"otras\")\n",
        "# Crear categoria de \"otras\" con los resultados no top\n",
        "merge29=finicio9[finicio9.index>=20]\n",
        "merge218=finicio18[finicio18.index>=20]\n",
        "merge29=merge29.groupby(by=[\"final\",\"horaExamen\"], dropna=False).agg({'IDE':'sum'}).sort_values(['IDE'], ascending=[False])\n",
        "merge218=merge218.groupby(by=[\"final\",\"horaExamen\"], dropna=False).agg({'IDE':'sum'}).sort_values(['IDE'], ascending=[False])\n",
        "finicio18=finicio18[finicio18.index<=19]\n",
        "finicio9=finicio9[finicio9.index<=19]\n",
        "merge29.reset_index(inplace = True) \n",
        "merge218.reset_index(inplace = True) \n",
        "finicio18 = pd.concat([merge218, finicio18])\n",
        "finicio9 = pd.concat([merge29, finicio9])\n",
        "finicio9.reset_index(inplace = True)\n",
        "finicio18.reset_index(inplace = True)\n",
        "finicio9=finicio9.sort_values('IDE', ascending=False)\n",
        "finicio18=finicio18.sort_values('IDE', ascending=False)\n",
        "\n",
        "\n",
        "fig3_1 = make_subplots(rows=2, cols=2,y_title='Cantidad de estudiantes',\n",
        "                    subplot_titles=('Hora inicio de Examén franja de 9:00 a.m',  'Hora inicio de Examén franja de 6:00 p.m', \n",
        "                                    'Hora final de Examén franja de 9:00 a.m', 'Hora final de Examén franja de 6:00 p.m'))\n",
        "fig3_1.append_trace(                 \n",
        "    go.Bar( x=inicio9['inicio'], y=inicio9['IDE'],marker_color='crimson'),1,1)\n",
        "fig3_1.append_trace(\n",
        "    go.Bar(x=inicio18['inicio'], y=inicio18['IDE'],marker_color='lightslategrey'),1,2)\n",
        "fig3_1.append_trace(\n",
        "    go.Bar(x=finicio9['final'], y=finicio9['IDE'],marker_color='crimson'),2,1)\n",
        "fig3_1.append_trace(\n",
        "    go.Bar(x=finicio18['final'], y=finicio18['IDE'],marker_color='lightslategrey'),2,2)\n",
        "fig3_1['layout']['xaxis3']['title']='hora'\n",
        "fig3_1['layout']['xaxis4']['title']='hora'\n",
        "fig3_1.update_layout(barmode='stack',showlegend=False,\n",
        "   title_text='Número de Estudiante por hora de inicio de examén', # title of plot\n",
        " \n",
        "    bargap=0.2, # gap between bars of adjacent location coordinates\n",
        "    bargroupgap=0.1 # gap between bars of the same location coordinates\n",
        ")\n"
      ],
      "execution_count": 149,
      "outputs": [
        {
          "output_type": "stream",
          "text": [
            "/usr/local/lib/python3.6/dist-packages/ipykernel_launcher.py:25: UserWarning:\n",
            "\n",
            "This figure was using constrained_layout==True, but that is incompatible with subplots_adjust and or tight_layout: setting constrained_layout==False. \n",
            "\n"
          ],
          "name": "stderr"
        },
        {
          "output_type": "display_data",
          "data": {
            "text/html": [
              "<html>\n",
              "<head><meta charset=\"utf-8\" /></head>\n",
              "<body>\n",
              "    <div>\n",
              "            <script src=\"https://cdnjs.cloudflare.com/ajax/libs/mathjax/2.7.5/MathJax.js?config=TeX-AMS-MML_SVG\"></script><script type=\"text/javascript\">if (window.MathJax) {MathJax.Hub.Config({SVG: {font: \"STIX-Web\"}});}</script>\n",
              "                <script type=\"text/javascript\">window.PlotlyConfig = {MathJaxConfig: 'local'};</script>\n",
              "        <script src=\"https://cdn.plot.ly/plotly-latest.min.js\"></script>    \n",
              "            <div id=\"4f615dd5-7ea6-4648-8476-0b862b67c48a\" class=\"plotly-graph-div\" style=\"height:525px; width:100%;\"></div>\n",
              "            <script type=\"text/javascript\">\n",
              "                \n",
              "                    window.PLOTLYENV=window.PLOTLYENV || {};\n",
              "                    \n",
              "                if (document.getElementById(\"4f615dd5-7ea6-4648-8476-0b862b67c48a\")) {\n",
              "                    Plotly.newPlot(\n",
              "                        '4f615dd5-7ea6-4648-8476-0b862b67c48a',\n",
              "                        [{\"marker\": {\"color\": \"crimson\"}, \"type\": \"bar\", \"x\": [\"No presento\", \"otras\", \"09:11\", \"09:14\", \"09:10\", \"09:13\", \"09:07\", \"09:12\", \"09:08\", \"09:05\", \"09:04\", \"09:09\", \"09:06\", \"09:15\", \"09:16\", \"09:17\", \"09:24\", \"09:26\", \"09:20\", \"09:23\", \"09:18\"], \"xaxis\": \"x\", \"y\": [52, 51, 34, 31, 27, 24, 21, 19, 17, 14, 13, 13, 12, 11, 9, 9, 9, 8, 8, 7, 7], \"yaxis\": \"y\"}, {\"marker\": {\"color\": \"lightslategrey\"}, \"type\": \"bar\", \"x\": [\"No presento\", \"18:14\", \"18:19\", \"otras\", \"18:27\", \"18:12\", \"18:20\", \"18:16\", \"18:13\", \"18:09\", \"18:17\", \"18:25\", \"18:15\", \"18:22\", \"18:21\", \"18:18\", \"18:11\", \"18:10\", \"18:28\", \"18:23\", \"18:24\"], \"xaxis\": \"x2\", \"y\": [52, 28, 24, 16, 15, 11, 11, 10, 8, 7, 6, 6, 6, 5, 5, 5, 5, 4, 4, 3, 3], \"yaxis\": \"y2\"}, {\"marker\": {\"color\": \"crimson\"}, \"type\": \"bar\", \"x\": [\"otras\", \"No presento\", \"10:21\", \"10:14\", \"10:04\", \"10:01\", \"10:02\", \"09:53\", \"09:59\", \"10:00\", \"10:07\", \"09:55\", \"10:15\", \"10:03\", \"09:50\", \"10:27\", \"10:13\", \"10:16\", \"09:54\", \"09:56\", \"10:22\"], \"xaxis\": \"x3\", \"y\": [159, 52, 14, 12, 12, 12, 11, 11, 10, 10, 10, 10, 9, 9, 9, 8, 8, 8, 8, 7, 7], \"yaxis\": \"y3\"}, {\"marker\": {\"color\": \"lightslategrey\"}, \"type\": \"bar\", \"x\": [\"otras\", \"No presento\", \"19:02\", \"18:49\", \"19:00\", \"19:13\", \"19:16\", \"18:48\", \"18:52\", \"19:12\", \"19:11\", \"19:04\", \"19:05\", \"19:07\", \"19:09\", \"19:01\", \"19:15\", \"19:18\", \"19:22\", \"19:30\", \"18:46\"], \"xaxis\": \"x4\", \"y\": [92, 52, 8, 6, 6, 6, 5, 5, 5, 5, 4, 4, 4, 4, 4, 4, 4, 4, 4, 4, 4], \"yaxis\": \"y4\"}],\n",
              "                        {\"annotations\": [{\"font\": {\"size\": 16}, \"showarrow\": false, \"text\": \"Hora inicio de Exam\\u00e9n franja de 9:00 a.m\", \"x\": 0.225, \"xanchor\": \"center\", \"xref\": \"paper\", \"y\": 1.0, \"yanchor\": \"bottom\", \"yref\": \"paper\"}, {\"font\": {\"size\": 16}, \"showarrow\": false, \"text\": \"Hora inicio de Exam\\u00e9n franja de 6:00 p.m\", \"x\": 0.775, \"xanchor\": \"center\", \"xref\": \"paper\", \"y\": 1.0, \"yanchor\": \"bottom\", \"yref\": \"paper\"}, {\"font\": {\"size\": 16}, \"showarrow\": false, \"text\": \"Hora final de Exam\\u00e9n franja de 9:00 a.m\", \"x\": 0.225, \"xanchor\": \"center\", \"xref\": \"paper\", \"y\": 0.375, \"yanchor\": \"bottom\", \"yref\": \"paper\"}, {\"font\": {\"size\": 16}, \"showarrow\": false, \"text\": \"Hora final de Exam\\u00e9n franja de 6:00 p.m\", \"x\": 0.775, \"xanchor\": \"center\", \"xref\": \"paper\", \"y\": 0.375, \"yanchor\": \"bottom\", \"yref\": \"paper\"}, {\"font\": {\"size\": 16}, \"showarrow\": false, \"text\": \"Cantidad de estudiantes\", \"textangle\": -90, \"x\": 0, \"xanchor\": \"right\", \"xref\": \"paper\", \"xshift\": -40, \"y\": 0.5, \"yanchor\": \"middle\", \"yref\": \"paper\"}], \"bargap\": 0.2, \"bargroupgap\": 0.1, \"barmode\": \"stack\", \"showlegend\": false, \"template\": {\"data\": {\"bar\": [{\"error_x\": {\"color\": \"#2a3f5f\"}, \"error_y\": {\"color\": \"#2a3f5f\"}, \"marker\": {\"line\": {\"color\": \"#E5ECF6\", \"width\": 0.5}}, \"type\": \"bar\"}], \"barpolar\": [{\"marker\": {\"line\": {\"color\": \"#E5ECF6\", \"width\": 0.5}}, \"type\": \"barpolar\"}], \"carpet\": [{\"aaxis\": {\"endlinecolor\": \"#2a3f5f\", \"gridcolor\": \"white\", \"linecolor\": \"white\", \"minorgridcolor\": \"white\", \"startlinecolor\": \"#2a3f5f\"}, \"baxis\": {\"endlinecolor\": \"#2a3f5f\", \"gridcolor\": \"white\", \"linecolor\": \"white\", \"minorgridcolor\": \"white\", \"startlinecolor\": \"#2a3f5f\"}, \"type\": \"carpet\"}], \"choropleth\": [{\"colorbar\": {\"outlinewidth\": 0, \"ticks\": \"\"}, \"type\": \"choropleth\"}], \"contour\": [{\"colorbar\": {\"outlinewidth\": 0, \"ticks\": \"\"}, \"colorscale\": [[0.0, \"#0d0887\"], [0.1111111111111111, \"#46039f\"], [0.2222222222222222, \"#7201a8\"], [0.3333333333333333, \"#9c179e\"], [0.4444444444444444, \"#bd3786\"], [0.5555555555555556, \"#d8576b\"], [0.6666666666666666, \"#ed7953\"], [0.7777777777777778, \"#fb9f3a\"], [0.8888888888888888, \"#fdca26\"], [1.0, \"#f0f921\"]], \"type\": \"contour\"}], \"contourcarpet\": [{\"colorbar\": {\"outlinewidth\": 0, \"ticks\": \"\"}, \"type\": \"contourcarpet\"}], \"heatmap\": [{\"colorbar\": {\"outlinewidth\": 0, \"ticks\": \"\"}, \"colorscale\": [[0.0, \"#0d0887\"], [0.1111111111111111, \"#46039f\"], [0.2222222222222222, \"#7201a8\"], [0.3333333333333333, \"#9c179e\"], [0.4444444444444444, \"#bd3786\"], [0.5555555555555556, \"#d8576b\"], [0.6666666666666666, \"#ed7953\"], [0.7777777777777778, \"#fb9f3a\"], [0.8888888888888888, \"#fdca26\"], [1.0, \"#f0f921\"]], \"type\": \"heatmap\"}], \"heatmapgl\": [{\"colorbar\": {\"outlinewidth\": 0, \"ticks\": \"\"}, \"colorscale\": [[0.0, \"#0d0887\"], [0.1111111111111111, \"#46039f\"], [0.2222222222222222, \"#7201a8\"], [0.3333333333333333, \"#9c179e\"], [0.4444444444444444, \"#bd3786\"], [0.5555555555555556, \"#d8576b\"], [0.6666666666666666, \"#ed7953\"], [0.7777777777777778, \"#fb9f3a\"], [0.8888888888888888, \"#fdca26\"], [1.0, \"#f0f921\"]], \"type\": \"heatmapgl\"}], \"histogram\": [{\"marker\": {\"colorbar\": {\"outlinewidth\": 0, \"ticks\": \"\"}}, \"type\": \"histogram\"}], \"histogram2d\": [{\"colorbar\": {\"outlinewidth\": 0, \"ticks\": \"\"}, \"colorscale\": [[0.0, \"#0d0887\"], [0.1111111111111111, \"#46039f\"], [0.2222222222222222, \"#7201a8\"], [0.3333333333333333, \"#9c179e\"], [0.4444444444444444, \"#bd3786\"], [0.5555555555555556, \"#d8576b\"], [0.6666666666666666, \"#ed7953\"], [0.7777777777777778, \"#fb9f3a\"], [0.8888888888888888, \"#fdca26\"], [1.0, \"#f0f921\"]], \"type\": \"histogram2d\"}], \"histogram2dcontour\": [{\"colorbar\": {\"outlinewidth\": 0, \"ticks\": \"\"}, \"colorscale\": [[0.0, \"#0d0887\"], [0.1111111111111111, \"#46039f\"], [0.2222222222222222, \"#7201a8\"], [0.3333333333333333, \"#9c179e\"], [0.4444444444444444, \"#bd3786\"], [0.5555555555555556, \"#d8576b\"], [0.6666666666666666, \"#ed7953\"], [0.7777777777777778, \"#fb9f3a\"], [0.8888888888888888, \"#fdca26\"], [1.0, \"#f0f921\"]], \"type\": \"histogram2dcontour\"}], \"mesh3d\": [{\"colorbar\": {\"outlinewidth\": 0, \"ticks\": \"\"}, \"type\": \"mesh3d\"}], \"parcoords\": [{\"line\": {\"colorbar\": {\"outlinewidth\": 0, \"ticks\": \"\"}}, \"type\": \"parcoords\"}], \"pie\": [{\"automargin\": true, \"type\": \"pie\"}], \"scatter\": [{\"marker\": {\"colorbar\": {\"outlinewidth\": 0, \"ticks\": \"\"}}, \"type\": \"scatter\"}], \"scatter3d\": [{\"line\": {\"colorbar\": {\"outlinewidth\": 0, \"ticks\": \"\"}}, \"marker\": {\"colorbar\": {\"outlinewidth\": 0, \"ticks\": \"\"}}, \"type\": \"scatter3d\"}], \"scattercarpet\": [{\"marker\": {\"colorbar\": {\"outlinewidth\": 0, \"ticks\": \"\"}}, \"type\": \"scattercarpet\"}], \"scattergeo\": [{\"marker\": {\"colorbar\": {\"outlinewidth\": 0, \"ticks\": \"\"}}, \"type\": \"scattergeo\"}], \"scattergl\": [{\"marker\": {\"colorbar\": {\"outlinewidth\": 0, \"ticks\": \"\"}}, \"type\": \"scattergl\"}], \"scattermapbox\": [{\"marker\": {\"colorbar\": {\"outlinewidth\": 0, \"ticks\": \"\"}}, \"type\": \"scattermapbox\"}], \"scatterpolar\": [{\"marker\": {\"colorbar\": {\"outlinewidth\": 0, \"ticks\": \"\"}}, \"type\": \"scatterpolar\"}], \"scatterpolargl\": [{\"marker\": {\"colorbar\": {\"outlinewidth\": 0, \"ticks\": \"\"}}, \"type\": \"scatterpolargl\"}], \"scatterternary\": [{\"marker\": {\"colorbar\": {\"outlinewidth\": 0, \"ticks\": \"\"}}, \"type\": \"scatterternary\"}], \"surface\": [{\"colorbar\": {\"outlinewidth\": 0, \"ticks\": \"\"}, \"colorscale\": [[0.0, \"#0d0887\"], [0.1111111111111111, \"#46039f\"], [0.2222222222222222, \"#7201a8\"], [0.3333333333333333, \"#9c179e\"], [0.4444444444444444, \"#bd3786\"], [0.5555555555555556, \"#d8576b\"], [0.6666666666666666, \"#ed7953\"], [0.7777777777777778, \"#fb9f3a\"], [0.8888888888888888, \"#fdca26\"], [1.0, \"#f0f921\"]], \"type\": \"surface\"}], \"table\": [{\"cells\": {\"fill\": {\"color\": \"#EBF0F8\"}, \"line\": {\"color\": \"white\"}}, \"header\": {\"fill\": {\"color\": \"#C8D4E3\"}, \"line\": {\"color\": \"white\"}}, \"type\": \"table\"}]}, \"layout\": {\"annotationdefaults\": {\"arrowcolor\": \"#2a3f5f\", \"arrowhead\": 0, \"arrowwidth\": 1}, \"coloraxis\": {\"colorbar\": {\"outlinewidth\": 0, \"ticks\": \"\"}}, \"colorscale\": {\"diverging\": [[0, \"#8e0152\"], [0.1, \"#c51b7d\"], [0.2, \"#de77ae\"], [0.3, \"#f1b6da\"], [0.4, \"#fde0ef\"], [0.5, \"#f7f7f7\"], [0.6, \"#e6f5d0\"], [0.7, \"#b8e186\"], [0.8, \"#7fbc41\"], [0.9, \"#4d9221\"], [1, \"#276419\"]], \"sequential\": [[0.0, \"#0d0887\"], [0.1111111111111111, \"#46039f\"], [0.2222222222222222, \"#7201a8\"], [0.3333333333333333, \"#9c179e\"], [0.4444444444444444, \"#bd3786\"], [0.5555555555555556, \"#d8576b\"], [0.6666666666666666, \"#ed7953\"], [0.7777777777777778, \"#fb9f3a\"], [0.8888888888888888, \"#fdca26\"], [1.0, \"#f0f921\"]], \"sequentialminus\": [[0.0, \"#0d0887\"], [0.1111111111111111, \"#46039f\"], [0.2222222222222222, \"#7201a8\"], [0.3333333333333333, \"#9c179e\"], [0.4444444444444444, \"#bd3786\"], [0.5555555555555556, \"#d8576b\"], [0.6666666666666666, \"#ed7953\"], [0.7777777777777778, \"#fb9f3a\"], [0.8888888888888888, \"#fdca26\"], [1.0, \"#f0f921\"]]}, \"colorway\": [\"#636efa\", \"#EF553B\", \"#00cc96\", \"#ab63fa\", \"#FFA15A\", \"#19d3f3\", \"#FF6692\", \"#B6E880\", \"#FF97FF\", \"#FECB52\"], \"font\": {\"color\": \"#2a3f5f\"}, \"geo\": {\"bgcolor\": \"white\", \"lakecolor\": \"white\", \"landcolor\": \"#E5ECF6\", \"showlakes\": true, \"showland\": true, \"subunitcolor\": \"white\"}, \"hoverlabel\": {\"align\": \"left\"}, \"hovermode\": \"closest\", \"mapbox\": {\"style\": \"light\"}, \"paper_bgcolor\": \"white\", \"plot_bgcolor\": \"#E5ECF6\", \"polar\": {\"angularaxis\": {\"gridcolor\": \"white\", \"linecolor\": \"white\", \"ticks\": \"\"}, \"bgcolor\": \"#E5ECF6\", \"radialaxis\": {\"gridcolor\": \"white\", \"linecolor\": \"white\", \"ticks\": \"\"}}, \"scene\": {\"xaxis\": {\"backgroundcolor\": \"#E5ECF6\", \"gridcolor\": \"white\", \"gridwidth\": 2, \"linecolor\": \"white\", \"showbackground\": true, \"ticks\": \"\", \"zerolinecolor\": \"white\"}, \"yaxis\": {\"backgroundcolor\": \"#E5ECF6\", \"gridcolor\": \"white\", \"gridwidth\": 2, \"linecolor\": \"white\", \"showbackground\": true, \"ticks\": \"\", \"zerolinecolor\": \"white\"}, \"zaxis\": {\"backgroundcolor\": \"#E5ECF6\", \"gridcolor\": \"white\", \"gridwidth\": 2, \"linecolor\": \"white\", \"showbackground\": true, \"ticks\": \"\", \"zerolinecolor\": \"white\"}}, \"shapedefaults\": {\"line\": {\"color\": \"#2a3f5f\"}}, \"ternary\": {\"aaxis\": {\"gridcolor\": \"white\", \"linecolor\": \"white\", \"ticks\": \"\"}, \"baxis\": {\"gridcolor\": \"white\", \"linecolor\": \"white\", \"ticks\": \"\"}, \"bgcolor\": \"#E5ECF6\", \"caxis\": {\"gridcolor\": \"white\", \"linecolor\": \"white\", \"ticks\": \"\"}}, \"title\": {\"x\": 0.05}, \"xaxis\": {\"automargin\": true, \"gridcolor\": \"white\", \"linecolor\": \"white\", \"ticks\": \"\", \"title\": {\"standoff\": 15}, \"zerolinecolor\": \"white\", \"zerolinewidth\": 2}, \"yaxis\": {\"automargin\": true, \"gridcolor\": \"white\", \"linecolor\": \"white\", \"ticks\": \"\", \"title\": {\"standoff\": 15}, \"zerolinecolor\": \"white\", \"zerolinewidth\": 2}}}, \"title\": {\"text\": \"N\\u00famero de Estudiante por hora de inicio de exam\\u00e9n\"}, \"xaxis\": {\"anchor\": \"y\", \"domain\": [0.0, 0.45]}, \"xaxis2\": {\"anchor\": \"y2\", \"domain\": [0.55, 1.0]}, \"xaxis3\": {\"anchor\": \"y3\", \"domain\": [0.0, 0.45], \"title\": {\"text\": \"hora\"}}, \"xaxis4\": {\"anchor\": \"y4\", \"domain\": [0.55, 1.0], \"title\": {\"text\": \"hora\"}}, \"yaxis\": {\"anchor\": \"x\", \"domain\": [0.625, 1.0]}, \"yaxis2\": {\"anchor\": \"x2\", \"domain\": [0.625, 1.0]}, \"yaxis3\": {\"anchor\": \"x3\", \"domain\": [0.0, 0.375]}, \"yaxis4\": {\"anchor\": \"x4\", \"domain\": [0.0, 0.375]}},\n",
              "                        {\"responsive\": true}\n",
              "                    ).then(function(){\n",
              "                            \n",
              "var gd = document.getElementById('4f615dd5-7ea6-4648-8476-0b862b67c48a');\n",
              "var x = new MutationObserver(function (mutations, observer) {{\n",
              "        var display = window.getComputedStyle(gd).display;\n",
              "        if (!display || display === 'none') {{\n",
              "            console.log([gd, 'removed!']);\n",
              "            Plotly.purge(gd);\n",
              "            observer.disconnect();\n",
              "        }}\n",
              "}});\n",
              "\n",
              "// Listen for the removal of the full notebook cells\n",
              "var notebookContainer = gd.closest('#notebook-container');\n",
              "if (notebookContainer) {{\n",
              "    x.observe(notebookContainer, {childList: true});\n",
              "}}\n",
              "\n",
              "// Listen for the clearing of the current output cell\n",
              "var outputEl = gd.closest('.output');\n",
              "if (outputEl) {{\n",
              "    x.observe(outputEl, {childList: true});\n",
              "}}\n",
              "\n",
              "                        })\n",
              "                };\n",
              "                \n",
              "            </script>\n",
              "        </div>\n",
              "</body>\n",
              "</html>"
            ]
          },
          "metadata": {
            "tags": []
          }
        },
        {
          "output_type": "display_data",
          "data": {
            "image/png": "[encoded data removed]",
            "text/plain": [
              "<Figure size 720x504 with 10 Axes>"
            ]
          },
          "metadata": {
            "tags": []
          }
        },
        {
          "output_type": "display_data",
          "data": {
            "image/png": "[encoded data removed]",
            "text/plain": [
              "<Figure size 1080x360 with 1 Axes>"
            ]
          },
          "metadata": {
            "tags": []
          }
        },
        {
          "output_type": "display_data",
          "data": {
            "image/png": "[encoded data removed]",
            "text/plain": [
              "<Figure size 1080x360 with 1 Axes>"
            ]
          },
          "metadata": {
            "tags": []
          }
        },
        {
          "output_type": "display_data",
          "data": {
            "image/png": "[encoded data removed]",
            "text/plain": [
              "<Figure size 1080x360 with 1 Axes>"
            ]
          },
          "metadata": {
            "tags": []
          }
        }
      ]
    },
    {
      "cell_type": "code",
      "metadata": {
        "colab": {
          "base_uri": "https://localhost:8080/",
          "height": 353
        },
        "id": "RMWWREj_g5EQ",
        "outputId": "0f98fbf5-b2da-4b4b-c4e2-5ab0fbe79355"
      },
      "source": [
        "fig3_16"
      ],
      "execution_count": 15,
      "outputs": [
        {
          "output_type": "execute_result",
          "data": {
            "image/png": "[encoded data removed]",
            "text/plain": [
              "<Figure size 1080x360 with 1 Axes>"
            ]
          },
          "metadata": {
            "tags": []
          },
          "execution_count": 15
        }
      ]
    },
    {
      "cell_type": "markdown",
      "metadata": {
        "id": "TjnncdJXhAdI"
      },
      "source": [
        "fig3_16 Gráfico del número de estudiantes por el id de cada sala\n",
        "\n",
        "## Analisis del Gráfico 3.16\n",
        "* La cantidad promedio de estudiantes por Id de sala es de  19.69\n",
        "* De los 32 Id de sala se crea una subcategoria de otras de los id (1,17,30,28,8,9,29,10,32,5,7,31). que no se encuentran entre el top 20 \n"
      ]
    },
    {
      "cell_type": "code",
      "metadata": {
        "colab": {
          "base_uri": "https://localhost:8080/",
          "height": 482
        },
        "id": "UF4qw40KMBW4",
        "outputId": "6e7af3ac-30fe-41ce-d2ef-f6923018fe25"
      },
      "source": [
        "fig3_15"
      ],
      "execution_count": 16,
      "outputs": [
        {
          "output_type": "execute_result",
          "data": {
            "image/png": "[encoded data removed]",
            "text/plain": [
              "<Figure size 1080x360 with 1 Axes>"
            ]
          },
          "metadata": {
            "tags": []
          },
          "execution_count": 16
        }
      ]
    },
    {
      "cell_type": "markdown",
      "metadata": {
        "id": "Al_s_H6GMGlD"
      },
      "source": [
        "fig3_15 Gráfico del número de id de sala por nombre de sala\n",
        "\n",
        "## Analisis del Gráfico 3.15\n",
        "* Se cuenta con 21 salas y 11 de estas tienen dos Id diferentes por el mismo nombre. esto tiene como consecuencia que al evaluar la cantidad de estudiantes por nombre de sala se duplicara\n",
        "* Solo 10 de las salas cuentan con Id unico\n"
      ]
    },
    {
      "cell_type": "markdown",
      "metadata": {
        "id": "vSd_ubHYMCTv"
      },
      "source": [
        ""
      ]
    },
    {
      "cell_type": "code",
      "metadata": {
        "colab": {
          "base_uri": "https://localhost:8080/",
          "height": 549
        },
        "id": "mmrbAZbYKHj9",
        "outputId": "96e90d64-1224-4421-fa88-4ab96929362f"
      },
      "source": [
        "figure332"
      ],
      "execution_count": 17,
      "outputs": [
        {
          "output_type": "execute_result",
          "data": {
            "image/png": "[encoded data removed]",
            "text/plain": [
              "<Figure size 720x504 with 10 Axes>"
            ]
          },
          "metadata": {
            "tags": []
          },
          "execution_count": 17
        }
      ]
    },
    {
      "cell_type": "markdown",
      "metadata": {
        "id": "EllfwtK1jg4v"
      },
      "source": [
        "Gráfico 3.12 Resumen gráfico de las calificaciones por cada punto del exámen\n",
        "\n",
        "## Analisis del Gráfico 3.12\n",
        "\n",
        "* Las variables [\"p1\", \"p2\", \"p3\", \"p4\",\"p5\",\"p6\",\"p7\",\"p8\",\"p9\",\"p10\"]. se tiene el mismo rango de resultado 0.0 o 0.5, por esto se decide realizar un gráfico conjunto\n",
        "* La cantidad total de registros con notas de 0.5 o 0.0 es de 526, 104 datos se encuentran vacios  \n",
        "* La nota con mayor concurrencia fue 0.0 en los 10 puntos. Esta nota tiene más del 53% de registros por punto\n",
        "* Los puntos (p4,p8,p9,p10) son los que tienen más del 40% de respuestas correctas\n",
        "\n"
      ]
    },
    {
      "cell_type": "code",
      "metadata": {
        "colab": {
          "base_uri": "https://localhost:8080/",
          "height": 397
        },
        "id": "AHNVEmRqaVrk",
        "outputId": "a505fb57-8674-422f-b281-6e5665fbb624"
      },
      "source": [
        "fig3_18"
      ],
      "execution_count": 18,
      "outputs": [
        {
          "output_type": "execute_result",
          "data": {
            "image/png": "[encoded data removed]",
            "text/plain": [
              "<Figure size 1080x360 with 1 Axes>"
            ]
          },
          "metadata": {
            "tags": []
          },
          "execution_count": 18
        }
      ]
    },
    {
      "cell_type": "markdown",
      "metadata": {
        "id": "8q2FO9ubxTaf"
      },
      "source": [
        "Gráfico 3.18 Número de estudiantes por horario de examén\n",
        "\n",
        "## Analisis del Gráfico 3.18\n",
        "\n",
        "* El 60% de estudiantes presentó el examén en la franja de las  9:00  y el 40% lo presento  18:00"
      ]
    },
    {
      "cell_type": "code",
      "metadata": {
        "colab": {
          "base_uri": "https://localhost:8080/",
          "height": 542
        },
        "id": "TCHhnT16BS24",
        "outputId": "e45e5273-446c-4582-ecca-2b7dad642529"
      },
      "source": [
        "fig3_1"
      ],
      "execution_count": 150,
      "outputs": [
        {
          "output_type": "display_data",
          "data": {
            "text/html": [
              "<html>\n",
              "<head><meta charset=\"utf-8\" /></head>\n",
              "<body>\n",
              "    <div>\n",
              "            <script src=\"https://cdnjs.cloudflare.com/ajax/libs/mathjax/2.7.5/MathJax.js?config=TeX-AMS-MML_SVG\"></script><script type=\"text/javascript\">if (window.MathJax) {MathJax.Hub.Config({SVG: {font: \"STIX-Web\"}});}</script>\n",
              "                <script type=\"text/javascript\">window.PlotlyConfig = {MathJaxConfig: 'local'};</script>\n",
              "        <script src=\"https://cdn.plot.ly/plotly-latest.min.js\"></script>    \n",
              "            <div id=\"e8daa850-6800-4a54-8416-11312b4d7564\" class=\"plotly-graph-div\" style=\"height:525px; width:100%;\"></div>\n",
              "            <script type=\"text/javascript\">\n",
              "                \n",
              "                    window.PLOTLYENV=window.PLOTLYENV || {};\n",
              "                    \n",
              "                if (document.getElementById(\"e8daa850-6800-4a54-8416-11312b4d7564\")) {\n",
              "                    Plotly.newPlot(\n",
              "                        'e8daa850-6800-4a54-8416-11312b4d7564',\n",
              "                        [{\"marker\": {\"color\": \"crimson\"}, \"type\": \"bar\", \"x\": [\"No presento\", \"otras\", \"09:11\", \"09:14\", \"09:10\", \"09:13\", \"09:07\", \"09:12\", \"09:08\", \"09:05\", \"09:04\", \"09:09\", \"09:06\", \"09:15\", \"09:16\", \"09:17\", \"09:24\", \"09:26\", \"09:20\", \"09:23\", \"09:18\"], \"xaxis\": \"x\", \"y\": [52, 51, 34, 31, 27, 24, 21, 19, 17, 14, 13, 13, 12, 11, 9, 9, 9, 8, 8, 7, 7], \"yaxis\": \"y\"}, {\"marker\": {\"color\": \"lightslategrey\"}, \"type\": \"bar\", \"x\": [\"No presento\", \"18:14\", \"18:19\", \"otras\", \"18:27\", \"18:12\", \"18:20\", \"18:16\", \"18:13\", \"18:09\", \"18:17\", \"18:25\", \"18:15\", \"18:22\", \"18:21\", \"18:18\", \"18:11\", \"18:10\", \"18:28\", \"18:23\", \"18:24\"], \"xaxis\": \"x2\", \"y\": [52, 28, 24, 16, 15, 11, 11, 10, 8, 7, 6, 6, 6, 5, 5, 5, 5, 4, 4, 3, 3], \"yaxis\": \"y2\"}, {\"marker\": {\"color\": \"crimson\"}, \"type\": \"bar\", \"x\": [\"otras\", \"No presento\", \"10:21\", \"10:14\", \"10:04\", \"10:01\", \"10:02\", \"09:53\", \"09:59\", \"10:00\", \"10:07\", \"09:55\", \"10:15\", \"10:03\", \"09:50\", \"10:27\", \"10:13\", \"10:16\", \"09:54\", \"09:56\", \"10:22\"], \"xaxis\": \"x3\", \"y\": [159, 52, 14, 12, 12, 12, 11, 11, 10, 10, 10, 10, 9, 9, 9, 8, 8, 8, 8, 7, 7], \"yaxis\": \"y3\"}, {\"marker\": {\"color\": \"lightslategrey\"}, \"type\": \"bar\", \"x\": [\"otras\", \"No presento\", \"19:02\", \"18:49\", \"19:00\", \"19:13\", \"19:16\", \"18:48\", \"18:52\", \"19:12\", \"19:11\", \"19:04\", \"19:05\", \"19:07\", \"19:09\", \"19:01\", \"19:15\", \"19:18\", \"19:22\", \"19:30\", \"18:46\"], \"xaxis\": \"x4\", \"y\": [92, 52, 8, 6, 6, 6, 5, 5, 5, 5, 4, 4, 4, 4, 4, 4, 4, 4, 4, 4, 4], \"yaxis\": \"y4\"}],\n",
              "                        {\"annotations\": [{\"font\": {\"size\": 16}, \"showarrow\": false, \"text\": \"Hora inicio de Exam\\u00e9n franja de 9:00 a.m\", \"x\": 0.225, \"xanchor\": \"center\", \"xref\": \"paper\", \"y\": 1.0, \"yanchor\": \"bottom\", \"yref\": \"paper\"}, {\"font\": {\"size\": 16}, \"showarrow\": false, \"text\": \"Hora inicio de Exam\\u00e9n franja de 6:00 p.m\", \"x\": 0.775, \"xanchor\": \"center\", \"xref\": \"paper\", \"y\": 1.0, \"yanchor\": \"bottom\", \"yref\": \"paper\"}, {\"font\": {\"size\": 16}, \"showarrow\": false, \"text\": \"Hora final de Exam\\u00e9n franja de 9:00 a.m\", \"x\": 0.225, \"xanchor\": \"center\", \"xref\": \"paper\", \"y\": 0.375, \"yanchor\": \"bottom\", \"yref\": \"paper\"}, {\"font\": {\"size\": 16}, \"showarrow\": false, \"text\": \"Hora final de Exam\\u00e9n franja de 6:00 p.m\", \"x\": 0.775, \"xanchor\": \"center\", \"xref\": \"paper\", \"y\": 0.375, \"yanchor\": \"bottom\", \"yref\": \"paper\"}, {\"font\": {\"size\": 16}, \"showarrow\": false, \"text\": \"Cantidad de estudiantes\", \"textangle\": -90, \"x\": 0, \"xanchor\": \"right\", \"xref\": \"paper\", \"xshift\": -40, \"y\": 0.5, \"yanchor\": \"middle\", \"yref\": \"paper\"}], \"bargap\": 0.2, \"bargroupgap\": 0.1, \"barmode\": \"stack\", \"showlegend\": false, \"template\": {\"data\": {\"bar\": [{\"error_x\": {\"color\": \"#2a3f5f\"}, \"error_y\": {\"color\": \"#2a3f5f\"}, \"marker\": {\"line\": {\"color\": \"#E5ECF6\", \"width\": 0.5}}, \"type\": \"bar\"}], \"barpolar\": [{\"marker\": {\"line\": {\"color\": \"#E5ECF6\", \"width\": 0.5}}, \"type\": \"barpolar\"}], \"carpet\": [{\"aaxis\": {\"endlinecolor\": \"#2a3f5f\", \"gridcolor\": \"white\", \"linecolor\": \"white\", \"minorgridcolor\": \"white\", \"startlinecolor\": \"#2a3f5f\"}, \"baxis\": {\"endlinecolor\": \"#2a3f5f\", \"gridcolor\": \"white\", \"linecolor\": \"white\", \"minorgridcolor\": \"white\", \"startlinecolor\": \"#2a3f5f\"}, \"type\": \"carpet\"}], \"choropleth\": [{\"colorbar\": {\"outlinewidth\": 0, \"ticks\": \"\"}, \"type\": \"choropleth\"}], \"contour\": [{\"colorbar\": {\"outlinewidth\": 0, \"ticks\": \"\"}, \"colorscale\": [[0.0, \"#0d0887\"], [0.1111111111111111, \"#46039f\"], [0.2222222222222222, \"#7201a8\"], [0.3333333333333333, \"#9c179e\"], [0.4444444444444444, \"#bd3786\"], [0.5555555555555556, \"#d8576b\"], [0.6666666666666666, \"#ed7953\"], [0.7777777777777778, \"#fb9f3a\"], [0.8888888888888888, \"#fdca26\"], [1.0, \"#f0f921\"]], \"type\": \"contour\"}], \"contourcarpet\": [{\"colorbar\": {\"outlinewidth\": 0, \"ticks\": \"\"}, \"type\": \"contourcarpet\"}], \"heatmap\": [{\"colorbar\": {\"outlinewidth\": 0, \"ticks\": \"\"}, \"colorscale\": [[0.0, \"#0d0887\"], [0.1111111111111111, \"#46039f\"], [0.2222222222222222, \"#7201a8\"], [0.3333333333333333, \"#9c179e\"], [0.4444444444444444, \"#bd3786\"], [0.5555555555555556, \"#d8576b\"], [0.6666666666666666, \"#ed7953\"], [0.7777777777777778, \"#fb9f3a\"], [0.8888888888888888, \"#fdca26\"], [1.0, \"#f0f921\"]], \"type\": \"heatmap\"}], \"heatmapgl\": [{\"colorbar\": {\"outlinewidth\": 0, \"ticks\": \"\"}, \"colorscale\": [[0.0, \"#0d0887\"], [0.1111111111111111, \"#46039f\"], [0.2222222222222222, \"#7201a8\"], [0.3333333333333333, \"#9c179e\"], [0.4444444444444444, \"#bd3786\"], [0.5555555555555556, \"#d8576b\"], [0.6666666666666666, \"#ed7953\"], [0.7777777777777778, \"#fb9f3a\"], [0.8888888888888888, \"#fdca26\"], [1.0, \"#f0f921\"]], \"type\": \"heatmapgl\"}], \"histogram\": [{\"marker\": {\"colorbar\": {\"outlinewidth\": 0, \"ticks\": \"\"}}, \"type\": \"histogram\"}], \"histogram2d\": [{\"colorbar\": {\"outlinewidth\": 0, \"ticks\": \"\"}, \"colorscale\": [[0.0, \"#0d0887\"], [0.1111111111111111, \"#46039f\"], [0.2222222222222222, \"#7201a8\"], [0.3333333333333333, \"#9c179e\"], [0.4444444444444444, \"#bd3786\"], [0.5555555555555556, \"#d8576b\"], [0.6666666666666666, \"#ed7953\"], [0.7777777777777778, \"#fb9f3a\"], [0.8888888888888888, \"#fdca26\"], [1.0, \"#f0f921\"]], \"type\": \"histogram2d\"}], \"histogram2dcontour\": [{\"colorbar\": {\"outlinewidth\": 0, \"ticks\": \"\"}, \"colorscale\": [[0.0, \"#0d0887\"], [0.1111111111111111, \"#46039f\"], [0.2222222222222222, \"#7201a8\"], [0.3333333333333333, \"#9c179e\"], [0.4444444444444444, \"#bd3786\"], [0.5555555555555556, \"#d8576b\"], [0.6666666666666666, \"#ed7953\"], [0.7777777777777778, \"#fb9f3a\"], [0.8888888888888888, \"#fdca26\"], [1.0, \"#f0f921\"]], \"type\": \"histogram2dcontour\"}], \"mesh3d\": [{\"colorbar\": {\"outlinewidth\": 0, \"ticks\": \"\"}, \"type\": \"mesh3d\"}], \"parcoords\": [{\"line\": {\"colorbar\": {\"outlinewidth\": 0, \"ticks\": \"\"}}, \"type\": \"parcoords\"}], \"pie\": [{\"automargin\": true, \"type\": \"pie\"}], \"scatter\": [{\"marker\": {\"colorbar\": {\"outlinewidth\": 0, \"ticks\": \"\"}}, \"type\": \"scatter\"}], \"scatter3d\": [{\"line\": {\"colorbar\": {\"outlinewidth\": 0, \"ticks\": \"\"}}, \"marker\": {\"colorbar\": {\"outlinewidth\": 0, \"ticks\": \"\"}}, \"type\": \"scatter3d\"}], \"scattercarpet\": [{\"marker\": {\"colorbar\": {\"outlinewidth\": 0, \"ticks\": \"\"}}, \"type\": \"scattercarpet\"}], \"scattergeo\": [{\"marker\": {\"colorbar\": {\"outlinewidth\": 0, \"ticks\": \"\"}}, \"type\": \"scattergeo\"}], \"scattergl\": [{\"marker\": {\"colorbar\": {\"outlinewidth\": 0, \"ticks\": \"\"}}, \"type\": \"scattergl\"}], \"scattermapbox\": [{\"marker\": {\"colorbar\": {\"outlinewidth\": 0, \"ticks\": \"\"}}, \"type\": \"scattermapbox\"}], \"scatterpolar\": [{\"marker\": {\"colorbar\": {\"outlinewidth\": 0, \"ticks\": \"\"}}, \"type\": \"scatterpolar\"}], \"scatterpolargl\": [{\"marker\": {\"colorbar\": {\"outlinewidth\": 0, \"ticks\": \"\"}}, \"type\": \"scatterpolargl\"}], \"scatterternary\": [{\"marker\": {\"colorbar\": {\"outlinewidth\": 0, \"ticks\": \"\"}}, \"type\": \"scatterternary\"}], \"surface\": [{\"colorbar\": {\"outlinewidth\": 0, \"ticks\": \"\"}, \"colorscale\": [[0.0, \"#0d0887\"], [0.1111111111111111, \"#46039f\"], [0.2222222222222222, \"#7201a8\"], [0.3333333333333333, \"#9c179e\"], [0.4444444444444444, \"#bd3786\"], [0.5555555555555556, \"#d8576b\"], [0.6666666666666666, \"#ed7953\"], [0.7777777777777778, \"#fb9f3a\"], [0.8888888888888888, \"#fdca26\"], [1.0, \"#f0f921\"]], \"type\": \"surface\"}], \"table\": [{\"cells\": {\"fill\": {\"color\": \"#EBF0F8\"}, \"line\": {\"color\": \"white\"}}, \"header\": {\"fill\": {\"color\": \"#C8D4E3\"}, \"line\": {\"color\": \"white\"}}, \"type\": \"table\"}]}, \"layout\": {\"annotationdefaults\": {\"arrowcolor\": \"#2a3f5f\", \"arrowhead\": 0, \"arrowwidth\": 1}, \"coloraxis\": {\"colorbar\": {\"outlinewidth\": 0, \"ticks\": \"\"}}, \"colorscale\": {\"diverging\": [[0, \"#8e0152\"], [0.1, \"#c51b7d\"], [0.2, \"#de77ae\"], [0.3, \"#f1b6da\"], [0.4, \"#fde0ef\"], [0.5, \"#f7f7f7\"], [0.6, \"#e6f5d0\"], [0.7, \"#b8e186\"], [0.8, \"#7fbc41\"], [0.9, \"#4d9221\"], [1, \"#276419\"]], \"sequential\": [[0.0, \"#0d0887\"], [0.1111111111111111, \"#46039f\"], [0.2222222222222222, \"#7201a8\"], [0.3333333333333333, \"#9c179e\"], [0.4444444444444444, \"#bd3786\"], [0.5555555555555556, \"#d8576b\"], [0.6666666666666666, \"#ed7953\"], [0.7777777777777778, \"#fb9f3a\"], [0.8888888888888888, \"#fdca26\"], [1.0, \"#f0f921\"]], \"sequentialminus\": [[0.0, \"#0d0887\"], [0.1111111111111111, \"#46039f\"], [0.2222222222222222, \"#7201a8\"], [0.3333333333333333, \"#9c179e\"], [0.4444444444444444, \"#bd3786\"], [0.5555555555555556, \"#d8576b\"], [0.6666666666666666, \"#ed7953\"], [0.7777777777777778, \"#fb9f3a\"], [0.8888888888888888, \"#fdca26\"], [1.0, \"#f0f921\"]]}, \"colorway\": [\"#636efa\", \"#EF553B\", \"#00cc96\", \"#ab63fa\", \"#FFA15A\", \"#19d3f3\", \"#FF6692\", \"#B6E880\", \"#FF97FF\", \"#FECB52\"], \"font\": {\"color\": \"#2a3f5f\"}, \"geo\": {\"bgcolor\": \"white\", \"lakecolor\": \"white\", \"landcolor\": \"#E5ECF6\", \"showlakes\": true, \"showland\": true, \"subunitcolor\": \"white\"}, \"hoverlabel\": {\"align\": \"left\"}, \"hovermode\": \"closest\", \"mapbox\": {\"style\": \"light\"}, \"paper_bgcolor\": \"white\", \"plot_bgcolor\": \"#E5ECF6\", \"polar\": {\"angularaxis\": {\"gridcolor\": \"white\", \"linecolor\": \"white\", \"ticks\": \"\"}, \"bgcolor\": \"#E5ECF6\", \"radialaxis\": {\"gridcolor\": \"white\", \"linecolor\": \"white\", \"ticks\": \"\"}}, \"scene\": {\"xaxis\": {\"backgroundcolor\": \"#E5ECF6\", \"gridcolor\": \"white\", \"gridwidth\": 2, \"linecolor\": \"white\", \"showbackground\": true, \"ticks\": \"\", \"zerolinecolor\": \"white\"}, \"yaxis\": {\"backgroundcolor\": \"#E5ECF6\", \"gridcolor\": \"white\", \"gridwidth\": 2, \"linecolor\": \"white\", \"showbackground\": true, \"ticks\": \"\", \"zerolinecolor\": \"white\"}, \"zaxis\": {\"backgroundcolor\": \"#E5ECF6\", \"gridcolor\": \"white\", \"gridwidth\": 2, \"linecolor\": \"white\", \"showbackground\": true, \"ticks\": \"\", \"zerolinecolor\": \"white\"}}, \"shapedefaults\": {\"line\": {\"color\": \"#2a3f5f\"}}, \"ternary\": {\"aaxis\": {\"gridcolor\": \"white\", \"linecolor\": \"white\", \"ticks\": \"\"}, \"baxis\": {\"gridcolor\": \"white\", \"linecolor\": \"white\", \"ticks\": \"\"}, \"bgcolor\": \"#E5ECF6\", \"caxis\": {\"gridcolor\": \"white\", \"linecolor\": \"white\", \"ticks\": \"\"}}, \"title\": {\"x\": 0.05}, \"xaxis\": {\"automargin\": true, \"gridcolor\": \"white\", \"linecolor\": \"white\", \"ticks\": \"\", \"title\": {\"standoff\": 15}, \"zerolinecolor\": \"white\", \"zerolinewidth\": 2}, \"yaxis\": {\"automargin\": true, \"gridcolor\": \"white\", \"linecolor\": \"white\", \"ticks\": \"\", \"title\": {\"standoff\": 15}, \"zerolinecolor\": \"white\", \"zerolinewidth\": 2}}}, \"title\": {\"text\": \"N\\u00famero de Estudiante por hora de inicio de exam\\u00e9n\"}, \"xaxis\": {\"anchor\": \"y\", \"domain\": [0.0, 0.45]}, \"xaxis2\": {\"anchor\": \"y2\", \"domain\": [0.55, 1.0]}, \"xaxis3\": {\"anchor\": \"y3\", \"domain\": [0.0, 0.45], \"title\": {\"text\": \"hora\"}}, \"xaxis4\": {\"anchor\": \"y4\", \"domain\": [0.55, 1.0], \"title\": {\"text\": \"hora\"}}, \"yaxis\": {\"anchor\": \"x\", \"domain\": [0.625, 1.0]}, \"yaxis2\": {\"anchor\": \"x2\", \"domain\": [0.625, 1.0]}, \"yaxis3\": {\"anchor\": \"x3\", \"domain\": [0.0, 0.375]}, \"yaxis4\": {\"anchor\": \"x4\", \"domain\": [0.0, 0.375]}},\n",
              "                        {\"responsive\": true}\n",
              "                    ).then(function(){\n",
              "                            \n",
              "var gd = document.getElementById('e8daa850-6800-4a54-8416-11312b4d7564');\n",
              "var x = new MutationObserver(function (mutations, observer) {{\n",
              "        var display = window.getComputedStyle(gd).display;\n",
              "        if (!display || display === 'none') {{\n",
              "            console.log([gd, 'removed!']);\n",
              "            Plotly.purge(gd);\n",
              "            observer.disconnect();\n",
              "        }}\n",
              "}});\n",
              "\n",
              "// Listen for the removal of the full notebook cells\n",
              "var notebookContainer = gd.closest('#notebook-container');\n",
              "if (notebookContainer) {{\n",
              "    x.observe(notebookContainer, {childList: true});\n",
              "}}\n",
              "\n",
              "// Listen for the clearing of the current output cell\n",
              "var outputEl = gd.closest('.output');\n",
              "if (outputEl) {{\n",
              "    x.observe(outputEl, {childList: true});\n",
              "}}\n",
              "\n",
              "                        })\n",
              "                };\n",
              "                \n",
              "            </script>\n",
              "        </div>\n",
              "</body>\n",
              "</html>"
            ]
          },
          "metadata": {
            "tags": []
          }
        }
      ]
    },
    {
      "cell_type": "markdown",
      "metadata": {
        "id": "8ZPSRFJ5-cYf"
      },
      "source": [
        "Gráfico 3_1 Segmentación de Cantidad de estudiantes por hora de inicio,finalización  y Franja prevista para la presentacion de examén \n",
        "\n",
        "## Analisis del Gráfico 3.1\n",
        "\n",
        "* 104 Estudiantes no presentaron el examén\n",
        "* 293 Estudiantes iniciaron el examén antes de 9:30 a.m \n",
        "* 166 Estudiantes iniciaron el examén antes de 6:30 p.m \n",
        "* Del top 20 la mayoria de estudiantes finalizaron el examén en 1 hora\n"
      ]
    },
    {
      "cell_type": "markdown",
      "metadata": {
        "id": "erXrVtLiFO3y"
      },
      "source": [
        "##2.8. Identificar, análizar y corregir posibles datos atípicos \n",
        "\n",
        "> Identifique, analice y si es posible corrija valores atípicos encontrados en las columnas"
      ]
    },
    {
      "cell_type": "markdown",
      "metadata": {
        "id": "VgCEJRDYG6gA"
      },
      "source": [
        "###**Código Implementado**"
      ]
    },
    {
      "cell_type": "code",
      "metadata": {
        "colab": {
          "base_uri": "https://localhost:8080/",
          "height": 80
        },
        "id": "riu230Kn41EE",
        "outputId": "20727032-d2f3-475a-c5bc-21fc9df129e0"
      },
      "source": [
        "# Dataframe a emplear es fixed_df\n",
        "# 1. Columna de programa presenta variación en la forma de escritura\n",
        "fixed_df.programa = fixed_df.programa.replace({'Ingeniería Electórnica': 'Ingeniería Electrónica'})\n",
        "fixed_df.programa = fixed_df.programa.replace({'Ingeniería Industial': 'Ingeniería Industrial'})\n",
        "# 2. Corregir IDP \n",
        "IDP_irregular=fixed_df[fixed_df.IDP==208]\n",
        "fixed_df.loc[fixed_df.IDP==208,'profesor']='Menelao'\n",
        "IDP_irregular.profesor.unique()\n",
        "IDP_irregularf=fixed_df[fixed_df.IDP==204]\n",
        "IDP_irregularf.profesor.unique()\n"
      ],
      "execution_count": 156,
      "outputs": [
        {
          "output_type": "execute_result",
          "data": {
            "text/html": [
              "<div>\n",
              "<style scoped>\n",
              "    .dataframe tbody tr th:only-of-type {\n",
              "        vertical-align: middle;\n",
              "    }\n",
              "\n",
              "    .dataframe tbody tr th {\n",
              "        vertical-align: top;\n",
              "    }\n",
              "\n",
              "    .dataframe thead th {\n",
              "        text-align: right;\n",
              "    }\n",
              "</style>\n",
              "<table border=\"1\" class=\"dataframe\">\n",
              "  <thead>\n",
              "    <tr style=\"text-align: right;\">\n",
              "      <th></th>\n",
              "      <th>final</th>\n",
              "      <th>horaExamen</th>\n",
              "      <th>IDE</th>\n",
              "    </tr>\n",
              "  </thead>\n",
              "  <tbody>\n",
              "    <tr>\n",
              "      <th>0</th>\n",
              "      <td>otras</td>\n",
              "      <td>2020-11-25 09:00:00</td>\n",
              "      <td>159</td>\n",
              "    </tr>\n",
              "  </tbody>\n",
              "</table>\n",
              "</div>"
            ],
            "text/plain": [
              "   final          horaExamen  IDE\n",
              "0  otras 2020-11-25 09:00:00  159"
            ]
          },
          "metadata": {
            "tags": []
          },
          "execution_count": 156
        }
      ]
    },
    {
      "cell_type": "markdown",
      "metadata": {
        "id": "8a_38XqJHD7a"
      },
      "source": [
        "### **Análisis**\n"
      ]
    },
    {
      "cell_type": "markdown",
      "metadata": {
        "id": "oPisOCGJHJsI"
      },
      "source": [
        "**Identificación datos atipicos**"
      ]
    },
    {
      "cell_type": "code",
      "metadata": {
        "colab": {
          "base_uri": "https://localhost:8080/",
          "height": 273
        },
        "id": "nIrBAixPHcfz",
        "outputId": "3116fbcc-5166-4599-ea73-b0bf14b3cc24"
      },
      "source": [
        "print(\"Columna de programa\\n\")\n",
        "print(df.programa.value_counts())\n",
        "print(\"\\nLos programas de ingeniería industrial y ingeniería Electrónica,presentan variaciónes en cuanto su escritura\")\n",
        "print(\"\")\n",
        "# 2. Corregir IDP \n",
        "'''IDP_irregular=fixed_df[fixed_df.IDP==208]\n",
        "fixed_df.loc[fixed_df.IDP==208,'profesor']='Menelao'\n",
        "IDP_irregular.profesor.unique()\n",
        "IDP_irregularf=fixed_df[fixed_df.IDP==204]\n",
        "IDP_irregularf.profesor.unique()\n",
        "'''\n",
        "#df.profesor\n",
        "#df.value_counts([\"profesor\", \"IDP\"]).unique\n"
      ],
      "execution_count": 165,
      "outputs": [
        {
          "output_type": "stream",
          "text": [
            "Columna de programa\n",
            "\n",
            "Ingeniería Ambiental      236\n",
            "Ingeniería De Sistemas    144\n",
            "Ingeniería Electrónica     98\n",
            "Ingeniería Industrial      62\n",
            "Ingeniería Mecánica        59\n",
            "Ingeniería Industial       19\n",
            "Ingeniería Electórnica     12\n",
            "Name: programa, dtype: int64\n",
            "\n",
            "Los programas de ingeniería industrial y ingeniería Electrónica,presentan variaciónes en cuanto su escritura\n",
            "\n"
          ],
          "name": "stdout"
        },
        {
          "output_type": "execute_result",
          "data": {
            "application/vnd.google.colaboratory.intrinsic+json": {
              "type": "string"
            },
            "text/plain": [
              "\"IDP_irregular=fixed_df[fixed_df.IDP==208]\\nfixed_df.loc[fixed_df.IDP==208,'profesor']='Menelao'\\nIDP_irregular.profesor.unique()\\nIDP_irregularf=fixed_df[fixed_df.IDP==204]\\nIDP_irregularf.profesor.unique()\\n\""
            ]
          },
          "metadata": {
            "tags": []
          },
          "execution_count": 165
        }
      ]
    },
    {
      "cell_type": "markdown",
      "metadata": {
        "id": "jyDjov6NHLta"
      },
      "source": [
        "**Reporte de datos Modificados**"
      ]
    },
    {
      "cell_type": "code",
      "metadata": {
        "colab": {
          "base_uri": "https://localhost:8080/"
        },
        "id": "VyYzMFkAHeRZ",
        "outputId": "d8f431fd-2ecb-4788-da71-b1160b320b60"
      },
      "source": [
        "print(\"La columna programa fue modificado en los registros de: Ingeniería Electórnica y Ingeniería Industial \")\n",
        "fixed_df.programa.value_counts()"
      ],
      "execution_count": 160,
      "outputs": [
        {
          "output_type": "stream",
          "text": [
            "La columna programa fue modificado en los registros de: Ingeniería Electórnica y Ingeniería Industial \n"
          ],
          "name": "stdout"
        },
        {
          "output_type": "execute_result",
          "data": {
            "text/plain": [
              "Ingeniería Ambiental      236\n",
              "Ingeniería De Sistemas    144\n",
              "Ingeniería Electrónica    110\n",
              "Ingeniería Industrial      81\n",
              "Ingeniería Mecánica        59\n",
              "Name: programa, dtype: int64"
            ]
          },
          "metadata": {
            "tags": []
          },
          "execution_count": 160
        }
      ]
    }
  ]
}