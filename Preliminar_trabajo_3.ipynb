{
  "nbformat": 4,
  "nbformat_minor": 0,
  "metadata": {
    "colab": {
      "name": "Preliminar trabajo 3.ipynb",
      "provenance": [],
      "collapsed_sections": [],
      "toc_visible": true,
      "authorship_tag": "ABX9TyO26+c2HqoV6oKZmnFkR675",
      "include_colab_link": true
    },
    "kernelspec": {
      "name": "python3",
      "display_name": "Python 3"
    }
  },
  "cells": [
    {
      "cell_type": "markdown",
      "metadata": {
        "id": "view-in-github",
        "colab_type": "text"
      },
      "source": [
        "<a href=\"https://colab.research.google.com/github/zbuitrago/Trabajo-3/blob/main/Preliminar_trabajo_3.ipynb\" target=\"_parent\"><img src=\"https://colab.research.google.com/assets/colab-badge.svg\" alt=\"Open In Colab\"/></a>"
      ]
    },
    {
      "cell_type": "markdown",
      "metadata": {
        "id": "shYeIInI-RtG"
      },
      "source": [
        "# **Fundamentos de programación para analítica de datos.**\n",
        ">>**Maestría en Analítica de Datos**\n",
        "\n",
        ">>**Facultad de Ingeniería y Ciencias Básicas.**\n",
        "\n",
        ">>**Universidad Central  2020 - II**\n",
        "\n",
        ">>**Presentación Trabajo 3: Calidad de los datos**\n",
        "\n",
        "\n",
        ">>**Integrantes:**\n",
        "\n",
        "> > Zuly Buitrago Castillo\n",
        "\n",
        "> > Jennifer Prada Urbina,\n",
        "\n",
        "> > Oscar Ochoa Bueno\n",
        "\n",
        ">>**Contenido:**\n",
        "1. Requerimiento\n",
        "2. Desarrollo e implentacion\n",
        "  *   Desarrollo lógico\n",
        "  *   Código implentado\n",
        "  *   Análisis\n",
        "3. Código Implementado\n"
      ]
    },
    {
      "cell_type": "markdown",
      "metadata": {
        "id": "JHYRCMxH_Xq-"
      },
      "source": [
        "#**1 .Requerimiento**\n",
        "#Trabajo 3 - Calidad de los datos\n",
        "\n",
        "\n",
        "Se debe realizar el ejercicio grupal de la práctica desarrollada en la semana 11,\n",
        "correspondiente a Calidad de los datos . A continuación se enumeran las actividades del\n",
        "ejercicio que se debe realizar tomando como base el archivo examen3.xlsx (adjunto).\n",
        "1. Hacer una función que crea un dataframe a partir de los atributos de los datos de\n",
        "entrada examen3.xlsx , los cuales son:\n",
        "a. Nombre de la columna del dataframe de entrada\n",
        "b. Tipo de dato (incluido: int, float, string, datetime, boolean)\n",
        "c. Tipo de variable (Continua, numérica discreta, categórica)\n",
        "d. Cantidad de valores únicos\n",
        "e. Cantidad de valores nulos\n",
        "f. Valor que más se repite\n",
        "g. Frecuencia del valor que más se repite\n",
        "h. Valor máximo\n",
        "i. Valor mínimo\n",
        "2. Analice el tipo de dato de cada columna para saber si es el correcto. Si no lo es,\n",
        "determine los valores que generan problemas y clasifique los tipos de problemas\n",
        "que aparecen. Luego cree una función que corrija los valores erróneos, y finalmente,\n",
        "verifique que queda el tipo correcto en cada columna. Reporte los datos que cambió.\n",
        "3. Haga una gráfica de distribución univariada por cada columna. En caso de tener una\n",
        "variable categórica y si la cantidad de valores únicos es menor a la raíz cuadrada de\n",
        "la cantidad de registros, haga una gráfica de barras de mayor a menor de la\n",
        "frecuencia de cada categoría. La gráfica con un máximo de hasta 20 barras y el\n",
        "resto se agrupan en una sola barra llamada “ otras ”. Analice cada una de las gráficas.\n",
        "4. Para las variables numéricas, haga un mapa de correlación y analice qué variables\n",
        "tienen una fuerte relación. Luego, haga un gráfico de distribución bivariada con las\n",
        "columnas que tienen una fuerte relación y use esto para deducir reglas entre las\n",
        "variables.\n",
        "5. Para las variables categóricas y ordinales busque relaciones de jerarquía entre las\n",
        "clases. Si hay relación entre las categorías pinte un árbol mostrando esta.\n",
        "Finalmente, deduzca las reglas de relación entre las variables.\n",
        "6. Haga un análisis de los valores faltantes, determine si se presenta algún problema\n",
        "de integridad con la ausencia de los datos. Si es así, use las reglas definidas entre\n",
        "las variables para rellenar con el dato apropiado. Reporte los cambios.\n",
        "7. Analice la ocurrencia de datos duplicados con todos los atributos y con las\n",
        "columnas: {IDE, curso, créditos}. Evalúe si es necesario eliminar registros duplicados para mejorar la calidad de los datos, en tal caso proceda a eliminarlos y reporte las\n",
        "acciones realizadas.\n",
        "8. Identifique, analice y si es posible corrija valores atípicos encontrados en las\n",
        "columnas. Reporte los cambios realizados.\n",
        "9. Teniendo en cuenta el siguiente problema: \" Analizar el desempeño de los\n",
        "estudiantes en el examen y el resto del semestre, relacionado con el profesor, el\n",
        "grupo, el programa académico, y la jornada \" determine e indique qué filas y\n",
        "columnas no son relevantes para este análisis y se pueden filtrar. Finalmente,\n",
        "genere el dataframe depurado con la mejor calidad que se pudo obtener para la\n",
        "tarea que se plantea en este punto.\n",
        "10. Genere conclusiones acerca de todo el proceso de calidad de datos aplicado a la\n",
        "base entregada. Haga una evaluación de la calidad del resultado final y haga\n",
        "recomendaciones para hacer este proceso en el futuro.\n"
      ]
    },
    {
      "cell_type": "markdown",
      "metadata": {
        "id": "birHemXFa0QX"
      },
      "source": [
        "#**2 .Desarrollo  e implementación**\n"
      ]
    },
    {
      "cell_type": "markdown",
      "metadata": {
        "id": "gD_GlkhSb_i2"
      },
      "source": [
        "## **2.1. Función de Dataframe de atributos**\n",
        "\n",
        "> Se requiere crea un dataframe que describa los atributos del archivo de entrada **examen3.xlsx** \n"
      ]
    },
    {
      "cell_type": "markdown",
      "metadata": {
        "id": "zUwZjh9Bjh5X"
      },
      "source": [
        "### **Desarrollo lógico**\n",
        "\n",
        "1 . Carga de archivo *examen3.xlsx* \n",
        "\n",
        "2 . Definir una función que reciba el dataframe de entrada y retorne un dataframe con los atributos especificados\n",
        "\n",
        "> 2.1. Crear un dataframe. Donde cada columna tomará el nombre de uno de los nueve atributos solicidados en punto 1\n",
        "\n",
        "> 2.2. Iterar el dataframe de entrada para obtener el nombre de la columna y la data por cada columna\n",
        "\n",
        ">2.3. Definir una función que reciba el nombre y data por columna y que retorne un arreglo con los atributos evaluados\n",
        "\n",
        ">>2.3.1. Definir un arreglo para almacenar el resultado por cada atributo evaluado\n",
        "\n",
        ">>2.3.2. Obtener el nombre de la columna\n",
        "\n",
        ">>2.3.3. Evaluar el tipo de dato por columna \n",
        "\n",
        ">>2.3.4. Evaluar el tipo de variable por columna\n",
        "\n",
        ">>2.3.5. Determinar valores únicos por columna\n",
        "\n",
        ">>2.3.6. Determinar valores nulos por columna\n",
        "\n",
        ">>2.3.7. Determinar el valor que más se repite \n",
        "\n",
        ">>2.3.8. Determinar la frecuencia del valor que más se repite\n",
        "\n",
        ">>2.3.9. Evaluar el valor máximo y mínimo por columna.tener presente el tipo de dato y para las columnas que no son de tipo númerico asignar valor de no aplica -->*NA* \n",
        "\n",
        "> 2.4. Asignar data evaluada en el dataframe de atributos a la columna correspondiente de cada valor\n",
        "\n",
        ">2.5. Retornar dataframe de attributos\n",
        "\n",
        "\n"
      ]
    },
    {
      "cell_type": "markdown",
      "metadata": {
        "id": "NrruDvKmxgHR"
      },
      "source": [
        "1. "
      ]
    },
    {
      "cell_type": "markdown",
      "metadata": {
        "id": "ggb17NC9jhn0"
      },
      "source": [
        "###**Código Implementado**"
      ]
    },
    {
      "cell_type": "code",
      "metadata": {
        "id": "E-w7F-ETZge5"
      },
      "source": [
        "# Librerias \n",
        "import pandas as pd\n",
        "import numpy as np\n",
        "import datetime\n",
        "# importar archivo\n",
        "df = pd.read_excel('examen3.xlsx')\n"
      ],
      "execution_count": 1,
      "outputs": []
    },
    {
      "cell_type": "code",
      "metadata": {
        "id": "TrI140umX1PP"
      },
      "source": [
        "def create_attribute_df(df):\n",
        "  '''create_attribute_df: función que crea dataframe con atributos de dataframe entrante \n",
        "                  Argumentos:\n",
        "                        df:(Requerido) recibe dataframe  \n",
        "                         \n",
        "                  Retorno: \n",
        "                        attribute_df: dataframe resultante por cada fila tiene la evaluación de cada atributo especificado a continuación:\n",
        "                            column_names: nombre de la columna\n",
        "                            data_type: tipo de dato expresado ( int, float, string, datetime, boolean)\n",
        "                            variable_type : clasificación de variable en:Continua, numérica discreta, categórica\n",
        "                            quantity_unique_values:Cantidad de valores únicos\n",
        "                            quantity_null_values: Cantidad de valores nulos\n",
        "                            most_repeated_value:Valor que más se repite \n",
        "                            frec_most_repeated_value: Frecuencia del valor que más se repite\n",
        "                            max_value:Valor máximo\n",
        "                            min_value:Valor mínimo\n",
        "                         ''' \n",
        "\n",
        "  # Crear dataframe con los atributos solicitados \n",
        "  attribute_df = pd.DataFrame(columns=['column_names','data_type','variable_type','quantity_unique_values','quantity_null_values','most_repeated_value','frec_most_repeated_value','max_value','min_value'])\n",
        "  # Recorrer el dataframe por columnas y obtener la data de cada una\n",
        "  for (columnname,columndata) in df.iteritems():\n",
        "    # Capturar los valores calculados\n",
        "    data=get_column_data(columnname,columndata)\n",
        "    # identificar el siguiente index \n",
        "    attribute_df_length=len(attribute_df)\n",
        "    # asignar datos al ultimo index \n",
        "    attribute_df.loc[attribute_df_length]=data\n",
        "  #display(attribute_df)\n",
        "  return attribute_df\n",
        " \n",
        "  \n",
        "  \n",
        "def get_column_data(columnname,columndata): \n",
        "  '''get_column_data: función que crea un arreglo resultado \n",
        "                  Argumentos:\n",
        "                        columnname:(Requerido) recibe el nombre de la columna\n",
        "                        columndata:(Requerido) recibe los datos de la columna\n",
        "                         \n",
        "                  Retorno: \n",
        "                        attributes: es un arreglo donde cada posición es el resultado de la evaluación de un atributo, descripción por posición\n",
        "                            [0]=column_names : nombre de la columna\n",
        "                            [1]=data_type: tipo de dato expresado ( int, float, string, datetime, boolean)\n",
        "                            [2]=variable_type : clasificación de variable en:Continua, numérica discreta, categórica\n",
        "                            [3]=quantity_unique_values:Cantidad de valores únicos\n",
        "                            [4]=quantity_null_values: Cantidad de valores nulos\n",
        "                            [5]=most_repeated_value:Valor que más se repite \n",
        "                            [6]=frec_most_repeated_value: Frecuencia del valor que más se repite\n",
        "                            [7]=max_value:Valor máximo\n",
        "                            [8]=min_value:Valor mínimo\n",
        "                         ''' \n",
        "\n",
        "  # Definir arreglo \n",
        "  attributes=[]\n",
        "  # Capturar nombre de la columna\n",
        "  attributes.append(columnname)\n",
        "  # tipo de dato\n",
        "  attributes.append(get_column_type(columndata))\n",
        "  # tipo de variable\n",
        "  attributes.append(get_varible_type(get_column_type(columndata)))\n",
        "  # Valores unicos\n",
        "  attributes.append(len(columndata.unique()))\n",
        "  # Valores nulos\n",
        "  attributes.append(len(columndata[columndata.isnull()]))\n",
        "  # Valor que mas se repite\n",
        "  attributes.append(columndata.value_counts().idxmax())\n",
        "  # Frecuencia del valor que mas se repite\n",
        "  attributes.append(columndata.value_counts().max())\n",
        "  # Valor máximo \n",
        "  if get_column_type(columndata)!='string':\n",
        "    \n",
        "    attributes.append(max(columndata))\n",
        "  # Valor mínimo\n",
        "    attributes.append(min(columndata))\n",
        "  elif get_column_type(columndata)=='string':\n",
        "    attributes.append('NA')\n",
        "    attributes.append('NA')\n",
        "\n",
        "  return attributes\n",
        "\n",
        "def get_column_type(columndata): \n",
        "  '''get_column_type: función evalua el tipo de dato y lo normaliza \n",
        "                  Argumentos:\n",
        "                        columndata:(Requerido) recibe los datos de la columna                       \n",
        "                  Retorno: \n",
        "                        columntypef: string que especifica el tipo de dato normalizado\n",
        "                         ''' \n",
        "  # Determinar el tipo de dato por columna\n",
        "  columntype=columndata.dtypes\n",
        "  columntypef=''\n",
        "  # Renombrar el tipo de dato \n",
        "  if columntype=='int64':\n",
        "    columntypef='int'\n",
        "  if columntype =='float64':\n",
        "    columntypef='float'\n",
        "  if columntype=='bool':\n",
        "    columntypef='boolean'\n",
        "  if columntype =='datetime64[ns]':\n",
        "    columntypef='datetime'\n",
        "  if columntype =='object':\n",
        "    columntypef='string'\n",
        "  \n",
        "      \n",
        "  return columntypef\n",
        "\n",
        "def get_varible_type (datatype):\n",
        "  '''get_varible_type: función que retorna el tipo de variable según el tipo de dato de la columna \n",
        "                  Argumentos:\n",
        "                        datatype:(Requerido) recibe el tipo de dato de la columna                       \n",
        "                  Retorno: \n",
        "                        datatype: string que especifica el tipo de variable \n",
        "                         ''' \n",
        "  # clasificación de tipo de variable \n",
        "  if datatype=='int': return 'Discreta'\n",
        "  if datatype=='float' or datatype=='datetime': return 'Continua'\n",
        "  if datatype=='boolean': return 'Cualitativa Dicotomica'\n",
        "  if datatype=='string': return 'Categorica'\n",
        "\n"
      ],
      "execution_count": 2,
      "outputs": []
    },
    {
      "cell_type": "markdown",
      "metadata": {
        "id": "5qBJZNCJ0dKC"
      },
      "source": [
        "### **Análisis**"
      ]
    },
    {
      "cell_type": "code",
      "metadata": {
        "id": "7sSXY1gydWx9",
        "outputId": "eee81d46-4171-47b7-81d3-cc0b5d45fed0",
        "colab": {
          "base_uri": "https://localhost:8080/",
          "height": 182
        }
      },
      "source": [
        "print('Dataframe de atributos')\n",
        "display(create_attribute_df(df).head(2))\n",
        "print(\"\")\n",
        "print('Se puede observar que desde una lectura inicial del dataframe de entrada es posible evaluar  diferentes atributos')"
      ],
      "execution_count": 16,
      "outputs": [
        {
          "output_type": "stream",
          "text": [
            "Dataframe de atributos\n"
          ],
          "name": "stdout"
        },
        {
          "output_type": "display_data",
          "data": {
            "text/html": [
              "<div>\n",
              "<style scoped>\n",
              "    .dataframe tbody tr th:only-of-type {\n",
              "        vertical-align: middle;\n",
              "    }\n",
              "\n",
              "    .dataframe tbody tr th {\n",
              "        vertical-align: top;\n",
              "    }\n",
              "\n",
              "    .dataframe thead th {\n",
              "        text-align: right;\n",
              "    }\n",
              "</style>\n",
              "<table border=\"1\" class=\"dataframe\">\n",
              "  <thead>\n",
              "    <tr style=\"text-align: right;\">\n",
              "      <th></th>\n",
              "      <th>column_names</th>\n",
              "      <th>data_type</th>\n",
              "      <th>variable_type</th>\n",
              "      <th>quantity_unique_values</th>\n",
              "      <th>quantity_null_values</th>\n",
              "      <th>most_repeated_value</th>\n",
              "      <th>frec_most_repeated_value</th>\n",
              "      <th>max_value</th>\n",
              "      <th>min_value</th>\n",
              "    </tr>\n",
              "  </thead>\n",
              "  <tbody>\n",
              "    <tr>\n",
              "      <th>0</th>\n",
              "      <td>IDE</td>\n",
              "      <td>int</td>\n",
              "      <td>Discreta</td>\n",
              "      <td>617</td>\n",
              "      <td>0</td>\n",
              "      <td>1615</td>\n",
              "      <td>2</td>\n",
              "      <td>2116</td>\n",
              "      <td>1500</td>\n",
              "    </tr>\n",
              "    <tr>\n",
              "      <th>1</th>\n",
              "      <td>programa</td>\n",
              "      <td>string</td>\n",
              "      <td>Categorica</td>\n",
              "      <td>7</td>\n",
              "      <td>0</td>\n",
              "      <td>Ingeniería Ambiental</td>\n",
              "      <td>236</td>\n",
              "      <td>NA</td>\n",
              "      <td>NA</td>\n",
              "    </tr>\n",
              "  </tbody>\n",
              "</table>\n",
              "</div>"
            ],
            "text/plain": [
              "  column_names data_type  ... max_value min_value\n",
              "0          IDE       int  ...      2116      1500\n",
              "1     programa    string  ...        NA        NA\n",
              "\n",
              "[2 rows x 9 columns]"
            ]
          },
          "metadata": {
            "tags": []
          }
        },
        {
          "output_type": "stream",
          "text": [
            "\n",
            "Se puede observar que desde una lectura inicial del dataframe de entrada es posible evaluar  diferentes atributos\n"
          ],
          "name": "stdout"
        }
      ]
    },
    {
      "cell_type": "markdown",
      "metadata": {
        "id": "5PtOfqPQdqUo"
      },
      "source": [
        "##2.2. Análisis del dataframe resultante del punto 2.1 y ajuste de data\n",
        "\n",
        "> Se requiere verificar el dataframe resultante del punto 2.1 y determinar si el tipo de dato por columna es correcto. de no serlo se debe realizar los respectivos ajustes para obtenerlo \n"
      ]
    },
    {
      "cell_type": "markdown",
      "metadata": {
        "id": "3f0tSPKRdp_5"
      },
      "source": [
        "### **Desarrollo lógico**\n",
        "\n",
        "1. Comparar el dataframe de entrada si el tipo de dato concuerda con el resultado del punto 2.1\n",
        "\n",
        "2. Determinar las columnas con valores que generan problemas  \n",
        "    * Evaluar el tipo de dato es correcto\n",
        "    * Deteminar los valores que generan el error\n",
        "    \n",
        "3. Aplicar las modificaciones correspondentes para obtener un resultado valido en dataframe del punto 2.1\n",
        "    * Crear una copia del dataframe de entrada\n",
        "    * Evaluar el tipo de dato por cada fila en cada columna \n",
        "    * Realizar un conteo para determinar la mayoria de datos a que tipo de dato   corresponde\n",
        "    * Reemplazar los datos errados por un valor valido según el tipo de dato que corresponde a la columna"
      ]
    },
    {
      "cell_type": "markdown",
      "metadata": {
        "id": "SeL8j2tEwuL9"
      },
      "source": [
        "###**Código Implementado**"
      ]
    },
    {
      "cell_type": "code",
      "metadata": {
        "id": "Z9YNRch-4H9t"
      },
      "source": [
        "def fix_column_data(df): \n",
        "  '''fix_column_data: función que modifica el tipo de  dato de las columnas que tienen algún o algunos registros errados;\n",
        "                        remplazando datos string por 0 en columnas que deben ser int o float y en las columnas string reemplaza\n",
        "                        los valores númericos por un valor vacio\n",
        "\n",
        "                  Argumentos:\n",
        "                        df:(Requerido) dataframe de entrada\n",
        "                                                \n",
        "                  Retorno: \n",
        "                        fixed_df: copia del dataframe de entrada con algunas columnas modificadas en el tipo de dato de la columna\n",
        "                        ''' \n",
        "\n",
        "\n",
        "  # Copiar el dataframe de entrada\n",
        "  fixed_df=df.copy()  \n",
        "  # Iterar dataframe y obtener el nombre de la columna y los datos de cada una\n",
        "  for (columnname,columndata) in fixed_df.iteritems():\n",
        "  # Evaluar las todas las columnas que son tipo object\n",
        "    if columndata.dtypes =='object':\n",
        "      # Intentar convertir la columna en datetime\n",
        "      try:\n",
        "        fixed_df[columnname]=pd.to_datetime(columndata)\n",
        "        #fixed_df[columnname]=pd.to_timedelta(columndata)\n",
        "      \n",
        "      except:\n",
        "      # Evaluar por cada fila el tipo de dato que se tiene\n",
        "        intsum=0\n",
        "        stringsum=0\n",
        "        floatsum=0\n",
        "        issuestring,issueint=[],[]\n",
        "        for row in columndata:\n",
        "        # Contar la cantidad de datos por cada tipo de dato y crear un arreglo de los datos evaluados \n",
        "          if isinstance(row,int):\n",
        "            intsum=intsum + 1\n",
        "            issueint.append(row)\n",
        "          elif isinstance(row,float):\n",
        "            floatsum=floatsum + 1\n",
        "            issueint.append(row)\n",
        "          elif isinstance(row,str):\n",
        "            stringsum= stringsum+1\n",
        "            issuestring.append(row)\n",
        "        # crear un diccionario con el resultado del conteo \n",
        "        typesdict={'int':intsum,'float':floatsum,'str':stringsum}\n",
        "        # Ordenar el diccionario\n",
        "        sort_type=sorted(typesdict.items(),key=lambda x:x[1],reverse=True)\n",
        "        # Tomar la primera ubicación del diccionario \n",
        "        columntypef=sort_type[0][0]\n",
        "        # Evaludar por el resultado de la variable anterior por que se reemplaza el valor errado\n",
        "        if columntypef== 'int' or columntypef== 'float':\n",
        "          fixed_df.loc[fixed_df[columnname].isin(issuestring), columnname] = 0.0\n",
        "          fixed_df[columnname] = pd.to_numeric(fixed_df[columnname])\n",
        "\n",
        "        elif columntypef== 'str':\n",
        "          fixed_df.loc[fixed_df[columnname].isin(issueint), columnname] = None\n",
        "          fixed_df[columnname] = fixed_df[columnname]\n",
        "\n",
        "  return fixed_df\n",
        "\n",
        "\n"
      ],
      "execution_count": 4,
      "outputs": []
    },
    {
      "cell_type": "code",
      "metadata": {
        "id": "ozpzgNclpmLb",
        "outputId": "62a53f5f-2494-4be3-e186-d8e2ab8f6a2f",
        "colab": {
          "base_uri": "https://localhost:8080/",
          "height": 383
        }
      },
      "source": [
        "print(\"Dataframe resultante \\n\")\n",
        "display(fix_column_data(df).head(3))"
      ],
      "execution_count": 5,
      "outputs": [
        {
          "output_type": "stream",
          "text": [
            "Dataframe resultante \n",
            "\n"
          ],
          "name": "stdout"
        },
        {
          "output_type": "display_data",
          "data": {
            "text/html": [
              "<div>\n",
              "<style scoped>\n",
              "    .dataframe tbody tr th:only-of-type {\n",
              "        vertical-align: middle;\n",
              "    }\n",
              "\n",
              "    .dataframe tbody tr th {\n",
              "        vertical-align: top;\n",
              "    }\n",
              "\n",
              "    .dataframe thead th {\n",
              "        text-align: right;\n",
              "    }\n",
              "</style>\n",
              "<table border=\"1\" class=\"dataframe\">\n",
              "  <thead>\n",
              "    <tr style=\"text-align: right;\">\n",
              "      <th></th>\n",
              "      <th>IDE</th>\n",
              "      <th>programa</th>\n",
              "      <th>IDG</th>\n",
              "      <th>corte1</th>\n",
              "      <th>corte2</th>\n",
              "      <th>prom</th>\n",
              "      <th>fallas</th>\n",
              "      <th>fallaP</th>\n",
              "      <th>curso</th>\n",
              "      <th>creditos</th>\n",
              "      <th>IDP</th>\n",
              "      <th>nestud</th>\n",
              "      <th>periodo</th>\n",
              "      <th>año</th>\n",
              "      <th>jornada</th>\n",
              "      <th>profesor</th>\n",
              "      <th>dedicacion</th>\n",
              "      <th>nsala</th>\n",
              "      <th>sala</th>\n",
              "      <th>horaExamen</th>\n",
              "      <th>inicio</th>\n",
              "      <th>final</th>\n",
              "      <th>nota</th>\n",
              "      <th>p1</th>\n",
              "      <th>p2</th>\n",
              "      <th>p3</th>\n",
              "      <th>p4</th>\n",
              "      <th>p5</th>\n",
              "      <th>p6</th>\n",
              "      <th>p7</th>\n",
              "      <th>p8</th>\n",
              "      <th>p9</th>\n",
              "      <th>p10</th>\n",
              "    </tr>\n",
              "  </thead>\n",
              "  <tbody>\n",
              "    <tr>\n",
              "      <th>0</th>\n",
              "      <td>1521</td>\n",
              "      <td>Ingeniería Ambiental</td>\n",
              "      <td>G11</td>\n",
              "      <td>4.0</td>\n",
              "      <td>2.0</td>\n",
              "      <td>3.00</td>\n",
              "      <td>0</td>\n",
              "      <td>0.00</td>\n",
              "      <td>Algoritmos y programación</td>\n",
              "      <td>3</td>\n",
              "      <td>201</td>\n",
              "      <td>23</td>\n",
              "      <td>2</td>\n",
              "      <td>2017</td>\n",
              "      <td>día</td>\n",
              "      <td>Patroclo</td>\n",
              "      <td>TC</td>\n",
              "      <td>20</td>\n",
              "      <td>Torre P Salón 303</td>\n",
              "      <td>2020-11-16 09:00:00</td>\n",
              "      <td>2020-11-16 09:16:00</td>\n",
              "      <td>2020-11-16 10:31:00</td>\n",
              "      <td>1.5</td>\n",
              "      <td>0.5</td>\n",
              "      <td>0.0</td>\n",
              "      <td>0.0</td>\n",
              "      <td>0.0</td>\n",
              "      <td>0.0</td>\n",
              "      <td>0.0</td>\n",
              "      <td>0.0</td>\n",
              "      <td>0.5</td>\n",
              "      <td>0.5</td>\n",
              "      <td>0.0</td>\n",
              "    </tr>\n",
              "    <tr>\n",
              "      <th>1</th>\n",
              "      <td>1572</td>\n",
              "      <td>Ingeniería Industrial</td>\n",
              "      <td>G11</td>\n",
              "      <td>3.0</td>\n",
              "      <td>3.0</td>\n",
              "      <td>3.00</td>\n",
              "      <td>0</td>\n",
              "      <td>0.00</td>\n",
              "      <td>Algoritmos y programación</td>\n",
              "      <td>3</td>\n",
              "      <td>201</td>\n",
              "      <td>23</td>\n",
              "      <td>2</td>\n",
              "      <td>2017</td>\n",
              "      <td>día</td>\n",
              "      <td>Patroclo</td>\n",
              "      <td>TC</td>\n",
              "      <td>3</td>\n",
              "      <td>Casa Kra 4ta Salón 301</td>\n",
              "      <td>2020-11-16 09:00:00</td>\n",
              "      <td>2020-11-16 09:14:00</td>\n",
              "      <td>2020-11-16 09:47:00</td>\n",
              "      <td>2.0</td>\n",
              "      <td>0.0</td>\n",
              "      <td>0.0</td>\n",
              "      <td>0.0</td>\n",
              "      <td>0.0</td>\n",
              "      <td>0.5</td>\n",
              "      <td>0.5</td>\n",
              "      <td>0.0</td>\n",
              "      <td>0.5</td>\n",
              "      <td>0.0</td>\n",
              "      <td>0.5</td>\n",
              "    </tr>\n",
              "    <tr>\n",
              "      <th>2</th>\n",
              "      <td>1585</td>\n",
              "      <td>Ingeniería Electórnica</td>\n",
              "      <td>G11</td>\n",
              "      <td>4.5</td>\n",
              "      <td>4.0</td>\n",
              "      <td>4.25</td>\n",
              "      <td>2</td>\n",
              "      <td>11.76</td>\n",
              "      <td>Algoritmos y programación</td>\n",
              "      <td>3</td>\n",
              "      <td>201</td>\n",
              "      <td>23</td>\n",
              "      <td>2</td>\n",
              "      <td>2017</td>\n",
              "      <td>día</td>\n",
              "      <td>Patroclo</td>\n",
              "      <td>TC</td>\n",
              "      <td>3</td>\n",
              "      <td>Casa Kra 4ta Salón 301</td>\n",
              "      <td>2020-11-16 09:00:00</td>\n",
              "      <td>2020-11-16 09:12:00</td>\n",
              "      <td>2020-11-16 09:47:00</td>\n",
              "      <td>4.0</td>\n",
              "      <td>0.5</td>\n",
              "      <td>0.0</td>\n",
              "      <td>0.5</td>\n",
              "      <td>0.5</td>\n",
              "      <td>0.5</td>\n",
              "      <td>0.0</td>\n",
              "      <td>0.5</td>\n",
              "      <td>0.5</td>\n",
              "      <td>0.5</td>\n",
              "      <td>0.5</td>\n",
              "    </tr>\n",
              "  </tbody>\n",
              "</table>\n",
              "</div>"
            ],
            "text/plain": [
              "    IDE                programa  IDG  corte1  corte2  ...   p6   p7   p8   p9  p10\n",
              "0  1521    Ingeniería Ambiental  G11     4.0     2.0  ...  0.0  0.0  0.5  0.5  0.0\n",
              "1  1572   Ingeniería Industrial  G11     3.0     3.0  ...  0.5  0.0  0.5  0.0  0.5\n",
              "2  1585  Ingeniería Electórnica  G11     4.5     4.0  ...  0.0  0.5  0.5  0.5  0.5\n",
              "\n",
              "[3 rows x 33 columns]"
            ]
          },
          "metadata": {
            "tags": []
          }
        }
      ]
    },
    {
      "cell_type": "markdown",
      "metadata": {
        "id": "MU2bsoLllObN"
      },
      "source": [
        "### **Análisis**"
      ]
    },
    {
      "cell_type": "markdown",
      "metadata": {
        "id": "UkxbZzYExfSv"
      },
      "source": [
        "**Análisis sin editar datos**"
      ]
    },
    {
      "cell_type": "code",
      "metadata": {
        "id": "QIp5g-Z6ecRx",
        "outputId": "f2fe41f1-5ebf-44ff-b7cb-da58dcfc2bda",
        "colab": {
          "base_uri": "https://localhost:8080/",
          "height": 236
        }
      },
      "source": [
        "# Cargue de dataframe del punto 2.1\n",
        "attribute_df=create_attribute_df(df)\n",
        "print(\"Resultado de los atributos de la columna fallas\")\n",
        "display(attribute_df[attribute_df.column_names=='fallas'])\n",
        "print(\"\")\n",
        "# Visualidar valores unicos de la columna fallas \n",
        "print('Valores unicos de la columna fallas',df.fallas.unique())\n",
        "print(\"\")\n",
        "print(\"Se evidencia que la columna fallas tiene datos errados para el tipo de columna como lo son: nada,ninguna y no.\")\n",
        "print(\"Esto nos genera un error al momento de evaluar le tipo de dato de la columna. Además de no evaluar correctamente\\n\"\n",
        "      \"los atributos de máximo, mínimo,valor que más se repite y su frecuencia.\")"
      ],
      "execution_count": 6,
      "outputs": [
        {
          "output_type": "stream",
          "text": [
            "Resultado de los atributos de la columna fallas\n"
          ],
          "name": "stdout"
        },
        {
          "output_type": "display_data",
          "data": {
            "text/html": [
              "<div>\n",
              "<style scoped>\n",
              "    .dataframe tbody tr th:only-of-type {\n",
              "        vertical-align: middle;\n",
              "    }\n",
              "\n",
              "    .dataframe tbody tr th {\n",
              "        vertical-align: top;\n",
              "    }\n",
              "\n",
              "    .dataframe thead th {\n",
              "        text-align: right;\n",
              "    }\n",
              "</style>\n",
              "<table border=\"1\" class=\"dataframe\">\n",
              "  <thead>\n",
              "    <tr style=\"text-align: right;\">\n",
              "      <th></th>\n",
              "      <th>column_names</th>\n",
              "      <th>data_type</th>\n",
              "      <th>variable_type</th>\n",
              "      <th>quantity_unique_values</th>\n",
              "      <th>quantity_null_values</th>\n",
              "      <th>most_repeated_value</th>\n",
              "      <th>frec_most_repeated_value</th>\n",
              "      <th>max_value</th>\n",
              "      <th>min_value</th>\n",
              "    </tr>\n",
              "  </thead>\n",
              "  <tbody>\n",
              "    <tr>\n",
              "      <th>6</th>\n",
              "      <td>fallas</td>\n",
              "      <td>string</td>\n",
              "      <td>Categorica</td>\n",
              "      <td>25</td>\n",
              "      <td>0</td>\n",
              "      <td>0</td>\n",
              "      <td>494</td>\n",
              "      <td>NA</td>\n",
              "      <td>NA</td>\n",
              "    </tr>\n",
              "  </tbody>\n",
              "</table>\n",
              "</div>"
            ],
            "text/plain": [
              "  column_names data_type  ... max_value min_value\n",
              "6       fallas    string  ...        NA        NA\n",
              "\n",
              "[1 rows x 9 columns]"
            ]
          },
          "metadata": {
            "tags": []
          }
        },
        {
          "output_type": "stream",
          "text": [
            "\n",
            "Valores unicos de la columna fallas [0 2 5 3 4 1 8 6 15 19 37 7 50 30 'nada' 'ninguna' 27 12 10 11 32 18 20 26\n",
            " 'no']\n",
            "\n",
            "Se evidencia que la columna fallas tiene datos errados para el tipo de columna como lo son: nada,ninguna y no.\n",
            "Esto nos genera un error al momento de evaluar le tipo de dato de la columna. Además de no evaluar correctamente\n",
            "los atributos de máximo, mínimo,valor que más se repite y su frecuencia.\n"
          ],
          "name": "stdout"
        }
      ]
    },
    {
      "cell_type": "code",
      "metadata": {
        "id": "rReBdkPSmCve",
        "outputId": "bdec8149-d138-4dc2-9828-6707b831a343",
        "colab": {
          "base_uri": "https://localhost:8080/",
          "height": 519
        }
      },
      "source": [
        "print(\"Resultado de los atributos de la columnas horaExamen,inicio,final\")\n",
        "display(attribute_df[attribute_df.column_names.isin(['horaExamen','inicio','final'])])\n",
        "#Mirar que datos tienen las columnas horaExamen,inicio,final\n",
        "print('Valores unicos de la columna horaExamen:\\n',df.horaExamen.unique())\n",
        "print(\"\")\n",
        "print('Valores unicos de la columna inicio:\\n',df.inicio.unique()[:10])\n",
        "print(\"\")\n",
        "print('Valores unicos de la columna final:\\n',df.final.unique()[:10])\n",
        "print(\"\")\n",
        "print(\"Se evidencia que las columnas horaExamen,inicio,final son de tipo datetime.\")\n",
        "print(\"Esto nos genera un error al momento de clasificar la variable . Además de no evaluar correctamente\\n\"\n",
        "      \"los atributos de máximo, mínimo.\")"
      ],
      "execution_count": 11,
      "outputs": [
        {
          "output_type": "stream",
          "text": [
            "Resultado de los atributos de la columnas horaExamen,inicio,final\n"
          ],
          "name": "stdout"
        },
        {
          "output_type": "display_data",
          "data": {
            "text/html": [
              "<div>\n",
              "<style scoped>\n",
              "    .dataframe tbody tr th:only-of-type {\n",
              "        vertical-align: middle;\n",
              "    }\n",
              "\n",
              "    .dataframe tbody tr th {\n",
              "        vertical-align: top;\n",
              "    }\n",
              "\n",
              "    .dataframe thead th {\n",
              "        text-align: right;\n",
              "    }\n",
              "</style>\n",
              "<table border=\"1\" class=\"dataframe\">\n",
              "  <thead>\n",
              "    <tr style=\"text-align: right;\">\n",
              "      <th></th>\n",
              "      <th>column_names</th>\n",
              "      <th>data_type</th>\n",
              "      <th>variable_type</th>\n",
              "      <th>quantity_unique_values</th>\n",
              "      <th>quantity_null_values</th>\n",
              "      <th>most_repeated_value</th>\n",
              "      <th>frec_most_repeated_value</th>\n",
              "      <th>max_value</th>\n",
              "      <th>min_value</th>\n",
              "    </tr>\n",
              "  </thead>\n",
              "  <tbody>\n",
              "    <tr>\n",
              "      <th>19</th>\n",
              "      <td>horaExamen</td>\n",
              "      <td>datetime</td>\n",
              "      <td>Continua</td>\n",
              "      <td>2</td>\n",
              "      <td>0</td>\n",
              "      <td>2020-11-16 09:00:00</td>\n",
              "      <td>396</td>\n",
              "      <td>2020-11-16 18:00:00</td>\n",
              "      <td>2020-11-16 09:00:00</td>\n",
              "    </tr>\n",
              "    <tr>\n",
              "      <th>20</th>\n",
              "      <td>inicio</td>\n",
              "      <td>datetime</td>\n",
              "      <td>Continua</td>\n",
              "      <td>64</td>\n",
              "      <td>104</td>\n",
              "      <td>2020-11-16 09:11:00</td>\n",
              "      <td>34</td>\n",
              "      <td>2020-11-16 18:44:00</td>\n",
              "      <td>2020-11-16 09:03:00</td>\n",
              "    </tr>\n",
              "    <tr>\n",
              "      <th>21</th>\n",
              "      <td>final</td>\n",
              "      <td>datetime</td>\n",
              "      <td>Continua</td>\n",
              "      <td>136</td>\n",
              "      <td>104</td>\n",
              "      <td>2020-11-16 10:21:00</td>\n",
              "      <td>14</td>\n",
              "      <td>2020-11-16 19:58:00</td>\n",
              "      <td>2020-11-16 09:28:00</td>\n",
              "    </tr>\n",
              "  </tbody>\n",
              "</table>\n",
              "</div>"
            ],
            "text/plain": [
              "   column_names data_type  ...            max_value            min_value\n",
              "19   horaExamen  datetime  ...  2020-11-16 18:00:00  2020-11-16 09:00:00\n",
              "20       inicio  datetime  ...  2020-11-16 18:44:00  2020-11-16 09:03:00\n",
              "21        final  datetime  ...  2020-11-16 19:58:00  2020-11-16 09:28:00\n",
              "\n",
              "[3 rows x 9 columns]"
            ]
          },
          "metadata": {
            "tags": []
          }
        },
        {
          "output_type": "stream",
          "text": [
            "Valores unicos de la columna horaExamen:\n",
            " ['9:00 a.m.' '6:00 p.m.']\n",
            "\n",
            "Valores unicos de la columna inicio:\n",
            " ['09:16:00' '09:14:00' '09:12:00' '09:13:00' '09:06:00' '09:08:00'\n",
            " '09:10:00' '09:24:00' '09:45:00' '09:11:00']\n",
            "\n",
            "Valores unicos de la columna final:\n",
            " ['10:31:00' '09:47:00' '09:59:00' '09:39:00' '10:00:00' '10:37:00'\n",
            " '10:07:00' '09:53:00' '10:36:00' '10:17:00']\n",
            "\n",
            "Se evidencia que las columnas horaExamen,inicio,final son de tipo datetime.\n",
            "Esto nos genera un error al momento de clasificar la variable . Además de no evaluar correctamente\n",
            "los atributos de máximo, mínimo.\n"
          ],
          "name": "stdout"
        }
      ]
    },
    {
      "cell_type": "markdown",
      "metadata": {
        "id": "7FSkmWjoxsDz"
      },
      "source": [
        "**Análisis de datos modificados**"
      ]
    },
    {
      "cell_type": "code",
      "metadata": {
        "id": "fWyQUheexphZ",
        "outputId": "73e031d4-01a3-468c-d5a2-881fbe46c890",
        "colab": {
          "base_uri": "https://localhost:8080/",
          "height": 312
        }
      },
      "source": [
        "# Asignar función de cambios de tipo de datos a nuevo dataframe \n",
        "fixed_df=fix_column_data(df)\n",
        "# Evaluar de nuevo la función del punto 2.1\n",
        "attribute_df=create_attribute_df(fixed_df)\n",
        "# Evaluar si el tipo de datos se modificaron el daframe de atributos\n",
        "display(attribute_df[attribute_df.column_names.isin(['fallas','horaExamen','inicio','final'])])\n",
        "print(\"En la siguiente tabala se muestra las columnas fallas,horaExamen,inicio,final ya cuentan con el tipo de dato correcto\")\n"
      ],
      "execution_count": 10,
      "outputs": [
        {
          "output_type": "display_data",
          "data": {
            "text/html": [
              "<div>\n",
              "<style scoped>\n",
              "    .dataframe tbody tr th:only-of-type {\n",
              "        vertical-align: middle;\n",
              "    }\n",
              "\n",
              "    .dataframe tbody tr th {\n",
              "        vertical-align: top;\n",
              "    }\n",
              "\n",
              "    .dataframe thead th {\n",
              "        text-align: right;\n",
              "    }\n",
              "</style>\n",
              "<table border=\"1\" class=\"dataframe\">\n",
              "  <thead>\n",
              "    <tr style=\"text-align: right;\">\n",
              "      <th></th>\n",
              "      <th>column_names</th>\n",
              "      <th>data_type</th>\n",
              "      <th>variable_type</th>\n",
              "      <th>quantity_unique_values</th>\n",
              "      <th>quantity_null_values</th>\n",
              "      <th>most_repeated_value</th>\n",
              "      <th>frec_most_repeated_value</th>\n",
              "      <th>max_value</th>\n",
              "      <th>min_value</th>\n",
              "    </tr>\n",
              "  </thead>\n",
              "  <tbody>\n",
              "    <tr>\n",
              "      <th>6</th>\n",
              "      <td>fallas</td>\n",
              "      <td>int</td>\n",
              "      <td>Discreta</td>\n",
              "      <td>22</td>\n",
              "      <td>0</td>\n",
              "      <td>0</td>\n",
              "      <td>497</td>\n",
              "      <td>50</td>\n",
              "      <td>0</td>\n",
              "    </tr>\n",
              "    <tr>\n",
              "      <th>19</th>\n",
              "      <td>horaExamen</td>\n",
              "      <td>datetime</td>\n",
              "      <td>Continua</td>\n",
              "      <td>2</td>\n",
              "      <td>0</td>\n",
              "      <td>2020-11-16 09:00:00</td>\n",
              "      <td>396</td>\n",
              "      <td>2020-11-16 18:00:00</td>\n",
              "      <td>2020-11-16 09:00:00</td>\n",
              "    </tr>\n",
              "    <tr>\n",
              "      <th>20</th>\n",
              "      <td>inicio</td>\n",
              "      <td>datetime</td>\n",
              "      <td>Continua</td>\n",
              "      <td>64</td>\n",
              "      <td>104</td>\n",
              "      <td>2020-11-16 09:11:00</td>\n",
              "      <td>34</td>\n",
              "      <td>2020-11-16 18:44:00</td>\n",
              "      <td>2020-11-16 09:03:00</td>\n",
              "    </tr>\n",
              "    <tr>\n",
              "      <th>21</th>\n",
              "      <td>final</td>\n",
              "      <td>datetime</td>\n",
              "      <td>Continua</td>\n",
              "      <td>136</td>\n",
              "      <td>104</td>\n",
              "      <td>2020-11-16 10:21:00</td>\n",
              "      <td>14</td>\n",
              "      <td>2020-11-16 19:58:00</td>\n",
              "      <td>2020-11-16 09:28:00</td>\n",
              "    </tr>\n",
              "  </tbody>\n",
              "</table>\n",
              "</div>"
            ],
            "text/plain": [
              "   column_names data_type  ...            max_value            min_value\n",
              "6        fallas       int  ...                   50                    0\n",
              "19   horaExamen  datetime  ...  2020-11-16 18:00:00  2020-11-16 09:00:00\n",
              "20       inicio  datetime  ...  2020-11-16 18:44:00  2020-11-16 09:03:00\n",
              "21        final  datetime  ...  2020-11-16 19:58:00  2020-11-16 09:28:00\n",
              "\n",
              "[4 rows x 9 columns]"
            ]
          },
          "metadata": {
            "tags": []
          }
        },
        {
          "output_type": "stream",
          "text": [
            "Se evidencia que la columnas fallas,horaExamen,inicio,final ya cuentan con el tipo de dato correcto\n"
          ],
          "name": "stdout"
        }
      ]
    }
  ]
}