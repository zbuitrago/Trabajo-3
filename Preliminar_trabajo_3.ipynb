{
  "nbformat": 4,
  "nbformat_minor": 0,
  "metadata": {
    "colab": {
      "name": "Preliminar trabajo 3.ipynb",
      "provenance": [],
      "collapsed_sections": [],
      "authorship_tag": "ABX9TyMoxMiwrZrF4B9ngf/CHHNK",
      "include_colab_link": true
    },
    "kernelspec": {
      "name": "python3",
      "display_name": "Python 3"
    }
  },
  "cells": [
    {
      "cell_type": "markdown",
      "metadata": {
        "id": "view-in-github",
        "colab_type": "text"
      },
      "source": [
        "<a href=\"https://colab.research.google.com/github/zbuitrago/Trabajo-3/blob/main/Preliminar_trabajo_3.ipynb\" target=\"_parent\"><img src=\"https://colab.research.google.com/assets/colab-badge.svg\" alt=\"Open In Colab\"/></a>"
      ]
    },
    {
      "cell_type": "markdown",
      "metadata": {
        "id": "shYeIInI-RtG"
      },
      "source": [
        "# **Fundamentos de programación para analítica de datos.**\n",
        ">>**Maestría en Analítica de Datos**\n",
        "\n",
        ">>**Facultad de Ingeniería y Ciencias Básicas.**\n",
        "\n",
        ">>**Universidad Central  2020 - II**\n",
        "\n",
        ">>**Presentación Trabajo 3: Calidad de los datos**\n",
        "\n",
        "\n",
        ">>**Integrantes:**\n",
        "\n",
        "> > Zuly Buitrago Castillo\n",
        "\n",
        "> > Jennifer Prada Urbina,\n",
        "\n",
        "> > Oscar Ochoa Bueno\n",
        "\n",
        ">>**Contenido:**\n",
        "1. Requerimiento\n",
        "2. Código Implementado\n",
        "3. Analisis de logico\n"
      ]
    },
    {
      "cell_type": "markdown",
      "metadata": {
        "id": "JHYRCMxH_Xq-"
      },
      "source": [
        "#1.Requerimiento\n",
        "#Trabajo 3 - Calidad de los datos\n",
        "\n",
        "\n",
        "Se debe realizar el ejercicio grupal de la práctica desarrollada en la semana 11,\n",
        "correspondiente a Calidad de los datos . A continuación se enumeran las actividades del\n",
        "ejercicio que se debe realizar tomando como base el archivo examen3.xlsx (adjunto).\n",
        "1. Hacer una función que crea un dataframe a partir de los atributos de los datos de\n",
        "entrada examen3.xlsx , los cuales son:\n",
        "a. Nombre de la columna del dataframe de entrada\n",
        "b. Tipo de dato (incluido: int, float, string, datetime, boolean)\n",
        "c. Tipo de variable (Continua, numérica discreta, categórica)\n",
        "d. Cantidad de valores únicos\n",
        "e. Cantidad de valores nulos\n",
        "f. Valor que más se repite\n",
        "g. Frecuencia del valor que más se repite\n",
        "h. Valor máximo\n",
        "i. Valor mínimo\n",
        "2. Analice el tipo de dato de cada columna para saber si es el correcto. Si no lo es,\n",
        "determine los valores que generan problemas y clasifique los tipos de problemas\n",
        "que aparecen. Luego cree una función que corrija los valores erróneos, y finalmente,\n",
        "verifique que queda el tipo correcto en cada columna. Reporte los datos que cambió.\n",
        "3. Haga una gráfica de distribución univariada por cada columna. En caso de tener una\n",
        "variable categórica y si la cantidad de valores únicos es menor a la raíz cuadrada de\n",
        "la cantidad de registros, haga una gráfica de barras de mayor a menor de la\n",
        "frecuencia de cada categoría. La gráfica con un máximo de hasta 20 barras y el\n",
        "resto se agrupan en una sola barra llamada “ otras ”. Analice cada una de las gráficas.\n",
        "4. Para las variables numéricas, haga un mapa de correlación y analice qué variables\n",
        "tienen una fuerte relación. Luego, haga un gráfico de distribución bivariada con las\n",
        "columnas que tienen una fuerte relación y use esto para deducir reglas entre las\n",
        "variables.\n",
        "5. Para las variables categóricas y ordinales busque relaciones de jerarquía entre las\n",
        "clases. Si hay relación entre las categorías pinte un árbol mostrando esta.\n",
        "Finalmente, deduzca las reglas de relación entre las variables.\n",
        "6. Haga un análisis de los valores faltantes, determine si se presenta algún problema\n",
        "de integridad con la ausencia de los datos. Si es así, use las reglas definidas entre\n",
        "las variables para rellenar con el dato apropiado. Reporte los cambios.\n",
        "7. Analice la ocurrencia de datos duplicados con todos los atributos y con las\n",
        "columnas: {IDE, curso, créditos}. Evalúe si es necesario eliminar registros duplicados para mejorar la calidad de los datos, en tal caso proceda a eliminarlos y reporte las\n",
        "acciones realizadas.\n",
        "8. Identifique, analice y si es posible corrija valores atípicos encontrados en las\n",
        "columnas. Reporte los cambios realizados.\n",
        "9. Teniendo en cuenta el siguiente problema: \" Analizar el desempeño de los\n",
        "estudiantes en el examen y el resto del semestre, relacionado con el profesor, el\n",
        "grupo, el programa académico, y la jornada \" determine e indique qué filas y\n",
        "columnas no son relevantes para este análisis y se pueden filtrar. Finalmente,\n",
        "genere el dataframe depurado con la mejor calidad que se pudo obtener para la\n",
        "tarea que se plantea en este punto.\n",
        "10. Genere conclusiones acerca de todo el proceso de calidad de datos aplicado a la\n",
        "base entregada. Haga una evaluación de la calidad del resultado final y haga\n",
        "recomendaciones para hacer este proceso en el futuro.\n"
      ]
    },
    {
      "cell_type": "markdown",
      "metadata": {
        "id": "RsWKj9w3Bq2F"
      },
      "source": [
        "#**3 .Implementación de código**"
      ]
    },
    {
      "cell_type": "markdown",
      "metadata": {
        "id": "Z0APkO5HWfnp"
      },
      "source": [
        "3.1 . Función de Dataframe resumen "
      ]
    },
    {
      "cell_type": "code",
      "metadata": {
        "id": "E-w7F-ETZge5",
        "outputId": "4527123e-dd57-44fa-f0b7-c3820324bb9b",
        "colab": {
          "base_uri": "https://localhost:8080/",
          "height": 252
        }
      },
      "source": [
        "import pandas as pd\n",
        "df = pd.read_excel('examen3.xlsx')\n",
        "df.head(2)"
      ],
      "execution_count": 1,
      "outputs": [
        {
          "output_type": "execute_result",
          "data": {
            "text/html": [
              "<div>\n",
              "<style scoped>\n",
              "    .dataframe tbody tr th:only-of-type {\n",
              "        vertical-align: middle;\n",
              "    }\n",
              "\n",
              "    .dataframe tbody tr th {\n",
              "        vertical-align: top;\n",
              "    }\n",
              "\n",
              "    .dataframe thead th {\n",
              "        text-align: right;\n",
              "    }\n",
              "</style>\n",
              "<table border=\"1\" class=\"dataframe\">\n",
              "  <thead>\n",
              "    <tr style=\"text-align: right;\">\n",
              "      <th></th>\n",
              "      <th>IDE</th>\n",
              "      <th>programa</th>\n",
              "      <th>IDG</th>\n",
              "      <th>corte1</th>\n",
              "      <th>corte2</th>\n",
              "      <th>prom</th>\n",
              "      <th>fallas</th>\n",
              "      <th>fallaP</th>\n",
              "      <th>curso</th>\n",
              "      <th>creditos</th>\n",
              "      <th>IDP</th>\n",
              "      <th>nestud</th>\n",
              "      <th>periodo</th>\n",
              "      <th>año</th>\n",
              "      <th>jornada</th>\n",
              "      <th>profesor</th>\n",
              "      <th>dedicacion</th>\n",
              "      <th>nsala</th>\n",
              "      <th>sala</th>\n",
              "      <th>horaExamen</th>\n",
              "      <th>inicio</th>\n",
              "      <th>final</th>\n",
              "      <th>nota</th>\n",
              "      <th>p1</th>\n",
              "      <th>p2</th>\n",
              "      <th>p3</th>\n",
              "      <th>p4</th>\n",
              "      <th>p5</th>\n",
              "      <th>p6</th>\n",
              "      <th>p7</th>\n",
              "      <th>p8</th>\n",
              "      <th>p9</th>\n",
              "      <th>p10</th>\n",
              "    </tr>\n",
              "  </thead>\n",
              "  <tbody>\n",
              "    <tr>\n",
              "      <th>0</th>\n",
              "      <td>1521</td>\n",
              "      <td>Ingeniería Ambiental</td>\n",
              "      <td>G11</td>\n",
              "      <td>4.0</td>\n",
              "      <td>2.0</td>\n",
              "      <td>3.0</td>\n",
              "      <td>0</td>\n",
              "      <td>0.0</td>\n",
              "      <td>Algoritmos y programación</td>\n",
              "      <td>3</td>\n",
              "      <td>201</td>\n",
              "      <td>23</td>\n",
              "      <td>2</td>\n",
              "      <td>2017</td>\n",
              "      <td>día</td>\n",
              "      <td>Patroclo</td>\n",
              "      <td>TC</td>\n",
              "      <td>20</td>\n",
              "      <td>Torre P Salón 303</td>\n",
              "      <td>9:00 a.m.</td>\n",
              "      <td>09:16:00</td>\n",
              "      <td>10:31:00</td>\n",
              "      <td>1.5</td>\n",
              "      <td>0.5</td>\n",
              "      <td>0.0</td>\n",
              "      <td>0.0</td>\n",
              "      <td>0.0</td>\n",
              "      <td>0.0</td>\n",
              "      <td>0.0</td>\n",
              "      <td>0.0</td>\n",
              "      <td>0.5</td>\n",
              "      <td>0.5</td>\n",
              "      <td>0.0</td>\n",
              "    </tr>\n",
              "    <tr>\n",
              "      <th>1</th>\n",
              "      <td>1572</td>\n",
              "      <td>Ingeniería Industrial</td>\n",
              "      <td>G11</td>\n",
              "      <td>3.0</td>\n",
              "      <td>3.0</td>\n",
              "      <td>3.0</td>\n",
              "      <td>0</td>\n",
              "      <td>0.0</td>\n",
              "      <td>Algoritmos y programación</td>\n",
              "      <td>3</td>\n",
              "      <td>201</td>\n",
              "      <td>23</td>\n",
              "      <td>2</td>\n",
              "      <td>2017</td>\n",
              "      <td>día</td>\n",
              "      <td>Patroclo</td>\n",
              "      <td>TC</td>\n",
              "      <td>3</td>\n",
              "      <td>Casa Kra 4ta Salón 301</td>\n",
              "      <td>9:00 a.m.</td>\n",
              "      <td>09:14:00</td>\n",
              "      <td>09:47:00</td>\n",
              "      <td>2.0</td>\n",
              "      <td>0.0</td>\n",
              "      <td>0.0</td>\n",
              "      <td>0.0</td>\n",
              "      <td>0.0</td>\n",
              "      <td>0.5</td>\n",
              "      <td>0.5</td>\n",
              "      <td>0.0</td>\n",
              "      <td>0.5</td>\n",
              "      <td>0.0</td>\n",
              "      <td>0.5</td>\n",
              "    </tr>\n",
              "  </tbody>\n",
              "</table>\n",
              "</div>"
            ],
            "text/plain": [
              "    IDE               programa  IDG  corte1  corte2  ...   p6   p7   p8   p9  p10\n",
              "0  1521   Ingeniería Ambiental  G11     4.0     2.0  ...  0.0  0.0  0.5  0.5  0.0\n",
              "1  1572  Ingeniería Industrial  G11     3.0     3.0  ...  0.5  0.0  0.5  0.0  0.5\n",
              "\n",
              "[2 rows x 33 columns]"
            ]
          },
          "metadata": {
            "tags": []
          },
          "execution_count": 1
        }
      ]
    },
    {
      "cell_type": "code",
      "metadata": {
        "id": "2V9o1A7t573N"
      },
      "source": [
        "df['inicio'].values[0]\n",
        "  for col in df.columns.to_list():\n",
        "    attribute_df.column_names=col \n",
        "    print(attribute_df.column_names)\n",
        "    #data_type= df.dtypes\n",
        "    #switch \n",
        "    #print(type_data)"
      ],
      "execution_count": 2,
      "outputs": []
    },
    {
      "cell_type": "code",
      "metadata": {
        "id": "Z9YNRch-4H9t",
        "outputId": "e78f2e03-9e79-4966-c3d6-f0f149f57173",
        "colab": {
          "base_uri": "https://localhost:8080/",
          "height": 345
        }
      },
      "source": [
        "def create_attribute_df():\n",
        "  df = pd.read_excel('examen3.xlsx')\n",
        "  attribute_df = pd.DataFrame(columns=['column_names','data_type','variable_type','quantity_unique_values','quantity_null_values','most_repeated_value','frec_most_repeated_value','max_value','min_value'])\n",
        "  for (columnname,columndata) in df.iteritems():\n",
        "    \n",
        "    data=get_column_data(columnname,columndata)\n",
        "    # identificar el siguiente index \n",
        "    attribute_df_length=len(attribute_df)\n",
        "    # asignar datos al ultimo index \n",
        "    attribute_df.loc[attribute_df_length]=data\n",
        "  display(attribute_df)\n",
        "  \n",
        "  \n",
        "  \n",
        "  \n",
        "  \n",
        "def get_column_data(columnname,columndata): \n",
        "  attributes=[]\n",
        "  # Capturar nombre de la columna\n",
        "  attributes.append(columnname)\n",
        "  # tipo de dato\n",
        "  attributes.append(get_column_type(columndata))\n",
        "\n",
        "  attributes.append(columnname)\n",
        "  attributes.append(columnname)\n",
        "  attributes.append(columnname)\n",
        "  attributes.append(columnname)\n",
        "  attributes.append(columnname)\n",
        "  attributes.append(columnname)\n",
        "  attributes.append(columnname)\n",
        "  \n",
        "  return attributes\n",
        "\n",
        "def get_column_type(columndata): \n",
        "  columntype=columndata.dtypes.to_list()\n",
        "  columntypef=''\n",
        "  if 'int' in columntype:\n",
        "    columntypef='int'\n",
        "  if 'float' in columntype:\n",
        "    columntypef='float'\n",
        "  return columntypef\n",
        "\n",
        "\n",
        "  \n",
        "  \n",
        "  \n",
        "  \n",
        "  \n",
        "  \n",
        "  \n",
        "  #df1=['a','b','c','d','f','g','h','i','j']\n",
        "  #attribute_df_length=len(attribute_df)\n",
        "  #attribute_df.loc[attribute_df_length]=df1\n",
        "  #attribute_df['column_names']=df.columns.to_list\n",
        "#  display(attribute_df)\n",
        "\n",
        "\n",
        "\n",
        "create_attribute_df()"
      ],
      "execution_count": 17,
      "outputs": [
        {
          "output_type": "error",
          "ename": "AttributeError",
          "evalue": "ignored",
          "traceback": [
            "\u001b[0;31m---------------------------------------------------------------------------\u001b[0m",
            "\u001b[0;31mAttributeError\u001b[0m                            Traceback (most recent call last)",
            "\u001b[0;32m<ipython-input-17-64d1aff0c2b0>\u001b[0m in \u001b[0;36m<module>\u001b[0;34m()\u001b[0m\n\u001b[1;32m     57\u001b[0m \u001b[0;34m\u001b[0m\u001b[0m\n\u001b[1;32m     58\u001b[0m \u001b[0;34m\u001b[0m\u001b[0m\n\u001b[0;32m---> 59\u001b[0;31m \u001b[0mcreate_attribute_df\u001b[0m\u001b[0;34m(\u001b[0m\u001b[0;34m)\u001b[0m\u001b[0;34m\u001b[0m\u001b[0;34m\u001b[0m\u001b[0m\n\u001b[0m",
            "\u001b[0;32m<ipython-input-17-64d1aff0c2b0>\u001b[0m in \u001b[0;36mcreate_attribute_df\u001b[0;34m()\u001b[0m\n\u001b[1;32m      4\u001b[0m   \u001b[0;32mfor\u001b[0m \u001b[0;34m(\u001b[0m\u001b[0mcolumnname\u001b[0m\u001b[0;34m,\u001b[0m\u001b[0mcolumndata\u001b[0m\u001b[0;34m)\u001b[0m \u001b[0;32min\u001b[0m \u001b[0mdf\u001b[0m\u001b[0;34m.\u001b[0m\u001b[0miteritems\u001b[0m\u001b[0;34m(\u001b[0m\u001b[0;34m)\u001b[0m\u001b[0;34m:\u001b[0m\u001b[0;34m\u001b[0m\u001b[0;34m\u001b[0m\u001b[0m\n\u001b[1;32m      5\u001b[0m \u001b[0;34m\u001b[0m\u001b[0m\n\u001b[0;32m----> 6\u001b[0;31m     \u001b[0mdata\u001b[0m\u001b[0;34m=\u001b[0m\u001b[0mget_column_data\u001b[0m\u001b[0;34m(\u001b[0m\u001b[0mcolumnname\u001b[0m\u001b[0;34m,\u001b[0m\u001b[0mcolumndata\u001b[0m\u001b[0;34m)\u001b[0m\u001b[0;34m\u001b[0m\u001b[0;34m\u001b[0m\u001b[0m\n\u001b[0m\u001b[1;32m      7\u001b[0m     \u001b[0;31m# identificar el siguiente index\u001b[0m\u001b[0;34m\u001b[0m\u001b[0;34m\u001b[0m\u001b[0;34m\u001b[0m\u001b[0m\n\u001b[1;32m      8\u001b[0m     \u001b[0mattribute_df_length\u001b[0m\u001b[0;34m=\u001b[0m\u001b[0mlen\u001b[0m\u001b[0;34m(\u001b[0m\u001b[0mattribute_df\u001b[0m\u001b[0;34m)\u001b[0m\u001b[0;34m\u001b[0m\u001b[0;34m\u001b[0m\u001b[0m\n",
            "\u001b[0;32m<ipython-input-17-64d1aff0c2b0>\u001b[0m in \u001b[0;36mget_column_data\u001b[0;34m(columnname, columndata)\u001b[0m\n\u001b[1;32m     20\u001b[0m   \u001b[0mattributes\u001b[0m\u001b[0;34m.\u001b[0m\u001b[0mappend\u001b[0m\u001b[0;34m(\u001b[0m\u001b[0mcolumnname\u001b[0m\u001b[0;34m)\u001b[0m\u001b[0;34m\u001b[0m\u001b[0;34m\u001b[0m\u001b[0m\n\u001b[1;32m     21\u001b[0m   \u001b[0;31m# tipo de dato\u001b[0m\u001b[0;34m\u001b[0m\u001b[0;34m\u001b[0m\u001b[0;34m\u001b[0m\u001b[0m\n\u001b[0;32m---> 22\u001b[0;31m   \u001b[0mattributes\u001b[0m\u001b[0;34m.\u001b[0m\u001b[0mappend\u001b[0m\u001b[0;34m(\u001b[0m\u001b[0mget_column_type\u001b[0m\u001b[0;34m(\u001b[0m\u001b[0mcolumndata\u001b[0m\u001b[0;34m)\u001b[0m\u001b[0;34m)\u001b[0m\u001b[0;34m\u001b[0m\u001b[0;34m\u001b[0m\u001b[0m\n\u001b[0m\u001b[1;32m     23\u001b[0m \u001b[0;34m\u001b[0m\u001b[0m\n\u001b[1;32m     24\u001b[0m   \u001b[0mattributes\u001b[0m\u001b[0;34m.\u001b[0m\u001b[0mappend\u001b[0m\u001b[0;34m(\u001b[0m\u001b[0mcolumnname\u001b[0m\u001b[0;34m)\u001b[0m\u001b[0;34m\u001b[0m\u001b[0;34m\u001b[0m\u001b[0m\n",
            "\u001b[0;32m<ipython-input-17-64d1aff0c2b0>\u001b[0m in \u001b[0;36mget_column_type\u001b[0;34m(columndata)\u001b[0m\n\u001b[1;32m     33\u001b[0m \u001b[0;34m\u001b[0m\u001b[0m\n\u001b[1;32m     34\u001b[0m \u001b[0;32mdef\u001b[0m \u001b[0mget_column_type\u001b[0m\u001b[0;34m(\u001b[0m\u001b[0mcolumndata\u001b[0m\u001b[0;34m)\u001b[0m\u001b[0;34m:\u001b[0m\u001b[0;34m\u001b[0m\u001b[0;34m\u001b[0m\u001b[0m\n\u001b[0;32m---> 35\u001b[0;31m   \u001b[0mcolumntype\u001b[0m\u001b[0;34m=\u001b[0m\u001b[0mcolumndata\u001b[0m\u001b[0;34m.\u001b[0m\u001b[0mdtypes\u001b[0m\u001b[0;34m.\u001b[0m\u001b[0mto_list\u001b[0m\u001b[0;34m(\u001b[0m\u001b[0;34m)\u001b[0m\u001b[0;34m\u001b[0m\u001b[0;34m\u001b[0m\u001b[0m\n\u001b[0m\u001b[1;32m     36\u001b[0m   \u001b[0mcolumntypef\u001b[0m\u001b[0;34m=\u001b[0m\u001b[0;34m''\u001b[0m\u001b[0;34m\u001b[0m\u001b[0;34m\u001b[0m\u001b[0m\n\u001b[1;32m     37\u001b[0m   \u001b[0;32mif\u001b[0m \u001b[0;34m'int'\u001b[0m \u001b[0;32min\u001b[0m \u001b[0mcolumntype\u001b[0m\u001b[0;34m:\u001b[0m\u001b[0;34m\u001b[0m\u001b[0;34m\u001b[0m\u001b[0m\n",
            "\u001b[0;31mAttributeError\u001b[0m: 'numpy.dtype' object has no attribute 'to_list'"
          ]
        }
      ]
    }
  ]
}