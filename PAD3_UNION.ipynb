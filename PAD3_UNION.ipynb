{
  "nbformat": 4,
  "nbformat_minor": 0,
  "metadata": {
    "colab": {
      "name": "PAD3_UNION",
      "provenance": [],
      "collapsed_sections": [],
      "toc_visible": true,
      "include_colab_link": true
    },
    "kernelspec": {
      "name": "python3",
      "display_name": "Python 3"
    }
  },
  "cells": [
    {
      "cell_type": "markdown",
      "metadata": {
        "id": "view-in-github",
        "colab_type": "text"
      },
      "source": [
        "<a href=\"https://colab.research.google.com/github/zbuitrago/Trabajo-3/blob/main/PAD3_UNION.ipynb\" target=\"_parent\"><img src=\"https://colab.research.google.com/assets/colab-badge.svg\" alt=\"Open In Colab\"/></a>"
      ]
    },
    {
      "cell_type": "markdown",
      "metadata": {
        "id": "0XMKV5Pv73rm"
      },
      "source": [
        "---\n",
        "## **Fundamentos de programación para analítica de datos.**\n",
        "---\n",
        ">>**Maestría en Analítica de Datos**\n",
        "\n",
        ">>**Universidad Central  2020 - II**\n",
        "\n",
        "> >*Profesor: Jorge Enrique Victorino Guzman*\n",
        "\n",
        "> >Presentado por: Buitrago Catillo, Zuly - Ochoa Bueno, Oscar Javier - Prada Urbina, Jennifer Vivian.\n",
        "---\n",
        "**Tema:** Calidad de los datos\n",
        "\n",
        "---\n",
        "\n",
        "**Descripción:**\n",
        "\n",
        "A través del ambiente de trabajo de: “Google Colaboratory”, desarrollar y aplicar, los pasos y procesos enfocados a la calidad de datos vistos en clase, usando el archivo llamado: “examen3.xlsx”. Cumpliendo los requerimientos que se describen a continuación:\n",
        "\n"
      ]
    },
    {
      "cell_type": "markdown",
      "metadata": {
        "id": "foqJILO46t_J"
      },
      "source": [
        "---\n",
        "\n",
        "### __Requerimientos__\n",
        "---\n",
        "\n",
        "1. Hacer una función que crea un dataframe a partir de los atributos de los datos de entrada examen3.xlsx , los cuales son:\n",
        "a. Nombre de la columna del dataframe de entrada\n",
        "b. Tipo de dato (incluido: int, float, string, datetime, boolean)\n",
        "c. Tipo de variable (Continua, numérica discreta, categórica)\n",
        "d. Cantidad de valores únicos\n",
        "e. Cantidad de valores nulos\n",
        "f. Valor que más se repite\n",
        "g. Frecuencia del valor que más se repite\n",
        "h. Valor máximo\n",
        "i. Valor mínimo\n",
        "2. Analice el tipo de dato de cada columna para saber si es el correcto. Si no lo es, determine los valores que generan problemas y clasifique los tipos de problemas que aparecen. Luego cree una función que corrija los valores erróneos, y finalmente, verifique que queda el tipo correcto en cada columna. Reporte los datos que cambió.\n",
        "3. Haga una gráfica de distribución univariada por cada columna. En caso de tener una variable categórica y si la cantidad de valores únicos es menor a la raíz cuadrada de la cantidad de registros, haga una gráfica de barras de mayor a menor de la frecuencia de cada categoría. La gráfica con un máximo de hasta 20 barras y el resto se agrupan en una sola barra llamada “ otras ”. Analice cada una de las gráficas.\n",
        "4. Para las variables numéricas, haga un mapa de correlación y analice qué variables tienen una fuerte relación. Luego, haga un gráfico de distribución bivariada con las columnas que tienen una fuerte relación y use esto para deducir reglas entre las variables.\n",
        "5. Para las variables categóricas y ordinales busque relaciones de jerarquía entre las clases. Si hay relación entre las categorías pinte un árbol mostrando esta. Finalmente, deduzca las reglas de relación entre las variables.\n",
        "6. Haga un análisis de los valores faltantes, determine si se presenta algún problema de integridad con la ausencia de los datos. Si es así, use las reglas definidas entre las variables para rellenar con el dato apropiado. Reporte los cambios.\n",
        "7. Analice la ocurrencia de datos duplicados con todos los atributos y con las\n",
        "columnas: {IDE, curso, créditos}. Evalúe si es necesario eliminar registros duplicados para mejorar la calidad de los datos, en tal caso proceda a eliminarlos y reporte las acciones realizadas.\n",
        "8. Identifique, analice y si es posible corrija valores atípicos encontrados en las columnas. Reporte los cambios realizados.\n",
        "9. Teniendo en cuenta el siguiente problema: \" Analizar el desempeño de los\n",
        "estudiantes en el examen y el resto del semestre, relacionado con el profesor, el grupo, el programa académico, y la jornada \" determine e indique qué filas y\n",
        "columnas no son relevantes para este análisis y se pueden filtrar. Finalmente,\n",
        "genere el dataframe depurado con la mejor calidad que se pudo obtener para la\n",
        "tarea que se plantea en este punto.\n",
        "10. Genere conclusiones acerca de todo el proceso de calidad de datos aplicado a la base entregada. Haga una evaluación de la calidad del resultado final y haga recomendaciones para hacer este proceso en el futuro.\n",
        "---"
      ]
    },
    {
      "cell_type": "code",
      "metadata": {
        "id": "46RvMDd95H7N"
      },
      "source": [
        "# Librerias a usar:\n",
        "import pandas as pd\n",
        "import numpy as np\n",
        "import datetime\n",
        "import seaborn as sns\n",
        "import plotly.express as px\n",
        "import matplotlib.pyplot as plt\n",
        "import plotly.graph_objects as go\n",
        "from pylab import *\n",
        "from scipy import stats\n",
        "import statistics\n",
        "from scipy.stats import mode\n",
        "from numpy import nan\n",
        "from datetime import datetime\n",
        "from plotly.subplots import make_subplots\n",
        "\n",
        "# importar archivo Excel:\n",
        "df = pd.read_excel('examen3.xlsx')"
      ],
      "execution_count": 1,
      "outputs": []
    },
    {
      "cell_type": "markdown",
      "metadata": {
        "id": "tJ85Xb8YvSXb"
      },
      "source": [
        "#1.__Inspección__\n",
        "\n",
        "\n",
        "---\n",
        "\n",
        "\n",
        "En esta fase se inicia la revisión a los datos que contiene el archivo \"*examen.xlsx*\", creándose una función **create_attribute_df**, que identifica los tipos de datos para las 33 columnas con información que este archivo contiene, entregando un dataframe llamado \"**attribute_df**\", con la informacion que se describe en el requerimiento número 1.\n"
      ]
    },
    {
      "cell_type": "code",
      "metadata": {
        "id": "U9jTRXME40wf"
      },
      "source": [
        "def create_attribute_df(df):\n",
        "  '''create_attribute_df: función que crea dataframe con atributos de dataframe entrante \n",
        "                  Argumentos:\n",
        "                        df:(Requerido) recibe dataframe  \n",
        "                         \n",
        "                  Retorno: \n",
        "                        attribute_df: dataframe resultante por cada fila tiene la evaluación de cada atributo especificado a continuación:\n",
        "                            column_names: nombre de la columna\n",
        "                            data_type: tipo de dato expresado ( int, float, string, datetime, boolean)\n",
        "                            variable_type : clasificación de variable en:Continua, numérica discreta, categórica\n",
        "                            quantity_unique_values:Cantidad de valores únicos\n",
        "                            quantity_null_values: Cantidad de valores nulos\n",
        "                            most_repeated_value:Valor que más se repite \n",
        "                            frec_most_repeated_value: Frecuencia del valor que más se repite\n",
        "                            max_value:Valor máximo\n",
        "                            min_value:Valor mínimo\n",
        "                         ''' \n",
        "\n",
        "  # Crear dataframe con los atributos solicitados \n",
        "  attribute_df = pd.DataFrame(columns=['column_names','data_type','variable_type','quantity_unique_values','quantity_null_values','most_repeated_value','frec_most_repeated_value','max_value','min_value'])\n",
        "  # Recorrer el dataframe por columnas y obtener la data de cada una\n",
        "  for (columnname,columndata) in df.iteritems():\n",
        "    # Capturar los valores calculados\n",
        "    data=get_column_data(columnname,columndata)\n",
        "    # identificar el siguiente index \n",
        "    attribute_df_length=len(attribute_df)\n",
        "    # asignar datos al ultimo index \n",
        "    attribute_df.loc[attribute_df_length]=data\n",
        "  #display(attribute_df)\n",
        "  return attribute_df\n",
        " \n",
        "  \n",
        "  \n",
        "def get_column_data(columnname,columndata): \n",
        "  '''get_column_data: función que crea un arreglo resultado \n",
        "                  Argumentos:\n",
        "                        columnname:(Requerido) recibe el nombre de la columna\n",
        "                        columndata:(Requerido) recibe los datos de la columna\n",
        "                         \n",
        "                  Retorno: \n",
        "                        attributes: es un arreglo donde cada posición es el resultado de la evaluación de un atributo, descripción por posición\n",
        "                            [0]=column_names : nombre de la columna\n",
        "                            [1]=data_type: tipo de dato expresado ( int, float, string, datetime, boolean)\n",
        "                            [2]=variable_type : clasificación de variable en:Continua, numérica discreta, categórica\n",
        "                            [3]=quantity_unique_values:Cantidad de valores únicos\n",
        "                            [4]=quantity_null_values: Cantidad de valores nulos\n",
        "                            [5]=most_repeated_value:Valor que más se repite \n",
        "                            [6]=frec_most_repeated_value: Frecuencia del valor que más se repite\n",
        "                            [7]=max_value:Valor máximo\n",
        "                            [8]=min_value:Valor mínimo\n",
        "                         ''' \n",
        "\n",
        "  # Definir arreglo \n",
        "  attributes=[]\n",
        "  # Capturar nombre de la columna\n",
        "  attributes.append(columnname)\n",
        "  # tipo de dato\n",
        "  attributes.append(get_column_type(columndata))\n",
        "  # tipo de variable\n",
        "  attributes.append(get_varible_type(get_column_type(columndata)))\n",
        "  # Valores unicos\n",
        "  attributes.append(len(columndata.unique()))\n",
        "  # Valores nulos\n",
        "  attributes.append(len(columndata[columndata.isnull()]))\n",
        "  # Valor que mas se repite\n",
        "  attributes.append(columndata.value_counts().idxmax())\n",
        "  # Frecuencia del valor que mas se repite\n",
        "  attributes.append(columndata.value_counts().max())\n",
        "  # Valor máximo \n",
        "  if get_column_type(columndata)!='string':\n",
        "    \n",
        "    attributes.append(max(columndata))\n",
        "  # Valor mínimo\n",
        "    attributes.append(min(columndata))\n",
        "  elif get_column_type(columndata)=='string':\n",
        "    attributes.append('NA')\n",
        "    attributes.append('NA')\n",
        "\n",
        "  return attributes\n",
        "\n",
        "def get_column_type(columndata): \n",
        "  '''get_column_type: función evalua el tipo de dato y lo normaliza \n",
        "                  Argumentos:\n",
        "                        columndata:(Requerido) recibe los datos de la columna                       \n",
        "                  Retorno: \n",
        "                        columntypef: string que especifica el tipo de dato normalizado\n",
        "                         ''' \n",
        "  # Determinar el tipo de dato por columna\n",
        "  columntype=columndata.dtypes\n",
        "  columntypef=''\n",
        "  # Renombrar el tipo de dato \n",
        "  if columntype=='int64':\n",
        "    columntypef='int'\n",
        "  if columntype =='float64':\n",
        "    columntypef='float'\n",
        "  if columntype=='bool':\n",
        "    columntypef='boolean'\n",
        "  if columntype =='datetime64[ns]':\n",
        "    columntypef='datetime'\n",
        "  if columntype =='object':\n",
        "    columntypef='string'\n",
        "  \n",
        "      \n",
        "  return columntypef\n",
        "\n",
        "def get_varible_type (datatype):\n",
        "  '''get_varible_type: función que retorna el tipo de variable según el tipo de dato de la columna \n",
        "                  Argumentos:\n",
        "                        datatype:(Requerido) recibe el tipo de dato de la columna                       \n",
        "                  Retorno: \n",
        "                        datatype: string que especifica el tipo de variable \n",
        "                         ''' \n",
        "  # clasificación de tipo de variable \n",
        "  if datatype=='int': return 'Discreta'\n",
        "  if datatype=='float' or datatype=='datetime': return 'Continua'\n",
        "  if datatype=='boolean': return 'Cualitativa Dicotomica'\n",
        "  if datatype=='string': return 'Categorica'\n"
      ],
      "execution_count": 2,
      "outputs": []
    },
    {
      "cell_type": "markdown",
      "metadata": {
        "id": "4DPBsm4Rzk7_"
      },
      "source": [
        "Continuando con la inspección de los datos, se ha detectado que algunas columnas no están con el tipo de dato correcto, se ha creado una función llamada: \"**fix_column_data**\", que reconoce y genera el ajuste en los tipos de datos. Como lo solicita el requerimiento número 2.\n",
        "\n",
        "El Dataframe con estos ajustes realizados se llama: \"**fixed_df**\""
      ]
    },
    {
      "cell_type": "code",
      "metadata": {
        "id": "gEaeXwJP43lL"
      },
      "source": [
        "def fix_column_data(df): \n",
        "  '''fix_column_data: función que modifica el tipo de  dato de las columnas que tienen algún o algunos registros errados;\n",
        "                        remplazando datos string por 0 en columnas que deben ser int o float y en las columnas string reemplaza\n",
        "                        los valores númericos por un valor vacio\n",
        "\n",
        "                  Argumentos:\n",
        "                        df:(Requerido) dataframe de entrada\n",
        "                                                \n",
        "                  Retorno: \n",
        "                        fixed_df: copia del dataframe de entrada con algunas columnas modificadas en el tipo de dato de la columna\n",
        "                        ''' \n",
        "\n",
        "\n",
        "  # Copiar el dataframe de entrada\n",
        "  fixed_df=df.copy()  \n",
        "  # Iterar dataframe y obtener el nombre de la columna y los datos de cada una\n",
        "  for (columnname,columndata) in fixed_df.iteritems():\n",
        "  # Evaluar las todas las columnas que son tipo object\n",
        "    if columndata.dtypes =='object':\n",
        "      # Intentar convertir la columna en datetime\n",
        "      try:\n",
        "        fixed_df[columnname]=pd.to_datetime(columndata)\n",
        "        #fixed_df[columnname]=pd.to_timedelta(columndata)\n",
        "      \n",
        "      except:\n",
        "      # Evaluar por cada fila el tipo de dato que se tiene\n",
        "        intsum=0\n",
        "        stringsum=0\n",
        "        floatsum=0\n",
        "        issuestring,issueint=[],[]\n",
        "        for row in columndata:\n",
        "        # Contar la cantidad de datos por cada tipo de dato y crear un arreglo de los datos evaluados \n",
        "          if isinstance(row,int):\n",
        "            intsum=intsum + 1\n",
        "            issueint.append(row)\n",
        "          elif isinstance(row,float):\n",
        "            floatsum=floatsum + 1\n",
        "            issueint.append(row)\n",
        "          elif isinstance(row,str):\n",
        "            stringsum= stringsum+1\n",
        "            issuestring.append(row)\n",
        "        # crear un diccionario con el resultado del conteo \n",
        "        typesdict={'int':intsum,'float':floatsum,'str':stringsum}\n",
        "        # Ordenar el diccionario\n",
        "        sort_type=sorted(typesdict.items(),key=lambda x:x[1],reverse=True)\n",
        "        # Tomar la primera ubicación del diccionario \n",
        "        columntypef=sort_type[0][0]\n",
        "        # Evaluar por el resultado de la variable anterior por que se reemplaza el valor errado\n",
        "        if columntypef== 'int' or columntypef== 'float':\n",
        "          fixed_df.loc[fixed_df[columnname].isin(issuestring), columnname] = 0.0\n",
        "          fixed_df[columnname] = pd.to_numeric(fixed_df[columnname])\n",
        "\n",
        "        elif columntypef== 'str':\n",
        "          fixed_df.loc[fixed_df[columnname].isin(issueint), columnname] = None\n",
        "          fixed_df[columnname] = fixed_df[columnname]\n",
        "\n",
        "  return fixed_df"
      ],
      "execution_count": 3,
      "outputs": []
    },
    {
      "cell_type": "code",
      "metadata": {
        "id": "iHVG1I9huJCK"
      },
      "source": [
        "# Asignar función de cambios de tipo de datos a nuevo dataframe \n",
        "fixed_df=fix_column_data(df)\n",
        "# Evaluar de nuevo la función del punto 2.1\n",
        "attribute_df=create_attribute_df(fixed_df)"
      ],
      "execution_count": 4,
      "outputs": []
    },
    {
      "cell_type": "code",
      "metadata": {
        "id": "VhNW5YArvw34"
      },
      "source": [
        "# Asignar función de cambios de tipo de datos a nuevo dataframe \n",
        "fixed_df=fix_column_data(df)\n",
        "# Evaluar de nuevo la función del punto 2.1\n",
        "attribute_df=create_attribute_df(fixed_df)\n",
        "# Evaluar si el tipo de datos se modificaron el daframe de atributos\n",
        "#display(attribute_df[attribute_df.column_names.isin(['fallas','horaExamen','inicio','final'])])\n",
        "#print(\"En la siguiente tabala se muestra las columnas fallas,horaExamen,inicio,final ya cuentan con el tipo de dato correcto\")"
      ],
      "execution_count": 5,
      "outputs": []
    },
    {
      "cell_type": "markdown",
      "metadata": {
        "id": "IIyKiN4P4cwI"
      },
      "source": [
        "## Punto 3 parte Zuly codigo"
      ]
    },
    {
      "cell_type": "code",
      "metadata": {
        "colab": {
          "base_uri": "https://localhost:8080/",
          "height": 1000
        },
        "id": "XpiJAJBH4PLI",
        "outputId": "f3a8f3dc-1da1-4a75-eea1-74ec676ef6a0"
      },
      "source": [
        "from pylab import *\n",
        "# gráfico de columnas de p1 a p10\n",
        "# Definir espacio \n",
        "fig3_17, axs = plt.subplots(1,1,figsize=(10,7),constrained_layout=True)\n",
        "# Título\n",
        "fig3_17.suptitle('Resumen de notas para puntos p1 a p10', fontsize=16,y=1.05)\n",
        "# lista de columnas a emplear\n",
        "notas=[\"p1\", \"p2\", \"p3\", \"p4\",\"p5\",\"p6\",\"p7\",\"p8\",\"p9\",\"p10\"]\n",
        "i=1\n",
        "# recorrido de columnas \n",
        "for p in notas:\n",
        "  # definición de subplot\n",
        "  subplot(2,5,i)\n",
        "  # datos \n",
        "  dfp = fixed_df[p].value_counts().rename_axis('unique_values').reset_index(name='counts')\n",
        "  # gráfico\n",
        "  fig_318 = fixed_df[p].value_counts().plot(kind='bar',fontsize=8,align='center',zorder=3)\n",
        "  # etiquetas\n",
        "  fig_318.axes.set_title(p,fontsize=12)\n",
        "  fig_318.set_xlabel(\"NOTAS\",fontsize=10)\n",
        "  for index, col in dfp.iterrows():\n",
        "    fig_318.text(col.name, col.counts, round(col.counts,0), color = 'black', ha = \"center\")\n",
        "  fig_318.grid(color='b',alpha=0.5,linestyle='dashed',linewidth=0.5,zorder=0)\n",
        "  i=i+1\n",
        "fig3_17.tight_layout()\n",
        "# gráfico de nsala \n",
        "# Crear primera agrupación por nsala \n",
        "merge=fixed_df.groupby(by=[\"nsala\"], dropna=False).agg({'IDE':'count'}).sort_values(['IDE'], ascending=[False])\n",
        "# Reiniciar index\n",
        "merge.reset_index(inplace = True) \n",
        "# seleccionar los 20 top del groupby\n",
        "merge['nsala']=where(merge.index<=19,merge['nsala'],\"otras\")\n",
        "# Crear categoria de \"otras\" con los resultados no top\n",
        "merge2=merge[merge.index>=20]\n",
        "merge2=merge2.groupby(by=[\"nsala\"], dropna=False).agg({'IDE':'sum'}).sort_values(['IDE'], ascending=[False])\n",
        "merge=merge[merge.index<=19]\n",
        "merge2.reset_index(inplace = True) \n",
        "merge = pd.concat([merge2, merge])\n",
        "merge.reset_index(inplace = True) \n",
        "# gráficar\n",
        "fig3_15, ax = plt.subplots(figsize = (15, 5))\n",
        "sns.barplot(x='nsala', y='IDE', data=merge, ax = ax)\n",
        "plt.title(\"Número de estudiantes por Id sala\",fontsize=15)\n",
        "plt.xlabel(\"Id sala\")\n",
        "plt.ylabel(\"\")\n",
        "for index, col in merge.iterrows():\n",
        "  plt.text(col.name, col.IDE, round(col.IDE,0), color = 'black', ha = \"center\")\n",
        "\n",
        "# Números de id por nombre de sala\n",
        "merge=fixed_df.groupby(by=[\"sala\"], dropna=False).agg({'nsala':'nunique'}).sort_values(['nsala'], ascending=[False])\n",
        "# Reiniciar index\n",
        "merge.reset_index(inplace = True) \n",
        "merge['sala']=where(merge.index<=19,merge['sala'],\"otras\")\n",
        "# gráficar\n",
        "fig3_16, ax = plt.subplots(figsize = (15, 5))\n",
        "sns.barplot(x='sala', y='nsala', data=merge, ax = ax)\n",
        "plt.title(\"Cantidad de Ids por sala\",fontsize=15)\n",
        "plt.xlabel(\"Nombre de la sala\",fontsize=12)\n",
        "plt.xticks(rotation=90)\n",
        "sns.set(rc={'figure.figsize':(10,6.)})\n",
        "plt.ylabel(\"\")\n",
        "\n",
        "for index, col in merge.iterrows():\n",
        "  plt.text(col.name, col.nsala, round(col.nsala,0), color = 'black', ha = \"center\")\n",
        "# Hora de examén\n",
        "fixed_dfm=fixed_df.copy()\n",
        "fixed_dfm[\"horaExamen\"]=[d.time()  for d in fixed_df[\"horaExamen\"]]\n",
        "merge=fixed_dfm.groupby(by=[\"horaExamen\"], dropna=False).agg({'IDE':'count'}).sort_values(['IDE'], ascending=[False])\n",
        "# Reiniciar index\n",
        "merge.reset_index(inplace = True) \n",
        "fig3_18, ax = plt.subplots(figsize = (15, 5))\n",
        "sns.barplot(x='horaExamen', y='IDE', data=merge, ax = ax)\n",
        "plt.title(\"Número de estudiantes por franja horaria\",fontsize=15)\n",
        "plt.xlabel(\"Hora de Examén\",fontsize=12)\n",
        "plt.xticks(rotation=90)\n",
        "sns.set(rc={'figure.figsize':(10,6.)})\n",
        "plt.ylabel(\"\")\n",
        "meanhe = fixed_df['IDE'].count()\n",
        "\n",
        "for index, col in merge.iterrows():\n",
        "  plt.text(col.name, col.IDE, round(col.IDE,0), color = 'black', ha = \"center\")\n",
        "  plt.text(col.name, col.IDE-150, \"{}%\".format(round(col.IDE/meanhe,1)*100), color = 'black', ha = \"center\")\n",
        "# Hora de inicio de examén\n",
        "fixed_dfmh=fixed_df.copy()\n",
        "\n",
        "fixed_dfmh[\"final\"]=fixed_df[\"final\"].dt.strftime('%H:%M')\n",
        "fixed_dfmh[\"inicio\"]=fixed_df[\"inicio\"].dt.strftime('%H:%M')\n",
        "fixed_dfmh[\"final\"].fillna(\"No presento\",inplace=True)\n",
        "fixed_dfmh[\"inicio\"].fillna(\"No presento\",inplace=True)\n",
        "inicio18=fixed_dfmh[fixed_dfmh[\"horaExamen\"]=='6:00 p.m']\n",
        "inicio9=fixed_dfmh[fixed_dfmh[\"horaExamen\"]=='9:00 a.m']\n",
        "\n",
        "inicio18=inicio18.groupby(by=[\"inicio\",\"horaExamen\"], dropna=False).agg({'IDE':'count'}).sort_values(['IDE'], ascending=[False])\n",
        "inicio9=inicio9.groupby(by=[\"inicio\",\"horaExamen\"], dropna=False).agg({'IDE':'count'}).sort_values(['IDE'], ascending=[False])\n",
        "\n",
        "# Reiniciar index\n",
        "inicio9.reset_index(inplace = True) \n",
        "inicio18.reset_index(inplace = True) \n",
        "# seleccionar los 20 top del groupby\n",
        "inicio9['inicio']=where(inicio9.index<=19,inicio9['inicio'],\"otras\")\n",
        "inicio18['inicio']=where(inicio18.index<=19,inicio18['inicio'],\"otras\")\n",
        "# Crear categoria de \"otras\" con los resultados no top\n",
        "merge29=inicio9[inicio9.index>=20]\n",
        "merge218=inicio18[inicio18.index>=20]\n",
        "merge29=merge29.groupby(by=[\"inicio\",\"horaExamen\"], dropna=False).agg({'IDE':'sum'}).sort_values(['IDE'], ascending=[False])\n",
        "merge218=merge218.groupby(by=[\"inicio\",\"horaExamen\"], dropna=False).agg({'IDE':'sum'}).sort_values(['IDE'], ascending=[False])\n",
        "inicio18=inicio18[inicio18.index<=19]\n",
        "inicio9=inicio9[inicio9.index<=19]\n",
        "merge29.reset_index(inplace = True) \n",
        "merge218.reset_index(inplace = True) \n",
        "inicio18 = pd.concat([merge218, inicio18])\n",
        "inicio9 = pd.concat([merge29, inicio9])\n",
        "inicio9.reset_index(inplace = True)\n",
        "inicio18.reset_index(inplace = True)\n",
        "inicio9=inicio9.sort_values('IDE', ascending=False)\n",
        "inicio18=inicio18.sort_values('IDE', ascending=False)\n",
        "# Hora de finalización de examén\n",
        "finicio18=fixed_dfmh[fixed_dfmh[\"horaExamen\"]=='6:00 p.m']\n",
        "finicio9=fixed_dfmh[fixed_dfmh[\"horaExamen\"]=='9:00 a.m']\n",
        "\n",
        "finicio18=finicio18.groupby(by=[\"final\",\"horaExamen\"], dropna=False).agg({'IDE':'count'}).sort_values(['IDE'], ascending=[False])\n",
        "finicio9=finicio9.groupby(by=[\"final\",\"horaExamen\"], dropna=False).agg({'IDE':'count'}).sort_values(['IDE'], ascending=[False])\n",
        "\n",
        "# Reiniciar index\n",
        "finicio9.reset_index(inplace = True) \n",
        "finicio18.reset_index(inplace = True) \n",
        "# seleccionar los 20 top del groupby\n",
        "finicio9['final']=where(finicio9.index<=19,finicio9['final'],\"otras\")\n",
        "finicio18['final']=where(finicio18.index<=19,finicio18['final'],\"otras\")\n",
        "# Crear categoria de \"otras\" con los resultados no top\n",
        "merge29=finicio9[finicio9.index>=20]\n",
        "merge218=finicio18[finicio18.index>=20]\n",
        "merge29=merge29.groupby(by=[\"final\",\"horaExamen\"], dropna=False).agg({'IDE':'sum'}).sort_values(['IDE'], ascending=[False])\n",
        "merge218=merge218.groupby(by=[\"final\",\"horaExamen\"], dropna=False).agg({'IDE':'sum'}).sort_values(['IDE'], ascending=[False])\n",
        "finicio18=finicio18[finicio18.index<=19]\n",
        "finicio9=finicio9[finicio9.index<=19]\n",
        "merge29.reset_index(inplace = True) \n",
        "merge218.reset_index(inplace = True) \n",
        "finicio18 = pd.concat([merge218, finicio18])\n",
        "finicio9 = pd.concat([merge29, finicio9])\n",
        "finicio9.reset_index(inplace = True)\n",
        "finicio18.reset_index(inplace = True)\n",
        "finicio9=finicio9.sort_values('IDE', ascending=False)\n",
        "finicio18=finicio18.sort_values('IDE', ascending=False)\n",
        "\n",
        "\n",
        "fig3_19 = make_subplots(rows=2, cols=2,y_title='Cantidad de estudiantes',\n",
        "                    subplot_titles=('Hora inicio de Examén franja de 9:00 a.m',  'Hora inicio de Examén franja de 6:00 p.m', \n",
        "                                    'Hora final de Examén franja de 9:00 a.m', 'Hora final de Examén franja de 6:00 p.m'))\n",
        "fig3_19.append_trace(                 \n",
        "    go.Bar( x=inicio9['inicio'], y=inicio9['IDE'],marker_color='crimson'),1,1)\n",
        "fig3_19.append_trace(\n",
        "    go.Bar(x=inicio18['inicio'], y=inicio18['IDE'],marker_color='lightslategrey'),1,2)\n",
        "fig3_19.append_trace(\n",
        "    go.Bar(x=finicio9['final'], y=finicio9['IDE'],marker_color='crimson'),2,1)\n",
        "fig3_19.append_trace(\n",
        "    go.Bar(x=finicio18['final'], y=finicio18['IDE'],marker_color='lightslategrey'),2,2)\n",
        "fig3_19['layout']['xaxis3']['title']='hora'\n",
        "fig3_19['layout']['xaxis4']['title']='hora'\n",
        "fig3_19.update_layout(barmode='stack',showlegend=False,\n",
        "   title_text='Número de Estudiante por hora de inicio de examén', # title of plot\n",
        " \n",
        "    bargap=0.2, # gap between bars of adjacent location coordinates\n",
        "    bargroupgap=0.1 # gap between bars of the same location coordinates\n",
        ")\n"
      ],
      "execution_count": 6,
      "outputs": [
        {
          "output_type": "stream",
          "text": [
            "/usr/local/lib/python3.6/dist-packages/ipykernel_launcher.py:25: UserWarning:\n",
            "\n",
            "This figure was using constrained_layout==True, but that is incompatible with subplots_adjust and or tight_layout: setting constrained_layout==False. \n",
            "\n"
          ],
          "name": "stderr"
        },
        {
          "output_type": "display_data",
          "data": {
            "text/html": [
              "<html>\n",
              "<head><meta charset=\"utf-8\" /></head>\n",
              "<body>\n",
              "    <div>\n",
              "            <script src=\"https://cdnjs.cloudflare.com/ajax/libs/mathjax/2.7.5/MathJax.js?config=TeX-AMS-MML_SVG\"></script><script type=\"text/javascript\">if (window.MathJax) {MathJax.Hub.Config({SVG: {font: \"STIX-Web\"}});}</script>\n",
              "                <script type=\"text/javascript\">window.PlotlyConfig = {MathJaxConfig: 'local'};</script>\n",
              "        <script src=\"https://cdn.plot.ly/plotly-latest.min.js\"></script>    \n",
              "            <div id=\"7bb04acc-7a68-4db1-85f0-0bd3009a5791\" class=\"plotly-graph-div\" style=\"height:525px; width:100%;\"></div>\n",
              "            <script type=\"text/javascript\">\n",
              "                \n",
              "                    window.PLOTLYENV=window.PLOTLYENV || {};\n",
              "                    \n",
              "                if (document.getElementById(\"7bb04acc-7a68-4db1-85f0-0bd3009a5791\")) {\n",
              "                    Plotly.newPlot(\n",
              "                        '7bb04acc-7a68-4db1-85f0-0bd3009a5791',\n",
              "                        [{\"marker\": {\"color\": \"crimson\"}, \"type\": \"bar\", \"x\": [\"No presento\", \"otras\", \"09:11\", \"09:14\", \"09:10\", \"09:13\", \"09:07\", \"09:12\", \"09:08\", \"09:05\", \"09:04\", \"09:09\", \"09:06\", \"09:15\", \"09:16\", \"09:17\", \"09:24\", \"09:26\", \"09:20\", \"09:23\", \"09:18\"], \"xaxis\": \"x\", \"y\": [52, 51, 34, 31, 27, 24, 21, 19, 17, 14, 13, 13, 12, 11, 9, 9, 9, 8, 8, 7, 7], \"yaxis\": \"y\"}, {\"marker\": {\"color\": \"lightslategrey\"}, \"type\": \"bar\", \"x\": [\"No presento\", \"18:14\", \"18:19\", \"otras\", \"18:27\", \"18:12\", \"18:20\", \"18:16\", \"18:13\", \"18:09\", \"18:17\", \"18:25\", \"18:15\", \"18:22\", \"18:21\", \"18:18\", \"18:11\", \"18:10\", \"18:28\", \"18:23\", \"18:24\"], \"xaxis\": \"x2\", \"y\": [52, 28, 24, 16, 15, 11, 11, 10, 8, 7, 6, 6, 6, 5, 5, 5, 5, 4, 4, 3, 3], \"yaxis\": \"y2\"}, {\"marker\": {\"color\": \"crimson\"}, \"type\": \"bar\", \"x\": [\"otras\", \"No presento\", \"10:21\", \"10:14\", \"10:04\", \"10:01\", \"10:02\", \"09:53\", \"09:59\", \"10:00\", \"10:07\", \"09:55\", \"10:15\", \"10:03\", \"09:50\", \"10:27\", \"10:13\", \"10:16\", \"09:54\", \"09:56\", \"10:22\"], \"xaxis\": \"x3\", \"y\": [159, 52, 14, 12, 12, 12, 11, 11, 10, 10, 10, 10, 9, 9, 9, 8, 8, 8, 8, 7, 7], \"yaxis\": \"y3\"}, {\"marker\": {\"color\": \"lightslategrey\"}, \"type\": \"bar\", \"x\": [\"otras\", \"No presento\", \"19:02\", \"18:49\", \"19:00\", \"19:13\", \"19:16\", \"18:48\", \"18:52\", \"19:12\", \"19:11\", \"19:04\", \"19:05\", \"19:07\", \"19:09\", \"19:01\", \"19:15\", \"19:18\", \"19:22\", \"19:30\", \"18:46\"], \"xaxis\": \"x4\", \"y\": [92, 52, 8, 6, 6, 6, 5, 5, 5, 5, 4, 4, 4, 4, 4, 4, 4, 4, 4, 4, 4], \"yaxis\": \"y4\"}],\n",
              "                        {\"annotations\": [{\"font\": {\"size\": 16}, \"showarrow\": false, \"text\": \"Hora inicio de Exam\\u00e9n franja de 9:00 a.m\", \"x\": 0.225, \"xanchor\": \"center\", \"xref\": \"paper\", \"y\": 1.0, \"yanchor\": \"bottom\", \"yref\": \"paper\"}, {\"font\": {\"size\": 16}, \"showarrow\": false, \"text\": \"Hora inicio de Exam\\u00e9n franja de 6:00 p.m\", \"x\": 0.775, \"xanchor\": \"center\", \"xref\": \"paper\", \"y\": 1.0, \"yanchor\": \"bottom\", \"yref\": \"paper\"}, {\"font\": {\"size\": 16}, \"showarrow\": false, \"text\": \"Hora final de Exam\\u00e9n franja de 9:00 a.m\", \"x\": 0.225, \"xanchor\": \"center\", \"xref\": \"paper\", \"y\": 0.375, \"yanchor\": \"bottom\", \"yref\": \"paper\"}, {\"font\": {\"size\": 16}, \"showarrow\": false, \"text\": \"Hora final de Exam\\u00e9n franja de 6:00 p.m\", \"x\": 0.775, \"xanchor\": \"center\", \"xref\": \"paper\", \"y\": 0.375, \"yanchor\": \"bottom\", \"yref\": \"paper\"}, {\"font\": {\"size\": 16}, \"showarrow\": false, \"text\": \"Cantidad de estudiantes\", \"textangle\": -90, \"x\": 0, \"xanchor\": \"right\", \"xref\": \"paper\", \"xshift\": -40, \"y\": 0.5, \"yanchor\": \"middle\", \"yref\": \"paper\"}], \"bargap\": 0.2, \"bargroupgap\": 0.1, \"barmode\": \"stack\", \"showlegend\": false, \"template\": {\"data\": {\"bar\": [{\"error_x\": {\"color\": \"#2a3f5f\"}, \"error_y\": {\"color\": \"#2a3f5f\"}, \"marker\": {\"line\": {\"color\": \"#E5ECF6\", \"width\": 0.5}}, \"type\": \"bar\"}], \"barpolar\": [{\"marker\": {\"line\": {\"color\": \"#E5ECF6\", \"width\": 0.5}}, \"type\": \"barpolar\"}], \"carpet\": [{\"aaxis\": {\"endlinecolor\": \"#2a3f5f\", \"gridcolor\": \"white\", \"linecolor\": \"white\", \"minorgridcolor\": \"white\", \"startlinecolor\": \"#2a3f5f\"}, \"baxis\": {\"endlinecolor\": \"#2a3f5f\", \"gridcolor\": \"white\", \"linecolor\": \"white\", \"minorgridcolor\": \"white\", \"startlinecolor\": \"#2a3f5f\"}, \"type\": \"carpet\"}], \"choropleth\": [{\"colorbar\": {\"outlinewidth\": 0, \"ticks\": \"\"}, \"type\": \"choropleth\"}], \"contour\": [{\"colorbar\": {\"outlinewidth\": 0, \"ticks\": \"\"}, \"colorscale\": [[0.0, \"#0d0887\"], [0.1111111111111111, \"#46039f\"], [0.2222222222222222, \"#7201a8\"], [0.3333333333333333, \"#9c179e\"], [0.4444444444444444, \"#bd3786\"], [0.5555555555555556, \"#d8576b\"], [0.6666666666666666, \"#ed7953\"], [0.7777777777777778, \"#fb9f3a\"], [0.8888888888888888, \"#fdca26\"], [1.0, \"#f0f921\"]], \"type\": \"contour\"}], \"contourcarpet\": [{\"colorbar\": {\"outlinewidth\": 0, \"ticks\": \"\"}, \"type\": \"contourcarpet\"}], \"heatmap\": [{\"colorbar\": {\"outlinewidth\": 0, \"ticks\": \"\"}, \"colorscale\": [[0.0, \"#0d0887\"], [0.1111111111111111, \"#46039f\"], [0.2222222222222222, \"#7201a8\"], [0.3333333333333333, \"#9c179e\"], [0.4444444444444444, \"#bd3786\"], [0.5555555555555556, \"#d8576b\"], [0.6666666666666666, \"#ed7953\"], [0.7777777777777778, \"#fb9f3a\"], [0.8888888888888888, \"#fdca26\"], [1.0, \"#f0f921\"]], \"type\": \"heatmap\"}], \"heatmapgl\": [{\"colorbar\": {\"outlinewidth\": 0, \"ticks\": \"\"}, \"colorscale\": [[0.0, \"#0d0887\"], [0.1111111111111111, \"#46039f\"], [0.2222222222222222, \"#7201a8\"], [0.3333333333333333, \"#9c179e\"], [0.4444444444444444, \"#bd3786\"], [0.5555555555555556, \"#d8576b\"], [0.6666666666666666, \"#ed7953\"], [0.7777777777777778, \"#fb9f3a\"], [0.8888888888888888, \"#fdca26\"], [1.0, \"#f0f921\"]], \"type\": \"heatmapgl\"}], \"histogram\": [{\"marker\": {\"colorbar\": {\"outlinewidth\": 0, \"ticks\": \"\"}}, \"type\": \"histogram\"}], \"histogram2d\": [{\"colorbar\": {\"outlinewidth\": 0, \"ticks\": \"\"}, \"colorscale\": [[0.0, \"#0d0887\"], [0.1111111111111111, \"#46039f\"], [0.2222222222222222, \"#7201a8\"], [0.3333333333333333, \"#9c179e\"], [0.4444444444444444, \"#bd3786\"], [0.5555555555555556, \"#d8576b\"], [0.6666666666666666, \"#ed7953\"], [0.7777777777777778, \"#fb9f3a\"], [0.8888888888888888, \"#fdca26\"], [1.0, \"#f0f921\"]], \"type\": \"histogram2d\"}], \"histogram2dcontour\": [{\"colorbar\": {\"outlinewidth\": 0, \"ticks\": \"\"}, \"colorscale\": [[0.0, \"#0d0887\"], [0.1111111111111111, \"#46039f\"], [0.2222222222222222, \"#7201a8\"], [0.3333333333333333, \"#9c179e\"], [0.4444444444444444, \"#bd3786\"], [0.5555555555555556, \"#d8576b\"], [0.6666666666666666, \"#ed7953\"], [0.7777777777777778, \"#fb9f3a\"], [0.8888888888888888, \"#fdca26\"], [1.0, \"#f0f921\"]], \"type\": \"histogram2dcontour\"}], \"mesh3d\": [{\"colorbar\": {\"outlinewidth\": 0, \"ticks\": \"\"}, \"type\": \"mesh3d\"}], \"parcoords\": [{\"line\": {\"colorbar\": {\"outlinewidth\": 0, \"ticks\": \"\"}}, \"type\": \"parcoords\"}], \"pie\": [{\"automargin\": true, \"type\": \"pie\"}], \"scatter\": [{\"marker\": {\"colorbar\": {\"outlinewidth\": 0, \"ticks\": \"\"}}, \"type\": \"scatter\"}], \"scatter3d\": [{\"line\": {\"colorbar\": {\"outlinewidth\": 0, \"ticks\": \"\"}}, \"marker\": {\"colorbar\": {\"outlinewidth\": 0, \"ticks\": \"\"}}, \"type\": \"scatter3d\"}], \"scattercarpet\": [{\"marker\": {\"colorbar\": {\"outlinewidth\": 0, \"ticks\": \"\"}}, \"type\": \"scattercarpet\"}], \"scattergeo\": [{\"marker\": {\"colorbar\": {\"outlinewidth\": 0, \"ticks\": \"\"}}, \"type\": \"scattergeo\"}], \"scattergl\": [{\"marker\": {\"colorbar\": {\"outlinewidth\": 0, \"ticks\": \"\"}}, \"type\": \"scattergl\"}], \"scattermapbox\": [{\"marker\": {\"colorbar\": {\"outlinewidth\": 0, \"ticks\": \"\"}}, \"type\": \"scattermapbox\"}], \"scatterpolar\": [{\"marker\": {\"colorbar\": {\"outlinewidth\": 0, \"ticks\": \"\"}}, \"type\": \"scatterpolar\"}], \"scatterpolargl\": [{\"marker\": {\"colorbar\": {\"outlinewidth\": 0, \"ticks\": \"\"}}, \"type\": \"scatterpolargl\"}], \"scatterternary\": [{\"marker\": {\"colorbar\": {\"outlinewidth\": 0, \"ticks\": \"\"}}, \"type\": \"scatterternary\"}], \"surface\": [{\"colorbar\": {\"outlinewidth\": 0, \"ticks\": \"\"}, \"colorscale\": [[0.0, \"#0d0887\"], [0.1111111111111111, \"#46039f\"], [0.2222222222222222, \"#7201a8\"], [0.3333333333333333, \"#9c179e\"], [0.4444444444444444, \"#bd3786\"], [0.5555555555555556, \"#d8576b\"], [0.6666666666666666, \"#ed7953\"], [0.7777777777777778, \"#fb9f3a\"], [0.8888888888888888, \"#fdca26\"], [1.0, \"#f0f921\"]], \"type\": \"surface\"}], \"table\": [{\"cells\": {\"fill\": {\"color\": \"#EBF0F8\"}, \"line\": {\"color\": \"white\"}}, \"header\": {\"fill\": {\"color\": \"#C8D4E3\"}, \"line\": {\"color\": \"white\"}}, \"type\": \"table\"}]}, \"layout\": {\"annotationdefaults\": {\"arrowcolor\": \"#2a3f5f\", \"arrowhead\": 0, \"arrowwidth\": 1}, \"coloraxis\": {\"colorbar\": {\"outlinewidth\": 0, \"ticks\": \"\"}}, \"colorscale\": {\"diverging\": [[0, \"#8e0152\"], [0.1, \"#c51b7d\"], [0.2, \"#de77ae\"], [0.3, \"#f1b6da\"], [0.4, \"#fde0ef\"], [0.5, \"#f7f7f7\"], [0.6, \"#e6f5d0\"], [0.7, \"#b8e186\"], [0.8, \"#7fbc41\"], [0.9, \"#4d9221\"], [1, \"#276419\"]], \"sequential\": [[0.0, \"#0d0887\"], [0.1111111111111111, \"#46039f\"], [0.2222222222222222, \"#7201a8\"], [0.3333333333333333, \"#9c179e\"], [0.4444444444444444, \"#bd3786\"], [0.5555555555555556, \"#d8576b\"], [0.6666666666666666, \"#ed7953\"], [0.7777777777777778, \"#fb9f3a\"], [0.8888888888888888, \"#fdca26\"], [1.0, \"#f0f921\"]], \"sequentialminus\": [[0.0, \"#0d0887\"], [0.1111111111111111, \"#46039f\"], [0.2222222222222222, \"#7201a8\"], [0.3333333333333333, \"#9c179e\"], [0.4444444444444444, \"#bd3786\"], [0.5555555555555556, \"#d8576b\"], [0.6666666666666666, \"#ed7953\"], [0.7777777777777778, \"#fb9f3a\"], [0.8888888888888888, \"#fdca26\"], [1.0, \"#f0f921\"]]}, \"colorway\": [\"#636efa\", \"#EF553B\", \"#00cc96\", \"#ab63fa\", \"#FFA15A\", \"#19d3f3\", \"#FF6692\", \"#B6E880\", \"#FF97FF\", \"#FECB52\"], \"font\": {\"color\": \"#2a3f5f\"}, \"geo\": {\"bgcolor\": \"white\", \"lakecolor\": \"white\", \"landcolor\": \"#E5ECF6\", \"showlakes\": true, \"showland\": true, \"subunitcolor\": \"white\"}, \"hoverlabel\": {\"align\": \"left\"}, \"hovermode\": \"closest\", \"mapbox\": {\"style\": \"light\"}, \"paper_bgcolor\": \"white\", \"plot_bgcolor\": \"#E5ECF6\", \"polar\": {\"angularaxis\": {\"gridcolor\": \"white\", \"linecolor\": \"white\", \"ticks\": \"\"}, \"bgcolor\": \"#E5ECF6\", \"radialaxis\": {\"gridcolor\": \"white\", \"linecolor\": \"white\", \"ticks\": \"\"}}, \"scene\": {\"xaxis\": {\"backgroundcolor\": \"#E5ECF6\", \"gridcolor\": \"white\", \"gridwidth\": 2, \"linecolor\": \"white\", \"showbackground\": true, \"ticks\": \"\", \"zerolinecolor\": \"white\"}, \"yaxis\": {\"backgroundcolor\": \"#E5ECF6\", \"gridcolor\": \"white\", \"gridwidth\": 2, \"linecolor\": \"white\", \"showbackground\": true, \"ticks\": \"\", \"zerolinecolor\": \"white\"}, \"zaxis\": {\"backgroundcolor\": \"#E5ECF6\", \"gridcolor\": \"white\", \"gridwidth\": 2, \"linecolor\": \"white\", \"showbackground\": true, \"ticks\": \"\", \"zerolinecolor\": \"white\"}}, \"shapedefaults\": {\"line\": {\"color\": \"#2a3f5f\"}}, \"ternary\": {\"aaxis\": {\"gridcolor\": \"white\", \"linecolor\": \"white\", \"ticks\": \"\"}, \"baxis\": {\"gridcolor\": \"white\", \"linecolor\": \"white\", \"ticks\": \"\"}, \"bgcolor\": \"#E5ECF6\", \"caxis\": {\"gridcolor\": \"white\", \"linecolor\": \"white\", \"ticks\": \"\"}}, \"title\": {\"x\": 0.05}, \"xaxis\": {\"automargin\": true, \"gridcolor\": \"white\", \"linecolor\": \"white\", \"ticks\": \"\", \"title\": {\"standoff\": 15}, \"zerolinecolor\": \"white\", \"zerolinewidth\": 2}, \"yaxis\": {\"automargin\": true, \"gridcolor\": \"white\", \"linecolor\": \"white\", \"ticks\": \"\", \"title\": {\"standoff\": 15}, \"zerolinecolor\": \"white\", \"zerolinewidth\": 2}}}, \"title\": {\"text\": \"N\\u00famero de Estudiante por hora de inicio de exam\\u00e9n\"}, \"xaxis\": {\"anchor\": \"y\", \"domain\": [0.0, 0.45]}, \"xaxis2\": {\"anchor\": \"y2\", \"domain\": [0.55, 1.0]}, \"xaxis3\": {\"anchor\": \"y3\", \"domain\": [0.0, 0.45], \"title\": {\"text\": \"hora\"}}, \"xaxis4\": {\"anchor\": \"y4\", \"domain\": [0.55, 1.0], \"title\": {\"text\": \"hora\"}}, \"yaxis\": {\"anchor\": \"x\", \"domain\": [0.625, 1.0]}, \"yaxis2\": {\"anchor\": \"x2\", \"domain\": [0.625, 1.0]}, \"yaxis3\": {\"anchor\": \"x3\", \"domain\": [0.0, 0.375]}, \"yaxis4\": {\"anchor\": \"x4\", \"domain\": [0.0, 0.375]}},\n",
              "                        {\"responsive\": true}\n",
              "                    ).then(function(){\n",
              "                            \n",
              "var gd = document.getElementById('7bb04acc-7a68-4db1-85f0-0bd3009a5791');\n",
              "var x = new MutationObserver(function (mutations, observer) {{\n",
              "        var display = window.getComputedStyle(gd).display;\n",
              "        if (!display || display === 'none') {{\n",
              "            console.log([gd, 'removed!']);\n",
              "            Plotly.purge(gd);\n",
              "            observer.disconnect();\n",
              "        }}\n",
              "}});\n",
              "\n",
              "// Listen for the removal of the full notebook cells\n",
              "var notebookContainer = gd.closest('#notebook-container');\n",
              "if (notebookContainer) {{\n",
              "    x.observe(notebookContainer, {childList: true});\n",
              "}}\n",
              "\n",
              "// Listen for the clearing of the current output cell\n",
              "var outputEl = gd.closest('.output');\n",
              "if (outputEl) {{\n",
              "    x.observe(outputEl, {childList: true});\n",
              "}}\n",
              "\n",
              "                        })\n",
              "                };\n",
              "                \n",
              "            </script>\n",
              "        </div>\n",
              "</body>\n",
              "</html>"
            ]
          },
          "metadata": {
            "tags": []
          }
        },
        {
          "output_type": "display_data",
          "data": {
            "image/png": "[encoded data removed]",
            "text/plain": [
              "<Figure size 720x504 with 10 Axes>"
            ]
          },
          "metadata": {
            "tags": [],
            "needs_background": "light"
          }
        },
        {
          "output_type": "display_data",
          "data": {
            "image/png": "[encoded data removed]",
            "text/plain": [
              "<Figure size 1080x360 with 1 Axes>"
            ]
          },
          "metadata": {
            "tags": [],
            "needs_background": "light"
          }
        },
        {
          "output_type": "display_data",
          "data": {
            "image/png": "[encoded data removed]",
            "text/plain": [
              "<Figure size 1080x360 with 1 Axes>"
            ]
          },
          "metadata": {
            "tags": [],
            "needs_background": "light"
          }
        },
        {
          "output_type": "display_data",
          "data": {
            "image/png": "[encoded data removed]",
            "text/plain": [
              "<Figure size 1080x360 with 1 Axes>"
            ]
          },
          "metadata": {
            "tags": []
          }
        }
      ]
    },
    {
      "cell_type": "markdown",
      "metadata": {
        "id": "IPy1APUneFyq"
      },
      "source": [
        "#2._Limpieza_\n",
        "\n",
        "Se corrige las anomalias encontradas en las columnas \"programa\", \"fallas\", \"IDP\" y \"profesor\""
      ]
    },
    {
      "cell_type": "markdown",
      "metadata": {
        "id": "KUWit-dZBte-"
      },
      "source": [
        "####Ocurrencia de datos duplicados"
      ]
    },
    {
      "cell_type": "code",
      "metadata": {
        "id": "naX6tzolB5Yy"
      },
      "source": [
        "# Determinar las si existe columnas duplicadas en el dataframe de atributos\n",
        "mask1 = attribute_df.duplicated(keep=False)\n",
        "t = 0\n",
        "f = 0\n",
        "for i in mask1:\n",
        "  if i == True:\n",
        "    t += 1\n",
        "  else:\n",
        "    f += 1\n",
        "# Asignar función de cambios de tipo de datos a nuevo dataframe \n",
        "fixed_df=fix_column_data(df)\n",
        "# Evaluar de nuevo la función del punto 2.1\n",
        "attribute_df=create_attribute_df(fixed_df)\n",
        "# Determinar filas duplicadas con las columnas IDE, curso y creditos\n",
        "mask = fixed_df[['IDE','curso','creditos']].duplicated(keep=False)\n",
        "lista = []\n",
        "for x in range(len(mask)):\n",
        "  if mask[x] == True:\n",
        "    lista.append(x)\n",
        "data = fixed_df.loc[lista]\n",
        "data.sort_values(['IDE'], ascending=[True], inplace=True)\n",
        "\n",
        "# Eliminar los registros duplicados\n",
        "fixed_df=fixed_df.drop(fixed_df[(fixed_df.corte1 == 0) & (fixed_df.corte2 == 0) & (fixed_df.nota.isnull())].index)\n",
        "fixed_df = fixed_df.drop_duplicates(subset=['IDE', 'curso', 'creditos'], keep='first')\n"
      ],
      "execution_count": 7,
      "outputs": []
    },
    {
      "cell_type": "markdown",
      "metadata": {
        "id": "df-myoXMBhiA"
      },
      "source": [
        "#### Correción de datos atípicos\n"
      ]
    },
    {
      "cell_type": "code",
      "metadata": {
        "id": "Ozn5V79N_Vkj"
      },
      "source": [
        "# Dataframe a emplear es fixed_df\n",
        "# 1. Columna de programa presenta variación en la forma de escritura\n",
        "fixed_df.programa = fixed_df.programa.replace({'Ingeniería Electórnica': 'Ingeniería Electrónica'})\n",
        "fixed_df.programa = fixed_df.programa.replace({'Ingeniería Industial': 'Ingeniería Industrial'})\n",
        "# 2. Corregir IDP \n",
        "fixed_df.loc[fixed_df.IDP==208,'profesor']='Menelao'\n",
        "#3. Corregir jornada\n",
        "programas=['G1','G3','G4','G6','G8','G9','G11','G14','G15','G32','G33']\n",
        "for p in programas:\n",
        "  fixed_df.loc[fixed_df['IDG']==(p),'jornada']=\"día\"\n",
        "#4. Corregir dedicacion\n",
        "fixed_df.dedicacion = fixed_df.dedicacion.replace({'tc': 'TC'})\n",
        "#5. Calcular la sumatoria de las notas\n",
        "fixed_df['nota'] = fixed_df[['p1','p2','p3','p4','p5','p6','p7','p8','p9','p10']].sum(axis=1)\n",
        "# 6. Franja horaria \n",
        "dfh=df[(df['horaExamen'].isin(['9:00 a.m.']))&(df['inicio'].notnull()) & (df['inicio'].astype(str).str[0:2].str.contains('9')== False)]\n",
        "dfh1=df[(df['horaExamen'].isin(['6:00 p.m.']))&(df['inicio'].notnull()) & (df['inicio'].astype(str).str[0:2].str.contains('18')== False)]\n",
        "dfh = pd.concat([dfh,dfh1])\n",
        "dfh=pd.DataFrame(dfh,columns=['IDE','horaExamen','inicio','final'])\n",
        "# Cambio en registros de las columnas inicio y final\n",
        "fixed_df.loc[fixed_df.IDE == 1579, 'inicio'] = fixed_df['horaExamen']\n",
        "fixed_df.loc[fixed_df.IDE == 1702, 'inicio'] = fixed_df['horaExamen']\n",
        "fixed_df.loc[fixed_df.IDE == 1831, 'inicio'] = fixed_df['horaExamen']\n",
        "fixed_df.loc[fixed_df.IDE == 1900, 'inicio'] = fixed_df['horaExamen'][146]\n",
        "fixed_df.loc[fixed_df.IDE == 1681, 'inicio'] = fixed_df['horaExamen'][146]\n",
        "\n",
        "dfhf=fixed_df[fixed_df['IDE'].isin([1579,1702,1831,1900,1681])]\n",
        "dfhf=pd.DataFrame(dfhf,columns=['IDE','horaExamen','inicio','final'])\n"
      ],
      "execution_count": 11,
      "outputs": []
    },
    {
      "cell_type": "markdown",
      "metadata": {
        "id": "eAJIrU4UmB3a"
      },
      "source": [
        "#3._Tratamiento de Datos Faltantes_"
      ]
    },
    {
      "cell_type": "code",
      "metadata": {
        "id": "rtJz3ESsGHvJ"
      },
      "source": [
        "# Reemplazar datos faltantes en columna de final e inicio con \"No presento\"\n",
        "fixed_df[\"final\"].fillna(\"No presento\",inplace=True)\n",
        "fixed_df[\"inicio\"].fillna(\"No presento\",inplace=True)\n",
        "#Reemplazar datos faltantes en las demas columnas\n",
        "notas=[\"p1\", \"p2\", \"p3\", \"p4\",\"p5\",\"p6\",\"p7\",\"p8\",\"p9\",\"p10\"]\n",
        "for n in notas:\n",
        "  fixed_df[n] = fixed_df[n].replace(np.nan,0)\n"
      ],
      "execution_count": null,
      "outputs": []
    },
    {
      "cell_type": "markdown",
      "metadata": {
        "id": "wW-sfB-0mZ_2"
      },
      "source": [
        "#4._Verificación_"
      ]
    },
    {
      "cell_type": "code",
      "metadata": {
        "id": "7gxHccb1Xmrx"
      },
      "source": [
        "final_df=fixed_df.loc[:, ['IDE','programa','IDG','corte1','corte2','prom','IDP','nestud','jornada','profesor','dedicacion','horaExamen','inicio','final','nota']].copy()\n"
      ],
      "execution_count": 13,
      "outputs": []
    },
    {
      "cell_type": "markdown",
      "metadata": {
        "id": "hwxLJfHOmhAy"
      },
      "source": [
        "#5._Informe_"
      ]
    },
    {
      "cell_type": "markdown",
      "metadata": {
        "id": "6MZFB7J84pza"
      },
      "source": [
        "###Resultados de inspección"
      ]
    },
    {
      "cell_type": "markdown",
      "metadata": {
        "id": "dFjtgP3A8IuM"
      },
      "source": [
        "####Análisis de tipo de dato errado\n"
      ]
    },
    {
      "cell_type": "code",
      "metadata": {
        "id": "SocQQpP78JFJ"
      },
      "source": [
        "# Cargue de dataframe del punto 2.1\n",
        "attribute_df=create_attribute_df(df)\n",
        "print(\"Resultado de los atributos de la columna fallas\")\n",
        "display(attribute_df[attribute_df.column_names=='fallas'])\n",
        "# Visualidar valores unicos de la columna fallas \n",
        "print('Valores unicos de la columna fallas',df.fallas.unique())\n",
        "print(\"\")\n",
        "print('\\033[1m'+\"Se evidencia que la columna fallas tiene datos errados para el tipo de columna como lo son: nada,ninguna y no.\")\n",
        "print(\"Esto nos genera un error al momento de evaluar le tipo de dato de la columna. Además de no evaluar correctamente\\n\"\n",
        "      \"los atributos de máximo, mínimo,valor que más se repite y su frecuencia.\"+\"\\033[0;0m\")\n",
        "\n",
        "print(\"\\nResultado de los atributos de la columnas horaExamen,inicio,final\")\n",
        "display(attribute_df[attribute_df.column_names.isin(['horaExamen','inicio','final'])])\n",
        "#Mirar que datos tienen las columnas horaExamen,inicio,final\n",
        "print('Valores unicos de la columna horaExamen:\\n',df.horaExamen.unique(),'\\n')\n",
        "print('Valores unicos de la columna inicio:\\n',df.inicio.unique()[:10],'\\n')\n",
        "print('Valores unicos de la columna final:\\n',df.final.unique()[:10],'\\n')\n",
        "\n",
        "print('\\033[1m'+\"\\nSe evidencia que las columnas horaExamen,inicio,final son de tipo datetime.\")\n",
        "print(\"Esto nos genera un error al momento de clasificar la variable . Además de no evaluar correctamente\\n\"\n",
        "      \"los atributos de máximo, mínimo.\"\"\\033[0;0m\")\n",
        "print('\\033[1m'+'--'*50+\"\\033[0;0m\")\n",
        "# Asignar función de cambios de tipo de datos a nuevo dataframe \n",
        "fixed_df=fix_column_data(df)\n",
        "# Evaluar de nuevo la función del punto 2.1\n",
        "attribute_df=create_attribute_df(fixed_df)\n",
        "print('\\033[1m'+\"\\nCorrección de datos\"+\"\\033[0;0m\")\n",
        "# Evaluar si el tipo de datos se modificaron el daframe de atributos\n",
        "display(attribute_df[attribute_df.column_names.isin(['fallas','horaExamen','inicio','final'])])\n",
        "print('\\033[1m'+\"En tabla se muestra las columnas fallas,horaExamen,inicio,final ya cuentan con el tipo de dato correcto\"+\"\\033[0;0m\")"
      ],
      "execution_count": null,
      "outputs": []
    },
    {
      "cell_type": "markdown",
      "metadata": {
        "id": "IQU3Du0R4zKq"
      },
      "source": [
        "#### Análisis de columnas Dataframe"
      ]
    },
    {
      "cell_type": "code",
      "metadata": {
        "id": "4U5PZtsA4qna"
      },
      "source": [
        "fig3_15"
      ],
      "execution_count": null,
      "outputs": []
    },
    {
      "cell_type": "markdown",
      "metadata": {
        "id": "IzHuGvUe5CAn"
      },
      "source": [
        "fig3_15 Gráfico del número de estudiantes por el id de cada sala\n",
        "\n",
        "Análisis del Gráfico 3.15\n",
        "* La cantidad promedio de estudiantes por Id de sala es de  19.69\n",
        "* De los 32 Id de sala se crea una subcategoria de otras de los id (1,17,30,28,8,9,29,10,32,5,7,31). que no se encuentran entre el top 20 "
      ]
    },
    {
      "cell_type": "code",
      "metadata": {
        "id": "kxXSkwnr5IP6"
      },
      "source": [
        "fig3_16"
      ],
      "execution_count": null,
      "outputs": []
    },
    {
      "cell_type": "markdown",
      "metadata": {
        "id": "w9dQ9CD15JRc"
      },
      "source": [
        "fig3_16 Gráfico del número de id de sala por nombre de sala\n",
        "\n",
        "Análisis del Gráfico 3.16\n",
        "* Se cuenta con 21 salas y 11 de estas tienen dos Id diferentes por el mismo nombre. esto tiene como consecuencia que al evaluar la cantidad de estudiantes por nombre de sala se duplicara\n",
        "* Solo 10 de las salas cuentan con Id unico\n"
      ]
    },
    {
      "cell_type": "code",
      "metadata": {
        "id": "svrGbxLv5Orb"
      },
      "source": [
        "fig3_17"
      ],
      "execution_count": null,
      "outputs": []
    },
    {
      "cell_type": "markdown",
      "metadata": {
        "id": "HoiAjIpS5N46"
      },
      "source": [
        "Gráfico 3.17 Resumen gráfico de las calificaciones por cada punto del exámen\n",
        "\n",
        "Análisis del Gráfico 3.17\n",
        "\n",
        "* Las variables [\"p1\", \"p2\", \"p3\", \"p4\",\"p5\",\"p6\",\"p7\",\"p8\",\"p9\",\"p10\"]. se tiene el mismo rango de resultado 0.0 o 0.5, por esto se decide realizar un gráfico conjunto\n",
        "* La cantidad total de registros con notas de 0.5 o 0.0 es de 526, 104 datos se encuentran vacios  \n",
        "* La nota con mayor concurrencia fue 0.0 en los 10 puntos. Esta nota tiene más del 53% de registros por punto\n",
        "* Los puntos (p4,p8,p9,p10) son los que tienen más del 40% de respuestas correctas\n"
      ]
    },
    {
      "cell_type": "code",
      "metadata": {
        "id": "Z7oFa7ZU5VJc"
      },
      "source": [
        "fig3_18"
      ],
      "execution_count": null,
      "outputs": []
    },
    {
      "cell_type": "markdown",
      "metadata": {
        "id": "yyp1zs_s5Ybh"
      },
      "source": [
        "Gráfico 3.18 Número de estudiantes por horario de examén\n",
        "\n",
        "Análisis del Gráfico 3.18\n",
        "\n",
        "* El 60% de estudiantes presentó el examén en la franja de las  9:00  y el 40% lo presento  18:00"
      ]
    },
    {
      "cell_type": "code",
      "metadata": {
        "id": "o2gOGru75c8c"
      },
      "source": [
        "fig3_19"
      ],
      "execution_count": null,
      "outputs": []
    },
    {
      "cell_type": "markdown",
      "metadata": {
        "id": "srqWDntD5fOi"
      },
      "source": [
        "Gráfico 3_19 Segmentación de Cantidad de estudiantes por hora de inicio,finalización  y Franja prevista para la presentacion de examén \n",
        "\n",
        " Análisis del Gráfico 3.19\n",
        "\n",
        "* 104 Estudiantes no presentaron el examén\n",
        "* 293 Estudiantes iniciaron el examén antes de 9:30 a.m \n",
        "* 166 Estudiantes iniciaron el examén antes de 6:30 p.m \n",
        "* Del top 20 la mayoria de estudiantes finalizaron el examén en 1 hora\n"
      ]
    },
    {
      "cell_type": "markdown",
      "metadata": {
        "id": "tCUltzBrCnBH"
      },
      "source": [
        "####Análisis de datos duplicados"
      ]
    },
    {
      "cell_type": "code",
      "metadata": {
        "id": "ZS4VPT_mCx30"
      },
      "source": [
        "print('\\033[1m'+'El dataframe de examen3.xlsx presenta ', t, 'columnas duplicadas\\n'+\"\\033[0;0m\")\n",
        "print('\\033[1m'+'--'*50+\"\\033[0;0m\")\n",
        "print('\\033[1m'+'\\nResumen de columnas con valores nulos y atributos de estas columnas'+\"\\033[0;0m\")\n",
        "display(attribute_df[attribute_df['quantity_null_values']!=0])"
      ],
      "execution_count": null,
      "outputs": []
    },
    {
      "cell_type": "markdown",
      "metadata": {
        "id": "vlJMmPPtHqMf"
      },
      "source": [
        "### Tratamiento de datos faltantes y duplicados"
      ]
    },
    {
      "cell_type": "markdown",
      "metadata": {
        "id": "-UScslqNINHO"
      },
      "source": [
        "**Datos faltantes**\n",
        "\n",
        "El dataframe tiene 630 registros y 33 columnas, los valores faltantes se encuentran en las siguientes columnas: inicio, final,nota,p1,p2,p3,p4,p5,p6,p7,p8,p9 y p10 con un total de 104 registros faltantes.\n",
        "\n",
        "Se procede a completar los datos faltantes las columnas de inicio y final con 'no presento', para evitar confusión al momento de completar las columnas p1 a p10 con ceros de los datos faltantes. Esto con la finalidad de evitar llegar a concluir que las personas que tienen cero en la nota del examén es porque no lo presentaron. Debido que hay estudiantes que si presentaron el examén e igual tienen 0.0\n",
        "\n"
      ]
    },
    {
      "cell_type": "markdown",
      "metadata": {
        "id": "HTUbYne6Lmnx"
      },
      "source": [
        "**Datos duplicados**\n",
        "\n",
        "No se toma como único criterio que los datos se encuentres duplicados de las columnas: {IDE, curso, créditos}. debido que se debe tener presente que algunos de estos tiene alguna calificación en corte1,corte2 o nota. Para eliminar algún registro la nota debe ser nula y el registro en corte1 y corte2 debe ser 0\n"
      ]
    },
    {
      "cell_type": "code",
      "metadata": {
        "id": "2zSjl6lyLm-3"
      },
      "source": [
        "print('Dentro del dataframe existen', len(data), 'filas duplicadas:')\n",
        "print('Se eliminan los datos duplicados dejando el registro inicial' , len(fixed_df), 'de' , len(df), 'iniciales')\n",
        "print('La dimensión final del DataFrame sin duplicados es:' , fixed_df.shape)\n"
      ],
      "execution_count": null,
      "outputs": []
    },
    {
      "cell_type": "markdown",
      "metadata": {
        "id": "lLkaHyri_eGH"
      },
      "source": [
        "### Reporte de datos atípicos"
      ]
    },
    {
      "cell_type": "code",
      "metadata": {
        "colab": {
          "base_uri": "https://localhost:8080/",
          "height": 1000
        },
        "id": "WzYsDtkZ_q_4",
        "outputId": "7c1f8753-7938-4b62-85f4-4d4288eb85f4"
      },
      "source": [
        "print('\\033[1m'+\"Columnas con datos atípicos\\n\")\n",
        "print(\"Columna programa\"+\"\\033[0;0m\")\n",
        "print(df.programa.value_counts())\n",
        "print(\"Los programas de ingeniería industrial y ingeniería Electrónica,presentan variaciónes en cuanto su escritura\")\n",
        "print('\\033[1m'+\"\\nCorrección de datos\")\n",
        "print(\"La columna programa fue modificada en los registros de: Ingeniería Electórnica y Ingeniería Industial\"+\"\\033[0;0m\")\n",
        "print(fixed_df.programa.value_counts())\n",
        "print('\\033[1m'+'--'*50+\"\\033[0;0m\")\n",
        "\n",
        "print('\\033[1m'+\"\\n Columna IDP\"+\"\\033[0;0m\")\n",
        "print(\"EL profesor Eneas tiene dos IDP registrados. El IDP= 208 corresponde al profesor Menelao\")\n",
        "print('IDP de profesor Eneas ->',pd.unique(df[df['profesor'] == 'Eneas' ]['IDP']))\n",
        "print('IDP de profesor Menelao->',pd.unique(df[df['profesor'] == 'Menelao' ]['IDP']))\n",
        "print('\\033[1m'+\"\\nCorrección de datos\"+\"\\033[0;0m\")\n",
        "print('\\033[1m'+\"La columna IDP fue modificada en los registros del profesor Eneas con IDP=208 se asignó al profesor Menelao,\\nquién tiene el mayor número de registros con este IDP\\n\"+\"\\033[0;0m\")\n",
        "print('IDP de profesor Eneas ->',pd.unique(fixed_df[fixed_df['profesor'] == 'Eneas' ]['IDP']))\n",
        "print('IDP de profesor Menelao->',pd.unique(fixed_df[fixed_df['profesor'] == 'Menelao' ]['IDP']))\n",
        "print('\\033[1m'+'--'*50+\"\\033[0;0m\")\n",
        "\n",
        "print('\\033[1m'+\"\\n Columna jornada\"+\"\\033[0;0m\")\n",
        "print(\"Los IDG 'G1','G3','G4','G6','G8','G9','G11','G14','G15','G32','G33'. cuentan con más de una jornada registrada\")\n",
        "programas=['G1','G3','G4','G6','G8','G9','G11','G14','G15','G32','G33']\n",
        "for p in programas:\n",
        "  print('IDG:',p,' ->',pd.unique(df[df['IDG'].isin([p]) ]['jornada']))\n",
        "print('\\033[1m'+\"\\nCorrección de datos\"+\"\\033[0;0m\")\n",
        "print('\\033[1m'+\"La columna jornada fue modificada en los registros de IDG que aparecen a continuación\\ndejando una sola jordana por IDG\"+\"\\033[0;0m\")\n",
        "for p in programas:\n",
        "  print('IDG:',p,' ->',pd.unique(fixed_df[fixed_df['IDG'].isin([p]) ]['jornada']))\n",
        "print('\\033[1m'+'--'*50+\"\\033[0;0m\")\n",
        "\n",
        "print('\\033[1m'+\"\\n Columna dedicacion\"+\"\\033[0;0m\")\n",
        "print(\"dedicacion en TC presenta variación en cuanto su escritura\")\n",
        "print('Valores únicos registrados en dedicacion',df.dedicacion.unique())\n",
        "print('\\033[1m'+\"\\nCorrección de datos\"+\"\\033[0;0m\")\n",
        "print('\\033[1m'+\"La columna dedicacion fue modificada en los registros de tc por TC\"+\"\\033[0;0m\")\n",
        "print('Valores únicos registrados en dedicacion',fixed_df.dedicacion.unique())\n",
        "print('\\033[1m'+'--'*50+\"\\033[0;0m\")\n",
        "\n",
        "print('\\033[1m'+\"\\n Columna nota\"+\"\\033[0;0m\")\n",
        "print(\"nota no debe tomar valores mayores a 5\")\n",
        "print('notas superiores al valor máximo',pd.unique(df[df['nota']>5]['nota']))\n",
        "print('\\033[1m'+\"\\nCorrección de datos\"+\"\\033[0;0m\")\n",
        "print('\\033[1m'+\"se calculo de nuevo la columna nota con los puntos de p1 a p10\"+\"\\033[0;0m\")\n",
        "print('Valor máximo de la columna nota:',fixed_df['nota'].max())\n",
        "print('\\033[1m'+'--'*50+\"\\033[0;0m\")\n",
        "\n",
        "print('\\033[1m'+\"\\n Columnas inicio y final\"+\"\\033[0;0m\")\n",
        "print(\"Registros de inicio y final que presentan alguna anomalía con respecto a la hora de examén\")\n",
        "display(dfh)\n",
        "print('\\033[1m'+\"\\nCorrección de datos\"+\"\\033[0;0m\")\n",
        "print(\"Los siguientes registros fueron ajustados dependiendo la hora de inicio y final del examén\")\n",
        "display(dfhf)"
      ],
      "execution_count": 12,
      "outputs": [
        {
          "output_type": "stream",
          "text": [
            "\u001b[1mColumnas con datos atípicos\n",
            "\n",
            "Columna programa\u001b[0;0m\n",
            "Ingeniería Ambiental      236\n",
            "Ingeniería De Sistemas    144\n",
            "Ingeniería Electrónica     98\n",
            "Ingeniería Industrial      62\n",
            "Ingeniería Mecánica        59\n",
            "Ingeniería Industial       19\n",
            "Ingeniería Electórnica     12\n",
            "Name: programa, dtype: int64\n",
            "Los programas de ingeniería industrial y ingeniería Electrónica,presentan variaciónes en cuanto su escritura\n",
            "\u001b[1m\n",
            "Corrección de datos\n",
            "La columna programa fue modificada en los registros de: Ingeniería Electórnica y Ingeniería Industial\u001b[0;0m\n",
            "Ingeniería Ambiental      220\n",
            "Ingeniería De Sistemas    141\n",
            "Ingeniería Electrónica    106\n",
            "Ingeniería Industrial      77\n",
            "Ingeniería Mecánica        54\n",
            "Name: programa, dtype: int64\n",
            "\u001b[1m----------------------------------------------------------------------------------------------------\u001b[0;0m\n",
            "\u001b[1m\n",
            " Columna IDP\u001b[0;0m\n",
            "EL profesor Eneas tiene dos IDP registrados. El IDP= 208 corresponde al profesor Menelao\n",
            "IDP de profesor Eneas -> [204 208]\n",
            "IDP de profesor Menelao-> [208]\n",
            "\u001b[1m\n",
            "Corrección de datos\u001b[0;0m\n",
            "\u001b[1mLa columna IDP fue modificada en los registros del profesor Eneas con IDP=208 se asignó al profesor Menelao,\n",
            "quién tiene el mayor número de registros con este IDP\n",
            "\u001b[0;0m\n",
            "IDP de profesor Eneas -> [204]\n",
            "IDP de profesor Menelao-> [208]\n",
            "\u001b[1m----------------------------------------------------------------------------------------------------\u001b[0;0m\n",
            "\u001b[1m\n",
            " Columna jornada\u001b[0;0m\n",
            "Los IDG 'G1','G3','G4','G6','G8','G9','G11','G14','G15','G32','G33'. cuentan con más de una jornada registrada\n",
            "IDG: G1  -> ['día' 'noche']\n",
            "IDG: G3  -> ['día' 'noche']\n",
            "IDG: G4  -> ['día' 'noche']\n",
            "IDG: G6  -> ['día' 'noche']\n",
            "IDG: G8  -> ['día' 'noche']\n",
            "IDG: G9  -> ['día' 'noche']\n",
            "IDG: G11  -> ['día' 'noche']\n",
            "IDG: G14  -> ['día' 'noche']\n",
            "IDG: G15  -> ['día' 'noche']\n",
            "IDG: G32  -> ['noche' 'día']\n",
            "IDG: G33  -> ['día' 'noche']\n",
            "\u001b[1m\n",
            "Corrección de datos\u001b[0;0m\n",
            "\u001b[1mLa columna jornada fue modificada en los registros de IDG que aparecen a continuación\n",
            "dejando una sola jordana por IDG\u001b[0;0m\n",
            "IDG: G1  -> ['día']\n",
            "IDG: G3  -> ['día']\n",
            "IDG: G4  -> ['día']\n",
            "IDG: G6  -> ['día']\n",
            "IDG: G8  -> ['día']\n",
            "IDG: G9  -> ['día']\n",
            "IDG: G11  -> ['día']\n",
            "IDG: G14  -> ['día']\n",
            "IDG: G15  -> ['día']\n",
            "IDG: G32  -> ['día']\n",
            "IDG: G33  -> ['día']\n",
            "\u001b[1m----------------------------------------------------------------------------------------------------\u001b[0;0m\n",
            "\u001b[1m\n",
            " Columna dedicacion\u001b[0;0m\n",
            "dedicacion en TC presenta variación en cuanto su escritura\n",
            "Valores únicos registrados en dedicacion ['TC' 'Cátedra' 'tc' 'MT']\n",
            "\u001b[1m\n",
            "Corrección de datos\u001b[0;0m\n",
            "\u001b[1mLa columna dedicacion fue modificada en los registros de tc por TC\u001b[0;0m\n",
            "Valores únicos registrados en dedicacion ['TC' 'Cátedra' 'MT']\n",
            "\u001b[1m----------------------------------------------------------------------------------------------------\u001b[0;0m\n",
            "\u001b[1m\n",
            " Columna nota\u001b[0;0m\n",
            "nota no debe tomar valores mayores a 5\n",
            "notas superiores al valor máximo [9.5 9.6 7.5]\n",
            "\u001b[1m\n",
            "Corrección de datos\u001b[0;0m\n",
            "\u001b[1mse calculo de nuevo la columna nota con los puntos de p1 a p10\u001b[0;0m\n",
            "Valor máximo de la columna nota: 5.0\n",
            "\u001b[1m----------------------------------------------------------------------------------------------------\u001b[0;0m\n",
            "\u001b[1m\n",
            " Columnas inicio y final\u001b[0;0m\n",
            "Registros de inicio y final que presentan alguna anomalía con respecto a la hora de examén\n"
          ],
          "name": "stdout"
        },
        {
          "output_type": "display_data",
          "data": {
            "text/html": [
              "<div>\n",
              "<style scoped>\n",
              "    .dataframe tbody tr th:only-of-type {\n",
              "        vertical-align: middle;\n",
              "    }\n",
              "\n",
              "    .dataframe tbody tr th {\n",
              "        vertical-align: top;\n",
              "    }\n",
              "\n",
              "    .dataframe thead th {\n",
              "        text-align: right;\n",
              "    }\n",
              "</style>\n",
              "<table border=\"1\" class=\"dataframe\">\n",
              "  <thead>\n",
              "    <tr style=\"text-align: right;\">\n",
              "      <th></th>\n",
              "      <th>IDE</th>\n",
              "      <th>horaExamen</th>\n",
              "      <th>inicio</th>\n",
              "      <th>final</th>\n",
              "    </tr>\n",
              "  </thead>\n",
              "  <tbody>\n",
              "    <tr>\n",
              "      <th>146</th>\n",
              "      <td>1831</td>\n",
              "      <td>9:00 a.m.</td>\n",
              "      <td>18:09:00</td>\n",
              "      <td>10:09:00</td>\n",
              "    </tr>\n",
              "    <tr>\n",
              "      <th>239</th>\n",
              "      <td>1702</td>\n",
              "      <td>9:00 a.m.</td>\n",
              "      <td>18:25:00</td>\n",
              "      <td>10:07:00</td>\n",
              "    </tr>\n",
              "    <tr>\n",
              "      <th>271</th>\n",
              "      <td>1900</td>\n",
              "      <td>9:00 a.m.</td>\n",
              "      <td>18:15:00</td>\n",
              "      <td>19:35:00</td>\n",
              "    </tr>\n",
              "    <tr>\n",
              "      <th>438</th>\n",
              "      <td>1681</td>\n",
              "      <td>9:00 a.m.</td>\n",
              "      <td>18:17:00</td>\n",
              "      <td>19:45:00</td>\n",
              "    </tr>\n",
              "    <tr>\n",
              "      <th>280</th>\n",
              "      <td>1579</td>\n",
              "      <td>6:00 p.m.</td>\n",
              "      <td>09:08:00</td>\n",
              "      <td>18:43:00</td>\n",
              "    </tr>\n",
              "  </tbody>\n",
              "</table>\n",
              "</div>"
            ],
            "text/plain": [
              "      IDE horaExamen    inicio     final\n",
              "146  1831  9:00 a.m.  18:09:00  10:09:00\n",
              "239  1702  9:00 a.m.  18:25:00  10:07:00\n",
              "271  1900  9:00 a.m.  18:15:00  19:35:00\n",
              "438  1681  9:00 a.m.  18:17:00  19:45:00\n",
              "280  1579  6:00 p.m.  09:08:00  18:43:00"
            ]
          },
          "metadata": {
            "tags": []
          }
        },
        {
          "output_type": "stream",
          "text": [
            "\u001b[1m\n",
            "Corrección de datos\u001b[0;0m\n",
            "Los siguientes registros fueron ajustados dependiendo la hora de inicio y final del examén\n"
          ],
          "name": "stdout"
        },
        {
          "output_type": "display_data",
          "data": {
            "text/html": [
              "<div>\n",
              "<style scoped>\n",
              "    .dataframe tbody tr th:only-of-type {\n",
              "        vertical-align: middle;\n",
              "    }\n",
              "\n",
              "    .dataframe tbody tr th {\n",
              "        vertical-align: top;\n",
              "    }\n",
              "\n",
              "    .dataframe thead th {\n",
              "        text-align: right;\n",
              "    }\n",
              "</style>\n",
              "<table border=\"1\" class=\"dataframe\">\n",
              "  <thead>\n",
              "    <tr style=\"text-align: right;\">\n",
              "      <th></th>\n",
              "      <th>IDE</th>\n",
              "      <th>horaExamen</th>\n",
              "      <th>inicio</th>\n",
              "      <th>final</th>\n",
              "    </tr>\n",
              "  </thead>\n",
              "  <tbody>\n",
              "    <tr>\n",
              "      <th>146</th>\n",
              "      <td>1831</td>\n",
              "      <td>2020-11-26 09:00:00</td>\n",
              "      <td>2020-11-26 09:00:00</td>\n",
              "      <td>2020-11-26 10:09:00</td>\n",
              "    </tr>\n",
              "    <tr>\n",
              "      <th>239</th>\n",
              "      <td>1702</td>\n",
              "      <td>2020-11-26 09:00:00</td>\n",
              "      <td>2020-11-26 09:00:00</td>\n",
              "      <td>2020-11-26 10:07:00</td>\n",
              "    </tr>\n",
              "    <tr>\n",
              "      <th>270</th>\n",
              "      <td>1900</td>\n",
              "      <td>2020-11-26 09:00:00</td>\n",
              "      <td>2020-11-26 09:00:00</td>\n",
              "      <td>2020-11-26 09:55:00</td>\n",
              "    </tr>\n",
              "    <tr>\n",
              "      <th>280</th>\n",
              "      <td>1579</td>\n",
              "      <td>2020-11-26 18:00:00</td>\n",
              "      <td>2020-11-26 18:00:00</td>\n",
              "      <td>2020-11-26 18:43:00</td>\n",
              "    </tr>\n",
              "    <tr>\n",
              "      <th>437</th>\n",
              "      <td>1681</td>\n",
              "      <td>2020-11-26 09:00:00</td>\n",
              "      <td>2020-11-26 09:00:00</td>\n",
              "      <td>2020-11-26 10:29:00</td>\n",
              "    </tr>\n",
              "  </tbody>\n",
              "</table>\n",
              "</div>"
            ],
            "text/plain": [
              "      IDE          horaExamen              inicio               final\n",
              "146  1831 2020-11-26 09:00:00 2020-11-26 09:00:00 2020-11-26 10:09:00\n",
              "239  1702 2020-11-26 09:00:00 2020-11-26 09:00:00 2020-11-26 10:07:00\n",
              "270  1900 2020-11-26 09:00:00 2020-11-26 09:00:00 2020-11-26 09:55:00\n",
              "280  1579 2020-11-26 18:00:00 2020-11-26 18:00:00 2020-11-26 18:43:00\n",
              "437  1681 2020-11-26 09:00:00 2020-11-26 09:00:00 2020-11-26 10:29:00"
            ]
          },
          "metadata": {
            "tags": []
          }
        }
      ]
    }
  ]
}